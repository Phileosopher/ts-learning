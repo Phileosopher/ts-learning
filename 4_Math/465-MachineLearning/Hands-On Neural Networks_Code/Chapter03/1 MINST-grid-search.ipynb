{
 "cells": [
  {
   "cell_type": "code",
   "execution_count": 2,
   "metadata": {
    "ExecuteTime": {
     "end_time": "2019-02-10T22:41:27.531529Z",
     "start_time": "2019-02-10T22:39:29.608485Z"
    }
   },
   "outputs": [
    {
     "name": "stdout",
     "output_type": "stream",
     "text": [
      "Train on 30000 samples, validate on 10000 samples\n",
      "Epoch 1/1\n",
      "30000/30000 [==============================] - 1s 30us/step - loss: 1.2839 - acc: 0.7063 - val_loss: 0.6154 - val_acc: 0.8544\n",
      "single_f_4_k_(2, 2) Test loss: 0.6154446720123291 Test accuracy: 0.8544\n",
      "Train on 30000 samples, validate on 10000 samples\n",
      "Epoch 1/1\n",
      "30000/30000 [==============================] - 2s 56us/step - loss: 0.9602 - acc: 0.7411 - val_loss: 0.4170 - val_acc: 0.8849\n",
      "single_f_4_k_(4, 4) Test loss: 0.41704569212198256 Test accuracy: 0.8849\n",
      "Train on 30000 samples, validate on 10000 samples\n",
      "Epoch 1/1\n",
      "30000/30000 [==============================] - 3s 88us/step - loss: 1.0912 - acc: 0.6962 - val_loss: 0.4498 - val_acc: 0.8709\n",
      "single_f_4_k_(16, 16) Test loss: 0.4497666299700737 Test accuracy: 0.8709\n",
      "Train on 30000 samples, validate on 10000 samples\n",
      "Epoch 1/1\n",
      "30000/30000 [==============================] - 1s 48us/step - loss: 1.5005 - acc: 0.7322 - val_loss: 0.6552 - val_acc: 0.8611\n",
      "single_f_8_k_(2, 2) Test loss: 0.6552395535945892 Test accuracy: 0.8611\n",
      "Train on 30000 samples, validate on 10000 samples\n",
      "Epoch 1/1\n",
      "30000/30000 [==============================] - 2s 62us/step - loss: 0.9560 - acc: 0.7730 - val_loss: 0.3619 - val_acc: 0.8989\n",
      "single_f_8_k_(4, 4) Test loss: 0.36186674752235415 Test accuracy: 0.8989\n",
      "Train on 30000 samples, validate on 10000 samples\n",
      "Epoch 1/1\n",
      "30000/30000 [==============================] - 3s 92us/step - loss: 0.8655 - acc: 0.7678 - val_loss: 0.3875 - val_acc: 0.8886\n",
      "single_f_8_k_(16, 16) Test loss: 0.38753059591054917 Test accuracy: 0.8886\n",
      "Train on 30000 samples, validate on 10000 samples\n",
      "Epoch 1/1\n",
      "30000/30000 [==============================] - 2s 61us/step - loss: 0.7511 - acc: 0.8246 - val_loss: 0.3462 - val_acc: 0.9037\n",
      "single_f_16_k_(2, 2) Test loss: 0.3462072657465935 Test accuracy: 0.9037\n",
      "Train on 30000 samples, validate on 10000 samples\n",
      "Epoch 1/1\n",
      "30000/30000 [==============================] - 2s 79us/step - loss: 0.7121 - acc: 0.8136 - val_loss: 0.3115 - val_acc: 0.9097\n",
      "single_f_16_k_(4, 4) Test loss: 0.31148103072047234 Test accuracy: 0.9097\n",
      "Train on 30000 samples, validate on 10000 samples\n",
      "Epoch 1/1\n",
      "30000/30000 [==============================] - 3s 99us/step - loss: 0.7761 - acc: 0.7940 - val_loss: 0.3624 - val_acc: 0.8964\n",
      "single_f_16_k_(16, 16) Test loss: 0.3624142749249935 Test accuracy: 0.8964\n"
     ]
    }
   ],
   "source": [
    "%matplotlib inline\n",
    "import keras\n",
    "from keras.datasets import mnist\n",
    "from keras.models import Sequential\n",
    "from keras.layers import Dense, Dropout, Flatten, Conv2D, MaxPooling2D\n",
    "import itertools\n",
    "import os\n",
    "\n",
    "batch_size = 512\n",
    "num_classes = 10\n",
    "epochs = 1\n",
    "N_SAMPLES = 30_000\n",
    "\n",
    "model_directory = '.'\n",
    "\n",
    "# the data, split between train and test sets\n",
    "(X_train, y_train), (X_test, y_test) = mnist.load_data()\n",
    "\n",
    "# input image dimensions\n",
    "img_rows, img_cols = X_train[0].shape\n",
    "\n",
    "# Reshaping the data to use it in our network\n",
    "X_train = X_train.reshape(X_train.shape[0], img_rows, img_cols, 1)\n",
    "X_test = X_test.reshape(X_test.shape[0], img_rows, img_cols, 1)\n",
    "\n",
    "input_shape = (img_rows, img_cols, 1)\n",
    "\n",
    "# Scaling the data\n",
    "X_train = X_train / 255.0\n",
    "X_test = X_test / 255.0\n",
    "\n",
    "# convert class vectors to binary class matrices\n",
    "y_train = keras.utils.to_categorical(y_train, num_classes)\n",
    "y_test = keras.utils.to_categorical(y_test, num_classes)\n",
    "\n",
    "loss = 'categorical_crossentropy'\n",
    "optimizer = 'adam'\n",
    "\n",
    "X_train = X_train[:N_SAMPLES]\n",
    "X_test = X_test[:N_SAMPLES]\n",
    "y_train = y_train[:N_SAMPLES]\n",
    "y_test = y_test[:N_SAMPLES]\n",
    "\n",
    "filters = [4, 8, 16]\n",
    "kernal_sizes = [(2, 2), (4, 4), (16, 16)]\n",
    "\n",
    "for n_filters, kernel_size in itertools.product(filters, kernal_sizes):\n",
    "    model_name = 'single_f_' + str(n_filters) + '_k_' + str(kernel_size)\n",
    "\n",
    "    model = Sequential(name=model_name)\n",
    "    model.add(\n",
    "        Conv2D(\n",
    "            n_filters,\n",
    "            kernel_size=kernel_size,\n",
    "            activation='relu',\n",
    "            input_shape=input_shape))\n",
    "    model.add(Flatten())\n",
    "    model.add(Dense(num_classes, activation='softmax'))\n",
    "\n",
    "    model.compile(loss=loss, optimizer=optimizer, metrics=['accuracy'])\n",
    "\n",
    "    model.fit(\n",
    "        X_train,\n",
    "        y_train,\n",
    "        batch_size=batch_size,\n",
    "        epochs=epochs,\n",
    "        verbose=1,\n",
    "        validation_data=(X_test, y_test))\n",
    "    score = model.evaluate(X_test, y_test, verbose=0)\n",
    "\n",
    "#     print(f'{model_name} Test loss: { score[0]} - Test accuracy: {score[1]}')\n",
    "    print(model_name, 'Test loss:', score[0], 'Test accuracy:', score[1])\n",
    "\n",
    "    model_path = os.path.join(model_directory, model_name)\n",
    "    model.save(model_path)"
   ]
  },
  {
   "cell_type": "code",
   "execution_count": 3,
   "metadata": {
    "ExecuteTime": {
     "end_time": "2019-02-09T23:28:06.162780Z",
     "start_time": "2019-02-09T23:28:05.546222Z"
    }
   },
   "outputs": [
    {
     "data": {
      "image/png": "[encoded data removed]",
      "text/plain": [
       "<Figure size 432x288 with 1 Axes>"
      ]
     },
     "metadata": {
      "needs_background": "light"
     },
     "output_type": "display_data"
    }
   ],
   "source": [
    "import numpy as np\n",
    "from matplotlib import pyplot as plt\n",
    "plt.imshow(X_test[1][..., 0], cmap='Greys')\n",
    "plt.axis('off')\n",
    "plt.show()\n",
    "\n"
   ]
  },
  {
   "cell_type": "code",
   "execution_count": null,
   "metadata": {},
   "outputs": [],
   "source": []
  }
 ],
 "metadata": {
  "kernelspec": {
   "display_name": "Python 3",
   "language": "python",
   "name": "python3"
  },
  "language_info": {
   "codemirror_mode": {
    "name": "ipython",
    "version": 3
   },
   "file_extension": ".py",
   "mimetype": "text/x-python",
   "name": "python",
   "nbconvert_exporter": "python",
   "pygments_lexer": "ipython3",
   "version": "3.7.3"
  }
 },
 "nbformat": 4,
 "nbformat_minor": 2
}
