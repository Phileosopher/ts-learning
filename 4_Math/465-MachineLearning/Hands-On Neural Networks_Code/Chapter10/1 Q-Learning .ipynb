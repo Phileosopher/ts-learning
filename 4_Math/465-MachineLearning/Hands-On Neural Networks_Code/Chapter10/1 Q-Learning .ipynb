{
 "cells": [
  {
   "cell_type": "markdown",
   "metadata": {},
   "source": [
    "# \n",
    "\n",
    "In this iPython notebook we implement a Q-Network algorithm that solves the FrozenLake problem. A nice article to  learn more on the topic: https://medium.com/@awjuliani/simple-reinforcement-learning-with-tensorflow-part-0-q-learning-with-tables-and-neural-networks-d195264329d0\n",
    "\n",
    "# Requirements\n",
    "\n",
    "This code will require the gym enviroment (https://gym.openai.com/) to be installed."
   ]
  },
  {
   "cell_type": "code",
   "execution_count": 20,
   "metadata": {
    "ExecuteTime": {
     "end_time": "2019-04-28T15:56:45.369823Z",
     "start_time": "2019-04-28T15:56:45.365026Z"
    }
   },
   "outputs": [],
   "source": [
    "import gym\n",
    "import numpy as np\n",
    "import random\n",
    "import tensorflow as tf\n",
    "import matplotlib.pyplot as plt\n",
    "plt.rcParams['figure.figsize'] = (16,8)\n",
    "\n",
    "%matplotlib inline"
   ]
  },
  {
   "cell_type": "markdown",
   "metadata": {},
   "source": [
    "### Load the environment"
   ]
  },
  {
   "cell_type": "code",
   "execution_count": 21,
   "metadata": {
    "ExecuteTime": {
     "end_time": "2019-04-28T15:56:45.837618Z",
     "start_time": "2019-04-28T15:56:45.686546Z"
    },
    "scrolled": false
   },
   "outputs": [],
   "source": [
    "env = gym.make('FrozenLake-v0')"
   ]
  },
  {
   "cell_type": "code",
   "execution_count": 22,
   "metadata": {
    "ExecuteTime": {
     "end_time": "2019-04-28T15:56:45.844076Z",
     "start_time": "2019-04-28T15:56:45.838904Z"
    }
   },
   "outputs": [
    {
     "name": "stdout",
     "output_type": "stream",
     "text": [
      "Number of actions 4\n",
      "Number of possible states 16\n"
     ]
    }
   ],
   "source": [
    "\n",
    "n_actions = env.action_space.n\n",
    "n_states = env.observation_space.n\n",
    "\n",
    "# Actions are left, up, right, down\n",
    "print(f'Number of actions {n_actions}')\n",
    "# States are the 16 fields\n",
    "print(f'Number of possible states {n_states}')"
   ]
  },
  {
   "cell_type": "markdown",
   "metadata": {
    "ExecuteTime": {
     "end_time": "2019-04-27T20:59:56.639414Z",
     "start_time": "2019-04-27T20:59:56.628562Z"
    }
   },
   "source": [
    "The enviroment looks at the start:"
   ]
  },
  {
   "cell_type": "code",
   "execution_count": 23,
   "metadata": {
    "ExecuteTime": {
     "end_time": "2019-04-28T15:56:46.092438Z",
     "start_time": "2019-04-28T15:56:46.089099Z"
    }
   },
   "outputs": [
    {
     "name": "stdout",
     "output_type": "stream",
     "text": [
      "\n",
      "\u001b[41mS\u001b[0mFFF\n",
      "FHFH\n",
      "FFFH\n",
      "HFFG\n"
     ]
    }
   ],
   "source": [
    "env.render()"
   ]
  },
  {
   "cell_type": "code",
   "execution_count": 24,
   "metadata": {
    "ExecuteTime": {
     "end_time": "2019-04-28T15:56:46.226542Z",
     "start_time": "2019-04-28T15:56:46.221062Z"
    }
   },
   "outputs": [
    {
     "data": {
      "text/plain": [
       "(0, 0.0, False, {'prob': 0.3333333333333333})"
      ]
     },
     "execution_count": 24,
     "metadata": {},
     "output_type": "execute_result"
    }
   ],
   "source": [
    "env.reset()\n",
    "env.step(1)\n",
    "env.step(2)"
   ]
  },
  {
   "cell_type": "code",
   "execution_count": 25,
   "metadata": {
    "ExecuteTime": {
     "end_time": "2019-04-28T15:56:46.357235Z",
     "start_time": "2019-04-28T15:56:46.354205Z"
    }
   },
   "outputs": [
    {
     "name": "stdout",
     "output_type": "stream",
     "text": [
      "  (Right)\n",
      "\u001b[41mS\u001b[0mFFF\n",
      "FHFH\n",
      "FFFH\n",
      "HFFG\n"
     ]
    }
   ],
   "source": [
    "env.render()"
   ]
  },
  {
   "cell_type": "markdown",
   "metadata": {},
   "source": [
    "## Solving using a Q-Network "
   ]
  },
  {
   "cell_type": "markdown",
   "metadata": {},
   "source": [
    "### Network implementation"
   ]
  },
  {
   "cell_type": "code",
   "execution_count": 26,
   "metadata": {
    "ExecuteTime": {
     "end_time": "2019-04-28T15:56:46.786240Z",
     "start_time": "2019-04-28T15:56:46.783542Z"
    }
   },
   "outputs": [],
   "source": [
    "# Clears the default graph stack and resets the global default graph.\n",
    "# Useful during the testing phase while I experiment in jupyter notebook.\n",
    "tf.reset_default_graph()"
   ]
  },
  {
   "cell_type": "code",
   "execution_count": 27,
   "metadata": {
    "ExecuteTime": {
     "end_time": "2019-04-28T15:56:46.939012Z",
     "start_time": "2019-04-28T15:56:46.923723Z"
    }
   },
   "outputs": [],
   "source": [
    "#  Creating a placeholder for the inputs\n",
    "inputs = tf.placeholder(shape=[1,n_states],dtype=tf.float32)\n"
   ]
  },
  {
   "cell_type": "code",
   "execution_count": 28,
   "metadata": {
    "ExecuteTime": {
     "end_time": "2019-04-28T15:56:47.056459Z",
     "start_time": "2019-04-28T15:56:47.047597Z"
    }
   },
   "outputs": [],
   "source": [
    "# Creating the initial weights as a small randomized matrix\n",
    "# In this simple example we will use only one set of weights\n",
    "mean = 0\n",
    "std = 0.01\n",
    "init_weights = tf.random_uniform([n_states, n_actions], mean, std)\n"
   ]
  },
  {
   "cell_type": "code",
   "execution_count": 29,
   "metadata": {
    "ExecuteTime": {
     "end_time": "2019-04-28T15:56:47.205308Z",
     "start_time": "2019-04-28T15:56:47.195761Z"
    }
   },
   "outputs": [
    {
     "name": "stdout",
     "output_type": "stream",
     "text": [
      "[[0.0091045  0.00994882 0.00258368 0.00716688]\n",
      " [0.00830885 0.00863225 0.00993374 0.00380914]\n",
      " [0.00367674 0.00839159 0.00927766 0.00107243]\n",
      " [0.00236856 0.00051677 0.00685146 0.00173089]\n",
      " [0.00430408 0.00628847 0.00988992 0.00263452]\n",
      " [0.00183048 0.00144256 0.00959374 0.00954259]\n",
      " [0.00075285 0.00165774 0.00211519 0.0010621 ]\n",
      " [0.00398035 0.00594413 0.00964837 0.00286101]\n",
      " [0.00729633 0.00671199 0.00778714 0.00154243]\n",
      " [0.00072523 0.00407604 0.00610985 0.00743805]\n",
      " [0.0072149  0.00716246 0.00957782 0.00265761]\n",
      " [0.0082889  0.00595119 0.00579262 0.00064036]\n",
      " [0.00987939 0.0077068  0.00661001 0.00599952]\n",
      " [0.0044199  0.00936864 0.00350829 0.00263951]\n",
      " [0.00659144 0.00515254 0.00092156 0.00288359]\n",
      " [0.00725825 0.00075709 0.00030617 0.00584852]]\n"
     ]
    }
   ],
   "source": [
    "# Visualizing the initial weights\n",
    "with tf.Session() as sess_test:\n",
    "    print(init_weights.eval())"
   ]
  },
  {
   "cell_type": "code",
   "execution_count": 30,
   "metadata": {
    "ExecuteTime": {
     "end_time": "2019-04-28T15:56:47.369993Z",
     "start_time": "2019-04-28T15:56:47.354830Z"
    }
   },
   "outputs": [],
   "source": [
    "weights = tf.Variable(init_weights)\n",
    "\n",
    "# Matrix product of two arrays\n",
    "q_out = tf.matmul(inputs, weights)\n",
    "predict = tf.argmax(q_out, 1)"
   ]
  },
  {
   "cell_type": "code",
   "execution_count": 31,
   "metadata": {
    "ExecuteTime": {
     "end_time": "2019-04-28T15:56:47.899109Z",
     "start_time": "2019-04-28T15:56:47.878435Z"
    }
   },
   "outputs": [],
   "source": [
    "# We calculate the loss\n",
    "# by taking the sum of squares difference between the target and prediction Q values.\n",
    "next_q = tf.placeholder(shape=[1, n_actions],dtype=tf.float32)\n",
    "loss = tf.reduce_sum(tf.square(next_q - q_out))\n",
    "trainer = tf.train.GradientDescentOptimizer(learning_rate=0.1)\n",
    "update_model = trainer.minimize(loss)"
   ]
  },
  {
   "cell_type": "markdown",
   "metadata": {},
   "source": [
    "### Training the network"
   ]
  },
  {
   "cell_type": "code",
   "execution_count": 32,
   "metadata": {
    "ExecuteTime": {
     "end_time": "2019-04-28T15:57:27.297007Z",
     "start_time": "2019-04-28T15:57:17.601905Z"
    },
    "scrolled": true
   },
   "outputs": [
    {
     "name": "stdout",
     "output_type": "stream",
     "text": [
      "Percent of succesful episodes: 2.2%\n"
     ]
    }
   ],
   "source": [
    "init = tf.global_variables_initializer()\n",
    "\n",
    "# Set learning parameters\n",
    "y = .99\n",
    "epsilon = 0.3\n",
    "num_episodes = 1000\n",
    "epsilon_decay = 0.999\n",
    "max_steps = 20\n",
    "\n",
    "# To keep track of the trainig hisotry\n",
    "step_list = []\n",
    "reward_list = []\n",
    "success = 0\n",
    "\n",
    "\n",
    "def epsilon_greedy(predict, q_out, s, epsilon):\n",
    "    a, q_matrix = sess.run([predict, q_out],\n",
    "                           feed_dict={inputs: np.identity(n_states)[s:s + 1]})\n",
    "    if np.random.rand(1) < epsilon:\n",
    "        a[0] = env.action_space.sample()\n",
    "    return a, q_matrix\n",
    "\n",
    "\n",
    "with tf.Session() as sess:\n",
    "    sess.run(init)\n",
    "    for i in range(num_episodes):\n",
    "        #Reset environment and get first new observation\n",
    "        s = env.reset()\n",
    "        total_reward = 0\n",
    "        done = False\n",
    "\n",
    "        for step in range(max_steps):\n",
    "            # Choose an action using epsilon greedy using the Q-network\n",
    "            a, q_matrix = epsilon_greedy(predict, q_out, s, epsilon)\n",
    "            # Receive new state and reward from environment\n",
    "            s_prime, reward, done, _ = env.step(a[0])\n",
    "            # Calculate Q' using the network\n",
    "            q_prime = sess.run(\n",
    "                q_out,\n",
    "                feed_dict={inputs: np.identity(n_states)[s_prime:s_prime + 1]})\n",
    "            # Obtain max_q_prime and set our target value for chosen action.\n",
    "            max_q_prime = np.max(q_prime)\n",
    "            target_q = q_matrix\n",
    "            target_q[0, a[0]] = reward + y * max_q_prime\n",
    "            # Train our network using target and predicted Q values\n",
    "            _, w_prime = sess.run([update_model, weights],\n",
    "                                  feed_dict={\n",
    "                                      inputs: np.identity(n_states)[s:s + 1],\n",
    "                                      next_q: target_q\n",
    "                                  })\n",
    "            total_reward = total_reward + reward\n",
    "            s = s_prime\n",
    "            # As we train the model reduces epsilon to reduce the random actions\n",
    "            epsilon = epsilon * epsilon_decay\n",
    "            if done == True:\n",
    "                break\n",
    "\n",
    "        step_list.append(step)\n",
    "        reward_list.append(total_reward)\n",
    "\n",
    "print(\"Percent of succesful episodes: \" + str((sum(reward_list) * 100) / num_episodes) +\n",
    "      \"%\")"
   ]
  },
  {
   "cell_type": "markdown",
   "metadata": {},
   "source": [
    "### Some statistics on network performance"
   ]
  },
  {
   "cell_type": "markdown",
   "metadata": {},
   "source": [
    "We can see that the network beings to consistly reach the goal around the 300 episode mark."
   ]
  },
  {
   "cell_type": "code",
   "execution_count": 33,
   "metadata": {
    "ExecuteTime": {
     "end_time": "2019-04-28T16:00:31.654429Z",
     "start_time": "2019-04-28T16:00:31.292255Z"
    },
    "scrolled": true
   },
   "outputs": [
    {
     "data": {
      "image/png": "[encoded data removed]",
      "text/plain": [
       "<Figure size 432x288 with 1 Axes>"
      ]
     },
     "metadata": {
      "needs_background": "light"
     },
     "output_type": "display_data"
    }
   ],
   "source": [
    "fig = plt.figure()\n",
    "plt.plot(reward_list)\n",
    "fig.suptitle('Reward per episode', fontsize=20)\n",
    "plt.xlabel('Episode number', fontsize=18)\n",
    "plt.ylabel('Reward', fontsize=16)\n",
    "\n",
    "plt.show()"
   ]
  },
  {
   "cell_type": "markdown",
   "metadata": {},
   "source": [
    "It also begins to progress through the environment for longer than chance aroudn the 750 mark as well."
   ]
  },
  {
   "cell_type": "code",
   "execution_count": 34,
   "metadata": {
    "ExecuteTime": {
     "end_time": "2019-04-28T16:00:34.933996Z",
     "start_time": "2019-04-28T16:00:34.459084Z"
    },
    "scrolled": false
   },
   "outputs": [
    {
     "data": {
      "text/plain": [
       "Text(0, 0.5, 'Number of steps')"
      ]
     },
     "execution_count": 34,
     "metadata": {},
     "output_type": "execute_result"
    },
    {
     "data": {
      "image/png": "[encoded data removed]",
      "text/plain": [
       "<Figure size 432x288 with 1 Axes>"
      ]
     },
     "metadata": {
      "needs_background": "light"
     },
     "output_type": "display_data"
    }
   ],
   "source": [
    "fig = plt.figure()\n",
    "plt.plot(step_list)\n",
    "fig.suptitle('Number of steps completed per episode', fontsize=20)\n",
    "plt.xlabel('Episode number', fontsize=18)\n",
    "plt.ylabel('Number of steps', fontsize=16)"
   ]
  },
  {
   "cell_type": "code",
   "execution_count": null,
   "metadata": {
    "collapsed": true
   },
   "outputs": [],
   "source": []
  }
 ],
 "metadata": {
  "anaconda-cloud": {},
  "kernelspec": {
   "display_name": "Python 3",
   "language": "python",
   "name": "python3"
  },
  "language_info": {
   "codemirror_mode": {
    "name": "ipython",
    "version": 3
   },
   "file_extension": ".py",
   "mimetype": "text/x-python",
   "name": "python",
   "nbconvert_exporter": "python",
   "pygments_lexer": "ipython3",
   "version": "3.7.3"
  }
 },
 "nbformat": 4,
 "nbformat_minor": 1
}
