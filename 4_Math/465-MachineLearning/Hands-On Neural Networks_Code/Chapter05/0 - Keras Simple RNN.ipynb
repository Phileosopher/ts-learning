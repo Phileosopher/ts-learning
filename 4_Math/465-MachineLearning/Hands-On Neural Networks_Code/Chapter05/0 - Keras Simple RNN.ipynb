{
 "cells": [
  {
   "cell_type": "code",
   "execution_count": 5,
   "metadata": {
    "ExecuteTime": {
     "end_time": "2019-03-31T16:26:12.471826Z",
     "start_time": "2019-03-31T16:25:41.195060Z"
    }
   },
   "outputs": [
    {
     "name": "stdout",
     "output_type": "stream",
     "text": [
      "Epoch 1/50\n",
      " - 0s - loss: 0.0989\n",
      "Epoch 2/50\n",
      " - 0s - loss: 0.0559\n",
      "Epoch 3/50\n",
      " - 0s - loss: 0.0331\n",
      "Epoch 4/50\n",
      " - 0s - loss: 0.0236\n",
      "Epoch 5/50\n",
      " - 0s - loss: 0.0203\n",
      "Epoch 6/50\n",
      " - 0s - loss: 0.0186\n",
      "Epoch 7/50\n",
      " - 0s - loss: 0.0176\n",
      "Epoch 8/50\n",
      " - 0s - loss: 0.0169\n",
      "Epoch 9/50\n",
      " - 0s - loss: 0.0157\n",
      "Epoch 10/50\n",
      " - 0s - loss: 0.0148\n",
      "Epoch 11/50\n",
      " - 0s - loss: 0.0140\n",
      "Epoch 12/50\n",
      " - 0s - loss: 0.0129\n",
      "Epoch 13/50\n",
      " - 0s - loss: 0.0121\n",
      "Epoch 14/50\n",
      " - 0s - loss: 0.0112\n",
      "Epoch 15/50\n",
      " - 0s - loss: 0.0105\n",
      "Epoch 16/50\n",
      " - 0s - loss: 0.0097\n",
      "Epoch 17/50\n",
      " - 0s - loss: 0.0088\n",
      "Epoch 18/50\n",
      " - 0s - loss: 0.0081\n",
      "Epoch 19/50\n",
      " - 0s - loss: 0.0075\n",
      "Epoch 20/50\n",
      " - 0s - loss: 0.0070\n",
      "Epoch 21/50\n",
      " - 0s - loss: 0.0065\n",
      "Epoch 22/50\n",
      " - 0s - loss: 0.0060\n",
      "Epoch 23/50\n",
      " - 0s - loss: 0.0055\n",
      "Epoch 24/50\n",
      " - 0s - loss: 0.0052\n",
      "Epoch 25/50\n",
      " - 0s - loss: 0.0049\n",
      "Epoch 26/50\n",
      " - 0s - loss: 0.0047\n",
      "Epoch 27/50\n",
      " - 0s - loss: 0.0045\n",
      "Epoch 28/50\n",
      " - 0s - loss: 0.0043\n",
      "Epoch 29/50\n",
      " - 0s - loss: 0.0043\n",
      "Epoch 30/50\n",
      " - 0s - loss: 0.0041\n",
      "Epoch 31/50\n",
      " - 0s - loss: 0.0040\n",
      "Epoch 32/50\n",
      " - 0s - loss: 0.0040\n",
      "Epoch 33/50\n",
      " - 0s - loss: 0.0039\n",
      "Epoch 34/50\n",
      " - 0s - loss: 0.0039\n",
      "Epoch 35/50\n",
      " - 0s - loss: 0.0039\n",
      "Epoch 36/50\n",
      " - 0s - loss: 0.0038\n",
      "Epoch 37/50\n",
      " - 0s - loss: 0.0038\n",
      "Epoch 38/50\n",
      " - 0s - loss: 0.0038\n",
      "Epoch 39/50\n",
      " - 0s - loss: 0.0039\n",
      "Epoch 40/50\n",
      " - 0s - loss: 0.0039\n",
      "Epoch 41/50\n",
      " - 0s - loss: 0.0038\n",
      "Epoch 42/50\n",
      " - 0s - loss: 0.0038\n",
      "Epoch 43/50\n",
      " - 0s - loss: 0.0038\n",
      "Epoch 44/50\n",
      " - 0s - loss: 0.0038\n",
      "Epoch 45/50\n",
      " - 0s - loss: 0.0038\n",
      "Epoch 46/50\n",
      " - 0s - loss: 0.0038\n",
      "Epoch 47/50\n",
      " - 0s - loss: 0.0038\n",
      "Epoch 48/50\n",
      " - 0s - loss: 0.0038\n",
      "Epoch 49/50\n",
      " - 0s - loss: 0.0038\n",
      "Epoch 50/50\n",
      " - 0s - loss: 0.0039\n",
      "Train RMSE: 0.67 \n",
      "Test RMSE: 0.70 \n"
     ]
    },
    {
     "data": {
      "image/png": "[encoded data removed]",
      "text/plain": [
       "<Figure size 432x288 with 1 Axes>"
      ]
     },
     "metadata": {
      "needs_background": "light"
     },
     "output_type": "display_data"
    }
   ],
   "source": [
    "%matplotlib inline\n",
    "import numpy\n",
    "import matplotlib.pyplot as plt\n",
    "from pandas import read_csv\n",
    "import math\n",
    "from keras.models import Sequential\n",
    "from keras.layers import Dense\n",
    "from keras.layers import LSTM\n",
    "from sklearn.preprocessing import MinMaxScaler\n",
    "from sklearn.metrics import mean_squared_error\n",
    "import os\n",
    "import numpy as np\n",
    "import math\n",
    "\n",
    "# Necessary for some OSX version\n",
    "os.environ['KMP_DUPLICATE_LIB_OK'] = 'True'\n",
    "\n",
    "LEN_DATASET = 100\n",
    "EPOCHS = 50\n",
    "BATCH_SIZE = 1\n",
    "\n",
    "# It's going to be used to\n",
    "# reshape into X=t and Y=t+1\n",
    "look_back = 1\n",
    "\n",
    "def create_dataset(dataset, look_back=1):\n",
    "    X, Y = [], []\n",
    "    for i in range(len(dataset) - look_back - 1):\n",
    "        a = dataset[i:(i + look_back), 0]\n",
    "        X.append(a)\n",
    "        Y.append(dataset[i + look_back, 0])\n",
    "    return numpy.array(X), numpy.array(Y)\n",
    "\n",
    "\n",
    "# fix a random seed for reproducibility\n",
    "numpy.random.seed(11)\n",
    "\n",
    "sin_wave = np.array(\n",
    "    [math.sin(x) + i * 0.1 for i, x in enumerate(np.arange(LEN_DATASET))])\n",
    "dataset = sin_wave.reshape(len(sin_wave), 1)\n",
    "\n",
    "# normalize the dataset\n",
    "scaler = MinMaxScaler(feature_range=(0, 1))\n",
    "dataset = scaler.fit_transform(dataset)\n",
    "# split into train and test sets\n",
    "train_size = int(len(dataset) * 2/3)\n",
    "test_size = len(dataset) - train_size\n",
    "train, test = dataset[0:train_size, :], dataset[train_size:len(dataset), :]\n",
    "\n",
    "X_train, y_train = create_dataset(train, look_back)\n",
    "X_test, y_test = create_dataset(test, look_back)\n",
    "# reshape input to be [samples, time steps, features]\n",
    "X_train = numpy.reshape(X_train, (X_train.shape[0], 1, X_train.shape[1]))\n",
    "X_test = numpy.reshape(X_test, (X_test.shape[0], 1, X_test.shape[1]))\n",
    "\n",
    "# create and fit the LSTM network\n",
    "model = Sequential()\n",
    "model.add(LSTM(4, input_shape=(1, look_back)))\n",
    "model.add(Dense(1))\n",
    "model.compile(loss='mean_squared_error', optimizer='adam')\n",
    "model.fit(X_train, y_train, epochs=EPOCHS, batch_size=BATCH_SIZE, verbose=2)\n",
    "\n",
    "# Making the predictions\n",
    "predictions_train = model.predict(X_train)\n",
    "predictions_test = model.predict(X_test)\n",
    "\n",
    "# Re-applying the scaling to the predictions\n",
    "predictions_train = scaler.inverse_transform(predictions_train)\n",
    "predictions_test = scaler.inverse_transform(predictions_test)\n",
    "\n",
    "y_train = scaler.inverse_transform([y_train])\n",
    "y_test = scaler.inverse_transform([y_test])\n",
    "\n",
    "# calculate root mean squared error\n",
    "trainScore = math.sqrt(mean_squared_error(y_train[0], predictions_train[:, 0]))\n",
    "testScore = math.sqrt(mean_squared_error(y_test[0], predictions_test[:, 0]))\n",
    "\n",
    "print('Train RMSE: %.2f ' % (trainScore))\n",
    "print('Test RMSE: %.2f ' % (testScore))\n",
    "\n",
    "# shift train predictions for plotting\n",
    "predictions_train_plot = numpy.empty_like(dataset)\n",
    "predictions_train_plot[:, :] = numpy.nan\n",
    "predictions_train_plot[look_back:len(predictions_train) + look_back, :] = predictions_train\n",
    "\n",
    "# shift test predictions for plotting\n",
    "predictions_test_plot = numpy.empty_like(dataset)\n",
    "predictions_test_plot[:, :] = numpy.nan\n",
    "predictions_test_plot[len(predictions_train) + (look_back * 2) + 1:len(dataset) -\n",
    "                1, :] = predictions_test\n",
    "\n",
    "# plot baseline and predictions\n",
    "plt.plot(scaler.inverse_transform(dataset))\n",
    "plt.plot(predictions_train_plot, label='Training set')\n",
    "plt.plot(predictions_test_plot, label='Test set')\n",
    "plt.legend(loc='upper left')\n",
    "plt.show()\n"
   ]
  },
  {
   "cell_type": "code",
   "execution_count": 4,
   "metadata": {
    "ExecuteTime": {
     "end_time": "2019-03-31T16:07:29.775024Z",
     "start_time": "2019-03-31T16:07:29.539709Z"
    }
   },
   "outputs": [
    {
     "data": {
      "text/plain": [
       "[<matplotlib.lines.Line2D at 0x7f21184c9160>]"
      ]
     },
     "execution_count": 4,
     "metadata": {},
     "output_type": "execute_result"
    },
    {
     "data": {
      "image/png": "[encoded data removed]",
      "text/plain": [
       "<Figure size 432x288 with 1 Axes>"
      ]
     },
     "metadata": {
      "needs_background": "light"
     },
     "output_type": "display_data"
    }
   ],
   "source": [
    "plt.plot(sin_wave)"
   ]
  },
  {
   "cell_type": "code",
   "execution_count": null,
   "metadata": {},
   "outputs": [],
   "source": []
  }
 ],
 "metadata": {
  "kernelspec": {
   "display_name": "Python 3",
   "language": "python",
   "name": "python3"
  },
  "language_info": {
   "codemirror_mode": {
    "name": "ipython",
    "version": 3
   },
   "file_extension": ".py",
   "mimetype": "text/x-python",
   "name": "python",
   "nbconvert_exporter": "python",
   "pygments_lexer": "ipython3",
   "version": "3.7.3"
  }
 },
 "nbformat": 4,
 "nbformat_minor": 2
}
