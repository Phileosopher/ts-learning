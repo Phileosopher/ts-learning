{
 "cells": [
  {
   "cell_type": "markdown",
   "metadata": {},
   "source": [
    "# Building Convolutional Autoencoder"
   ]
  },
  {
   "cell_type": "markdown",
   "metadata": {},
   "source": [
    "Just like we learned how to implement autoencoder in the previous section, implementing Convolutional Autoencoder (CAE) is also the same but the only difference is here we use convolutional layers in the encoder and decoder instead of a feedforward network.  We will use the same MNIST dataset to reconstruct the images using CAE."
   ]
  },
  {
   "cell_type": "markdown",
   "metadata": {},
   "source": [
    "## Import the libraries"
   ]
  },
  {
   "cell_type": "markdown",
   "metadata": {},
   "source": [
    "First, let us import all the necessary libraries:\n"
   ]
  },
  {
   "cell_type": "code",
   "execution_count": 1,
   "metadata": {},
   "outputs": [
    {
     "name": "stderr",
     "output_type": "stream",
     "text": [
      "Using TensorFlow backend.\n"
     ]
    }
   ],
   "source": [
    "import warnings\n",
    "warnings.filterwarnings('ignore')\n",
    "\n",
    "from tensorflow.keras.models import Model\n",
    "from tensorflow.keras.layers import Input, Dense, Conv2D, MaxPooling2D, UpSampling2D\n",
    "from tensorflow.keras import backend as K\n",
    "\n",
    "import tensorflow as tf\n",
    "tf.logging.set_verbosity(tf.logging.ERROR)\n",
    "\n",
    "#plotting\n",
    "import matplotlib.pyplot as plt\n",
    "%matplotlib inline\n",
    "\n",
    "#dataset\n",
    "from keras.datasets import mnist\n",
    "import numpy as np"
   ]
  },
  {
   "cell_type": "markdown",
   "metadata": {},
   "source": [
    "## Read and reshape the dataset,"
   ]
  },
  {
   "cell_type": "code",
   "execution_count": 2,
   "metadata": {},
   "outputs": [],
   "source": [
    "(x_train, _), (x_test, _) = mnist.load_data()"
   ]
  },
  {
   "cell_type": "markdown",
   "metadata": {},
   "source": [
    "Normalize the data by dividing with max pixel value which is 255:"
   ]
  },
  {
   "cell_type": "code",
   "execution_count": 3,
   "metadata": {},
   "outputs": [],
   "source": [
    "x_train = x_train.astype('float32') / 255.\n",
    "x_test = x_test.astype('float32') / 255."
   ]
  },
  {
   "cell_type": "markdown",
   "metadata": {},
   "source": [
    "Reshape the images:"
   ]
  },
  {
   "cell_type": "code",
   "execution_count": 4,
   "metadata": {},
   "outputs": [],
   "source": [
    "x_train = np.reshape(x_train, (len(x_train), 28, 28, 1))  \n",
    "x_test = np.reshape(x_test, (len(x_test), 28, 28, 1))  "
   ]
  },
  {
   "cell_type": "markdown",
   "metadata": {},
   "source": [
    "Shape of our dataset:"
   ]
  },
  {
   "cell_type": "code",
   "execution_count": 5,
   "metadata": {
    "scrolled": true
   },
   "outputs": [
    {
     "name": "stdout",
     "output_type": "stream",
     "text": [
      "((60000, 28, 28, 1), (10000, 28, 28, 1))\n"
     ]
    }
   ],
   "source": [
    "print(x_train.shape, x_test.shape)"
   ]
  },
  {
   "cell_type": "markdown",
   "metadata": {},
   "source": [
    "Let us define the shape of our input image:"
   ]
  },
  {
   "cell_type": "code",
   "execution_count": 6,
   "metadata": {},
   "outputs": [],
   "source": [
    "input_image = Input(shape=(28, 28, 1))  "
   ]
  },
  {
   "cell_type": "markdown",
   "metadata": {},
   "source": [
    "# Define the Encoder\n",
    "\n",
    "Now let us define our encoder block. Unlike vanilla autoencoders where we use feedforward networks, here we use convolutional network so our encoder block comprises of three convolutional layer followed by a max pooling layer with relu activations.\n",
    "\n",
    "Define the first convolutional layer followed by a pooling operation:\n",
    "\n"
   ]
  },
  {
   "cell_type": "code",
   "execution_count": 7,
   "metadata": {},
   "outputs": [],
   "source": [
    "x = Conv2D(16, (3, 3), activation='relu', padding='same')(input_image)\n",
    "x = MaxPooling2D((2, 2), padding='same')(x)"
   ]
  },
  {
   "cell_type": "markdown",
   "metadata": {},
   "source": [
    "Second convolutional layer with a max pooling layer:"
   ]
  },
  {
   "cell_type": "code",
   "execution_count": 8,
   "metadata": {},
   "outputs": [],
   "source": [
    "x = Conv2D(8, (3, 3), activation='relu', padding='same')(x)\n",
    "x = MaxPooling2D((2, 2), padding='same')(x)"
   ]
  },
  {
   "cell_type": "markdown",
   "metadata": {},
   "source": [
    "Final convolutional layer with max pooling operation:"
   ]
  },
  {
   "cell_type": "code",
   "execution_count": 9,
   "metadata": {},
   "outputs": [],
   "source": [
    "x = Conv2D(8, (3, 3), activation='relu', padding='same')(x)\n",
    "encoder = MaxPooling2D((2, 2), padding='same')(x)"
   ]
  },
  {
   "cell_type": "markdown",
   "metadata": {},
   "source": [
    "## Define the decoder\n",
    "Now we define our decoder block, we perform the deconvolution operation with three layers i.e we upsample\n",
    "the encodings create by the encoder and reconstructs the original image.\n",
    "\n",
    "Define the first convolutional layer followed by upsampling:\n"
   ]
  },
  {
   "cell_type": "code",
   "execution_count": 10,
   "metadata": {},
   "outputs": [],
   "source": [
    "x = Conv2D(8, (3, 3), activation='relu', padding='same')(encoder)\n",
    "x = UpSampling2D((2, 2))(x)"
   ]
  },
  {
   "cell_type": "markdown",
   "metadata": {},
   "source": [
    "Second convolutional layer with upsampling:"
   ]
  },
  {
   "cell_type": "code",
   "execution_count": 11,
   "metadata": {},
   "outputs": [],
   "source": [
    "x = Conv2D(8, (3, 3), activation='relu', padding='same')(x)\n",
    "x = UpSampling2D((2, 2))(x)"
   ]
  },
  {
   "cell_type": "markdown",
   "metadata": {},
   "source": [
    "Define the final layer:"
   ]
  },
  {
   "cell_type": "code",
   "execution_count": 12,
   "metadata": {},
   "outputs": [],
   "source": [
    "x = Conv2D(16, (3, 3), activation='relu')(x)\n",
    "x = UpSampling2D((2, 2))(x)\n",
    "decoder = Conv2D(1, (3, 3), activation='sigmoid', padding='same')(x)"
   ]
  },
  {
   "cell_type": "markdown",
   "metadata": {},
   "source": [
    "## Build the model\n",
    "\n",
    "Define the model which takes an input image and returns the images generated by the decoder which is reconstructed images:"
   ]
  },
  {
   "cell_type": "code",
   "execution_count": 13,
   "metadata": {},
   "outputs": [],
   "source": [
    "model = Model(input_image, decoder)"
   ]
  },
  {
   "cell_type": "markdown",
   "metadata": {},
   "source": [
    "Compile the model with loss as binary cross entropy and adadelta as an optimizer:"
   ]
  },
  {
   "cell_type": "code",
   "execution_count": 14,
   "metadata": {},
   "outputs": [],
   "source": [
    "model.compile(optimizer='adadelta', loss='binary_crossentropy')"
   ]
  },
  {
   "cell_type": "markdown",
   "metadata": {},
   "source": [
    "Train the model:"
   ]
  },
  {
   "cell_type": "code",
   "execution_count": 15,
   "metadata": {
    "scrolled": false
   },
   "outputs": [
    {
     "name": "stdout",
     "output_type": "stream",
     "text": [
      "Train on 60000 samples, validate on 10000 samples\n",
      "Epoch 1/30\n",
      "60000/60000 [==============================] - 38s 627us/sample - loss: 25.9076 - val_loss: 19.1309\n",
      "Epoch 2/30\n",
      "60000/60000 [==============================] - 37s 624us/sample - loss: 18.6718 - val_loss: 16.7465\n",
      "Epoch 3/30\n",
      "60000/60000 [==============================] - 36s 608us/sample - loss: 16.9866 - val_loss: 15.6448\n",
      "Epoch 4/30\n",
      "60000/60000 [==============================] - 36s 608us/sample - loss: 16.0894 - val_loss: 15.3609\n",
      "Epoch 5/30\n",
      "60000/60000 [==============================] - 37s 609us/sample - loss: 15.6255 - val_loss: 14.8922\n",
      "Epoch 6/30\n",
      "60000/60000 [==============================] - 37s 611us/sample - loss: 15.2303 - val_loss: 14.3815\n",
      "Epoch 7/30\n",
      "60000/60000 [==============================] - 37s 610us/sample - loss: 14.8577 - val_loss: 14.2221\n",
      "Epoch 8/30\n",
      "60000/60000 [==============================] - 36s 608us/sample - loss: 14.6447 - val_loss: 14.1762\n",
      "Epoch 9/30\n",
      "60000/60000 [==============================] - 37s 620us/sample - loss: 14.4178 - val_loss: 13.7459\n",
      "Epoch 10/30\n",
      "60000/60000 [==============================] - 37s 611us/sample - loss: 14.2685 - val_loss: 13.5686\n",
      "Epoch 11/30\n",
      "60000/60000 [==============================] - 37s 624us/sample - loss: 14.1269 - val_loss: 13.6469\n",
      "Epoch 12/30\n",
      "60000/60000 [==============================] - 36s 606us/sample - loss: 13.9930 - val_loss: 13.3494\n",
      "Epoch 13/30\n",
      "60000/60000 [==============================] - 36s 607us/sample - loss: 13.8452 - val_loss: 13.1587\n",
      "Epoch 14/30\n",
      "60000/60000 [==============================] - 37s 609us/sample - loss: 13.8050 - val_loss: 13.1887\n",
      "Epoch 15/30\n",
      "60000/60000 [==============================] - 36s 605us/sample - loss: 13.6946 - val_loss: 13.0251\n",
      "Epoch 16/30\n",
      "60000/60000 [==============================] - 37s 610us/sample - loss: 13.6190 - val_loss: 12.9246\n",
      "Epoch 17/30\n",
      "60000/60000 [==============================] - 36s 607us/sample - loss: 13.4959 - val_loss: 12.8681\n",
      "Epoch 18/30\n",
      "60000/60000 [==============================] - 37s 619us/sample - loss: 13.4184 - val_loss: 12.9110\n",
      "Epoch 19/30\n",
      "60000/60000 [==============================] - 37s 624us/sample - loss: 13.3650 - val_loss: 12.7245\n",
      "Epoch 20/30\n",
      "60000/60000 [==============================] - 36s 607us/sample - loss: 13.3232 - val_loss: 12.7370\n",
      "Epoch 21/30\n",
      "60000/60000 [==============================] - 36s 606us/sample - loss: 13.2634 - val_loss: 12.6691\n",
      "Epoch 22/30\n",
      "60000/60000 [==============================] - 36s 605us/sample - loss: 13.2464 - val_loss: 12.6378\n",
      "Epoch 23/30\n",
      "60000/60000 [==============================] - 36s 606us/sample - loss: 13.1786 - val_loss: 12.5407\n",
      "Epoch 24/30\n",
      "60000/60000 [==============================] - 36s 605us/sample - loss: 13.1180 - val_loss: 12.5255\n",
      "Epoch 25/30\n",
      "60000/60000 [==============================] - 36s 607us/sample - loss: 13.0683 - val_loss: 12.5554\n",
      "Epoch 26/30\n",
      "60000/60000 [==============================] - 37s 619us/sample - loss: 13.0579 - val_loss: 12.5578\n",
      "Epoch 27/30\n",
      "60000/60000 [==============================] - 37s 612us/sample - loss: 13.0183 - val_loss: 12.4386\n",
      "Epoch 28/30\n",
      "60000/60000 [==============================] - 37s 620us/sample - loss: 12.9777 - val_loss: 12.3964\n",
      "Epoch 29/30\n",
      "60000/60000 [==============================] - 36s 607us/sample - loss: 12.9363 - val_loss: 12.4362\n",
      "Epoch 30/30\n",
      "60000/60000 [==============================] - 36s 605us/sample - loss: 12.8963 - val_loss: 12.3579\n"
     ]
    },
    {
     "data": {
      "text/plain": [
       "<tensorflow.python.keras.callbacks.History at 0x7f4e7e49cb90>"
      ]
     },
     "execution_count": 15,
     "metadata": {},
     "output_type": "execute_result"
    }
   ],
   "source": [
    "model.fit(x_train, x_train, epochs=30,batch_size=128, shuffle=True, validation_data=(x_test, x_test))"
   ]
  },
  {
   "cell_type": "markdown",
   "metadata": {},
   "source": [
    "## Reconstruct the images\n",
    "\n",
    "Reconstruct images using the trained model:"
   ]
  },
  {
   "cell_type": "code",
   "execution_count": 16,
   "metadata": {},
   "outputs": [],
   "source": [
    "reconstructed_images = model.predict(x_test)"
   ]
  },
  {
   "cell_type": "markdown",
   "metadata": {},
   "source": [
    "Plot the actual images:"
   ]
  },
  {
   "cell_type": "code",
   "execution_count": 17,
   "metadata": {},
   "outputs": [
    {
     "data": {
      "image/png": "[encoded data removed]",
      "text/plain": [
       "<Figure size 1440x288 with 7 Axes>"
      ]
     },
     "metadata": {},
     "output_type": "display_data"
    }
   ],
   "source": [
    "n = 7\n",
    "plt.figure(figsize=(20, 4))\n",
    "for i in range(n):\n",
    " \n",
    "    ax = plt.subplot(1, n, i+1)\n",
    "    plt.imshow(x_test[i].reshape(28, 28))\n",
    "    plt.gray()\n",
    "    ax.get_xaxis().set_visible(False)\n",
    "    ax.get_yaxis().set_visible(False)\n",
    "plt.show()   "
   ]
  },
  {
   "cell_type": "markdown",
   "metadata": {},
   "source": [
    "Plot the reconstructed images:"
   ]
  },
  {
   "cell_type": "code",
   "execution_count": 18,
   "metadata": {},
   "outputs": [
    {
     "data": {
      "image/png": "[encoded data removed]",
      "text/plain": [
       "<Figure size 1440x288 with 7 Axes>"
      ]
     },
     "metadata": {},
     "output_type": "display_data"
    }
   ],
   "source": [
    "n = 7\n",
    "plt.figure(figsize=(20, 4))\n",
    "for i in range(n):\n",
    "    ax = plt.subplot(2, n, i + n + 1)\n",
    "    plt.imshow(reconstructed_images[i].reshape(28, 28))\n",
    "    plt.gray()\n",
    "    ax.get_xaxis().set_visible(False)\n",
    "    ax.get_yaxis().set_visible(False)\n",
    "\n",
    "plt.show() \n"
   ]
  },
  {
   "cell_type": "markdown",
   "metadata": {},
   "source": [
    "Now that we learned how convolutional autoencoders works, in the next section we will learn about denoising autoencoders which is used to remove noise from the input. "
   ]
  }
 ],
 "metadata": {
  "kernelspec": {
   "display_name": "Python 2",
   "language": "python",
   "name": "python2"
  },
  "language_info": {
   "codemirror_mode": {
    "name": "ipython",
    "version": 2
   },
   "file_extension": ".py",
   "mimetype": "text/x-python",
   "name": "python",
   "nbconvert_exporter": "python",
   "pygments_lexer": "ipython2",
   "version": "2.7.12"
  }
 },
 "nbformat": 4,
 "nbformat_minor": 2
}
