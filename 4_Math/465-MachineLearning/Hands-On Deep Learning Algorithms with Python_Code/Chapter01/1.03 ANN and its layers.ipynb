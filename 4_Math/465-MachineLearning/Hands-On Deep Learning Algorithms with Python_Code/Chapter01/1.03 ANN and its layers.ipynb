{
 "cells": [
  {
   "cell_type": "markdown",
   "metadata": {},
   "source": [
    "# ANN and its layers\n",
    "\n",
    "While neurons are really cool, we cannot just use a single neuron to perform complex tasks.\n",
    "This is the reason our brain has billions of neurons, stacked in layers, forming a network.\n",
    "Similarly, artificial neurons are arranged in layers. Each and every layer will be connected\n",
    "in such a way that information is passed from one layer to another.\n",
    "\n",
    "A typical ANN consists of the following layers:\n",
    "\n",
    "* Input layer\n",
    "* Hidden layer\n",
    "* Output layer\n",
    "\n",
    "Each layer has a collection of neurons, and the neurons in one layer interact with all the\n",
    "neurons in the other layers. However, neurons in the same layer will not interact with one\n",
    "another. This is simply because neurons from the adjacent layers have connections or edges\n",
    "between them; however, neurons in the same layer do not have any connections. We use\n",
    "the term nodes or units to represent the neurons in the artificial neural network. A typical ANN is shown in the following diagram:\n",
    "\n",
    "![images](images/5.png)\n",
    "\n",
    "## Input layer\n",
    "\n",
    "The input layer is where we feed input to the network. The number of neurons in the input\n",
    "layer is the number of inputs we feed to the network. Each input will have some influence\n",
    "on predicting the output. However, no computation is performed in the input layer; it is\n",
    "just used for passing information from the outside world to the network.\n",
    "\n",
    "## Hidden layer\n",
    "\n",
    "Any layer between the input layer and the output layer is called a hidden layer. It\n",
    "processes the input received from the input layer. The hidden layer is responsible for\n",
    "deriving complex relationships between input and output. That is, the hidden layer\n",
    "identifies the pattern in the dataset. It is majorly responsible for learning the data\n",
    "representation and for extracting the features.\n",
    "\n",
    "There can be any number of hidden layers; however, we have to choose a number of\n",
    "hidden layers according to our use case. For a very simple problem, we can just use one\n",
    "hidden layer, but while performing complex tasks such as image recognition, we use many\n",
    "hidden layers, where each layer is responsible for extracting important features. The\n",
    "network is called a deep neural network when we have many hidden layers. \n",
    "\n",
    "\n",
    "## Output layer\n",
    "\n",
    "After processing the input, the hidden layer sends its result to the output layer. As the\n",
    "name suggests, the output layer emits the output. The number of neurons in the output\n",
    "layer is based on the type of problem we want our network to solve.\n",
    "If it is a binary classification, then the number of neurons in the output layer is one that tells\n",
    "us which class the input belongs to. If it is a multi-class classification say, with five classes,\n",
    "and if we want to get the probability of each class as an output, then the number of neurons\n",
    "in the output layer is five, each emitting the probability. If it is a regression problem, then\n",
    "we have one neuron in the output layer.\n",
    "\n"
   ]
  }
 ],
 "metadata": {
  "kernelspec": {
   "display_name": "Python [conda env:anaconda]",
   "language": "python",
   "name": "conda-env-anaconda-py"
  },
  "language_info": {
   "codemirror_mode": {
    "name": "ipython",
    "version": 2
   },
   "file_extension": ".py",
   "mimetype": "text/x-python",
   "name": "python",
   "nbconvert_exporter": "python",
   "pygments_lexer": "ipython2",
   "version": "2.7.11"
  }
 },
 "nbformat": 4,
 "nbformat_minor": 2
}
