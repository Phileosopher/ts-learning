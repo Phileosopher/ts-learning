{
 "cells": [
  {
   "cell_type": "markdown",
   "metadata": {},
   "source": [
    "# Reconstructing MNIST images using Autoencoder"
   ]
  },
  {
   "cell_type": "markdown",
   "metadata": {},
   "source": [
    "Now that we have understood how autoencoders reconstruct the inputs, in this section we will learn how autoencoders reconstruct the images of handwritten digits using the MNIST dataset. \n",
    "\n",
    "\n",
    "In this chapter, we use keras API from the tensorflow for building the models. So that we would be familiarized with how to use high-level APIs."
   ]
  },
  {
   "cell_type": "markdown",
   "metadata": {},
   "source": [
    "## Import Libraries"
   ]
  },
  {
   "cell_type": "markdown",
   "metadata": {},
   "source": [
    "First, let us import the necessary libraries:"
   ]
  },
  {
   "cell_type": "code",
   "execution_count": 1,
   "metadata": {
    "scrolled": true
   },
   "outputs": [],
   "source": [
    "import warnings\n",
    "warnings.filterwarnings('ignore')\n",
    "\n",
    "from tensorflow.keras.models import Model\n",
    "from tensorflow.keras.layers import Input, Dense\n",
    "\n",
    "import tensorflow as tf\n",
    "tf.logging.set_verbosity(tf.logging.ERROR)\n",
    "\n",
    "#plotting\n",
    "import matplotlib.pyplot as plt\n",
    "%matplotlib inline\n",
    "\n",
    "#dataset\n",
    "from tensorflow.keras.datasets import mnist\n",
    "import numpy as np"
   ]
  },
  {
   "cell_type": "markdown",
   "metadata": {},
   "source": [
    "## Prepare the Dataset"
   ]
  },
  {
   "cell_type": "markdown",
   "metadata": {},
   "source": [
    "Let us load the MNIST dataset. We don't need the labels for autoencoder. Since we are reconstructing the given input we don't need the labels. So, we just load x_train for training and x_test for testing:"
   ]
  },
  {
   "cell_type": "code",
   "execution_count": 2,
   "metadata": {},
   "outputs": [],
   "source": [
    "(x_train, _), (x_test, _) = mnist.load_data()"
   ]
  },
  {
   "cell_type": "markdown",
   "metadata": {},
   "source": [
    "Normalize the data by dividing with max pixel value which is 255:"
   ]
  },
  {
   "cell_type": "code",
   "execution_count": 3,
   "metadata": {},
   "outputs": [],
   "source": [
    "x_train = x_train.astype('float32') / 255\n",
    "x_test = x_test.astype('float32') / 255"
   ]
  },
  {
   "cell_type": "markdown",
   "metadata": {},
   "source": [
    "Shape of our dataset:"
   ]
  },
  {
   "cell_type": "code",
   "execution_count": 4,
   "metadata": {},
   "outputs": [
    {
     "name": "stdout",
     "output_type": "stream",
     "text": [
      "((60000, 28, 28), (10000, 28, 28))\n"
     ]
    }
   ],
   "source": [
    "print(x_train.shape, x_test.shape)"
   ]
  },
  {
   "cell_type": "markdown",
   "metadata": {},
   "source": [
    "Reshape the images as 2D array:"
   ]
  },
  {
   "cell_type": "code",
   "execution_count": 5,
   "metadata": {},
   "outputs": [],
   "source": [
    "x_train = x_train.reshape((len(x_train), np.prod(x_train.shape[1:])))\n",
    "x_test = x_test.reshape((len(x_test), np.prod(x_test.shape[1:])))"
   ]
  },
  {
   "cell_type": "markdown",
   "metadata": {},
   "source": [
    "Now, the shape of data would become:"
   ]
  },
  {
   "cell_type": "code",
   "execution_count": 6,
   "metadata": {},
   "outputs": [
    {
     "name": "stdout",
     "output_type": "stream",
     "text": [
      "((60000, 784), (10000, 784))\n"
     ]
    }
   ],
   "source": [
    "print(x_train.shape, x_test.shape)"
   ]
  },
  {
   "cell_type": "markdown",
   "metadata": {},
   "source": [
    "# Define the Encoder"
   ]
  },
  {
   "cell_type": "markdown",
   "metadata": {},
   "source": [
    "Now, we define the encoder which takes the images as an input and returns the encodings. \n",
    "\n",
    "Define the size of the encodings:"
   ]
  },
  {
   "cell_type": "code",
   "execution_count": 7,
   "metadata": {},
   "outputs": [],
   "source": [
    "encoding_dim = 32"
   ]
  },
  {
   "cell_type": "markdown",
   "metadata": {},
   "source": [
    "Define the placeholders for the input:"
   ]
  },
  {
   "cell_type": "code",
   "execution_count": 8,
   "metadata": {},
   "outputs": [],
   "source": [
    "input_image = Input(shape=(784,))"
   ]
  },
  {
   "cell_type": "markdown",
   "metadata": {},
   "source": [
    "\n",
    "Define the encoder which takes the input_image and returns the encodings:"
   ]
  },
  {
   "cell_type": "code",
   "execution_count": 9,
   "metadata": {},
   "outputs": [],
   "source": [
    "encoder  = Dense(encoding_dim, activation='relu')(input_image)"
   ]
  },
  {
   "cell_type": "markdown",
   "metadata": {},
   "source": [
    "# Define the Decoder\n",
    "\n",
    "Let us define the decoder which takes the encoded values from the encoder and returns the reconstructed image:"
   ]
  },
  {
   "cell_type": "code",
   "execution_count": 10,
   "metadata": {},
   "outputs": [],
   "source": [
    "decoder = Dense(784, activation='sigmoid')(encoder)"
   ]
  },
  {
   "cell_type": "markdown",
   "metadata": {},
   "source": [
    "# Build the model\n",
    "\n",
    "Now that we defined encoder and decoder, we define the model which takes images as input and returns the output of the decoder which is the reconstructed image:"
   ]
  },
  {
   "cell_type": "code",
   "execution_count": 11,
   "metadata": {},
   "outputs": [],
   "source": [
    "model = Model(inputs=input_image, outputs=decoder)"
   ]
  },
  {
   "cell_type": "markdown",
   "metadata": {},
   "source": [
    "Let us look at summary of the model:"
   ]
  },
  {
   "cell_type": "code",
   "execution_count": 12,
   "metadata": {
    "scrolled": true
   },
   "outputs": [
    {
     "name": "stdout",
     "output_type": "stream",
     "text": [
      "_________________________________________________________________\n",
      "Layer (type)                 Output Shape              Param #   \n",
      "=================================================================\n",
      "input_1 (InputLayer)         (None, 784)               0         \n",
      "_________________________________________________________________\n",
      "dense (Dense)                (None, 32)                25120     \n",
      "_________________________________________________________________\n",
      "dense_1 (Dense)              (None, 784)               25872     \n",
      "=================================================================\n",
      "Total params: 50,992\n",
      "Trainable params: 50,992\n",
      "Non-trainable params: 0\n",
      "_________________________________________________________________\n"
     ]
    }
   ],
   "source": [
    "model.summary()"
   ]
  },
  {
   "cell_type": "markdown",
   "metadata": {},
   "source": [
    "Compile the model with loss as binary cross entropy and we minimize the loss using AdaDelta optimizer:"
   ]
  },
  {
   "cell_type": "code",
   "execution_count": 13,
   "metadata": {},
   "outputs": [],
   "source": [
    "model.compile(optimizer='adadelta', loss='binary_crossentropy')"
   ]
  },
  {
   "cell_type": "markdown",
   "metadata": {},
   "source": [
    "Now, let us train the model.\n",
    "\n",
    "Generally, we feed the data to the model as model.fit(x,y) where x is the input and y is the label. But since autoencoders reconstruct its inputs, the input and output to the model should be the same. So we feed the data to the model as model.fit(x_train, x_train)\n",
    "\n"
   ]
  },
  {
   "cell_type": "code",
   "execution_count": 14,
   "metadata": {},
   "outputs": [
    {
     "name": "stdout",
     "output_type": "stream",
     "text": [
      "Train on 60000 samples, validate on 10000 samples\n",
      "Epoch 1/50\n",
      "60000/60000 [==============================] - 4s 72us/sample - loss: 0.3566 - val_loss: 0.2724\n",
      "Epoch 2/50\n",
      "60000/60000 [==============================] - 3s 43us/sample - loss: 0.2668 - val_loss: 0.2580\n",
      "Epoch 3/50\n",
      "60000/60000 [==============================] - 2s 40us/sample - loss: 0.2468 - val_loss: 0.2327\n",
      "Epoch 4/50\n",
      "60000/60000 [==============================] - 2s 38us/sample - loss: 0.2239 - val_loss: 0.2132\n",
      "Epoch 5/50\n",
      "60000/60000 [==============================] - 2s 38us/sample - loss: 0.2078 - val_loss: 0.2001\n",
      "Epoch 6/50\n",
      "60000/60000 [==============================] - 2s 38us/sample - loss: 0.1969 - val_loss: 0.1911\n",
      "Epoch 7/50\n",
      "60000/60000 [==============================] - 2s 38us/sample - loss: 0.1888 - val_loss: 0.1837\n",
      "Epoch 8/50\n",
      "60000/60000 [==============================] - 2s 39us/sample - loss: 0.1820 - val_loss: 0.1775\n",
      "Epoch 9/50\n",
      "60000/60000 [==============================] - 2s 39us/sample - loss: 0.1759 - val_loss: 0.1717\n",
      "Epoch 10/50\n",
      "60000/60000 [==============================] - 2s 41us/sample - loss: 0.1704 - val_loss: 0.1666\n",
      "Epoch 11/50\n",
      "60000/60000 [==============================] - 2s 39us/sample - loss: 0.1656 - val_loss: 0.1621\n",
      "Epoch 12/50\n",
      "60000/60000 [==============================] - 2s 38us/sample - loss: 0.1613 - val_loss: 0.1579\n",
      "Epoch 13/50\n",
      "60000/60000 [==============================] - 2s 38us/sample - loss: 0.1574 - val_loss: 0.1541\n",
      "Epoch 14/50\n",
      "60000/60000 [==============================] - 2s 39us/sample - loss: 0.1537 - val_loss: 0.1506\n",
      "Epoch 15/50\n",
      "60000/60000 [==============================] - 2s 38us/sample - loss: 0.1504 - val_loss: 0.1474\n",
      "Epoch 16/50\n",
      "60000/60000 [==============================] - 2s 40us/sample - loss: 0.1473 - val_loss: 0.1444\n",
      "Epoch 17/50\n",
      "60000/60000 [==============================] - 2s 39us/sample - loss: 0.1444 - val_loss: 0.1415\n",
      "Epoch 18/50\n",
      "60000/60000 [==============================] - 2s 39us/sample - loss: 0.1417 - val_loss: 0.1389\n",
      "Epoch 19/50\n",
      "60000/60000 [==============================] - 3s 55us/sample - loss: 0.1392 - val_loss: 0.1364\n",
      "Epoch 20/50\n",
      "60000/60000 [==============================] - 3s 50us/sample - loss: 0.1367 - val_loss: 0.1341\n",
      "Epoch 21/50\n",
      "60000/60000 [==============================] - 2s 38us/sample - loss: 0.1344 - val_loss: 0.1317\n",
      "Epoch 22/50\n",
      "60000/60000 [==============================] - 2s 39us/sample - loss: 0.1322 - val_loss: 0.1295\n",
      "Epoch 23/50\n",
      "60000/60000 [==============================] - 2s 38us/sample - loss: 0.1300 - val_loss: 0.1274\n",
      "Epoch 24/50\n",
      "60000/60000 [==============================] - 2s 41us/sample - loss: 0.1280 - val_loss: 0.1254\n",
      "Epoch 25/50\n",
      "60000/60000 [==============================] - 3s 43us/sample - loss: 0.1261 - val_loss: 0.1236\n",
      "Epoch 26/50\n",
      "60000/60000 [==============================] - 2s 40us/sample - loss: 0.1242 - val_loss: 0.1217\n",
      "Epoch 27/50\n",
      "60000/60000 [==============================] - 2s 39us/sample - loss: 0.1225 - val_loss: 0.1201\n",
      "Epoch 28/50\n",
      "60000/60000 [==============================] - 3s 45us/sample - loss: 0.1209 - val_loss: 0.1185\n",
      "Epoch 29/50\n",
      "60000/60000 [==============================] - 2s 39us/sample - loss: 0.1194 - val_loss: 0.1170\n",
      "Epoch 30/50\n",
      "60000/60000 [==============================] - 2s 40us/sample - loss: 0.1179 - val_loss: 0.1156\n",
      "Epoch 31/50\n",
      "60000/60000 [==============================] - 3s 42us/sample - loss: 0.1166 - val_loss: 0.1144\n",
      "Epoch 32/50\n",
      "60000/60000 [==============================] - 2s 41us/sample - loss: 0.1154 - val_loss: 0.1131\n",
      "Epoch 33/50\n",
      "60000/60000 [==============================] - 2s 39us/sample - loss: 0.1142 - val_loss: 0.1120\n",
      "Epoch 34/50\n",
      "60000/60000 [==============================] - 2s 39us/sample - loss: 0.1132 - val_loss: 0.1110\n",
      "Epoch 35/50\n",
      "60000/60000 [==============================] - 2s 38us/sample - loss: 0.1122 - val_loss: 0.1101\n",
      "Epoch 36/50\n",
      "60000/60000 [==============================] - 2s 39us/sample - loss: 0.1113 - val_loss: 0.1092\n",
      "Epoch 37/50\n",
      "60000/60000 [==============================] - 2s 39us/sample - loss: 0.1104 - val_loss: 0.1083\n",
      "Epoch 38/50\n",
      "60000/60000 [==============================] - 2s 39us/sample - loss: 0.1096 - val_loss: 0.1076\n",
      "Epoch 39/50\n",
      "60000/60000 [==============================] - 2s 39us/sample - loss: 0.1089 - val_loss: 0.1069\n",
      "Epoch 40/50\n",
      "60000/60000 [==============================] - 2s 39us/sample - loss: 0.1082 - val_loss: 0.1062\n",
      "Epoch 41/50\n",
      "60000/60000 [==============================] - 2s 41us/sample - loss: 0.1075 - val_loss: 0.1056\n",
      "Epoch 42/50\n",
      "60000/60000 [==============================] - 2s 39us/sample - loss: 0.1069 - val_loss: 0.1050\n",
      "Epoch 43/50\n",
      "60000/60000 [==============================] - 2s 39us/sample - loss: 0.1064 - val_loss: 0.1045\n",
      "Epoch 44/50\n",
      "60000/60000 [==============================] - 2s 39us/sample - loss: 0.1058 - val_loss: 0.1040\n",
      "Epoch 45/50\n",
      "60000/60000 [==============================] - 2s 39us/sample - loss: 0.1053 - val_loss: 0.1035\n",
      "Epoch 46/50\n",
      "60000/60000 [==============================] - 2s 38us/sample - loss: 0.1049 - val_loss: 0.1030\n",
      "Epoch 47/50\n",
      "60000/60000 [==============================] - 2s 39us/sample - loss: 0.1044 - val_loss: 0.1026\n",
      "Epoch 48/50\n",
      "60000/60000 [==============================] - 2s 38us/sample - loss: 0.1040 - val_loss: 0.1022\n",
      "Epoch 49/50\n",
      "60000/60000 [==============================] - 2s 39us/sample - loss: 0.1036 - val_loss: 0.1019\n",
      "Epoch 50/50\n",
      "60000/60000 [==============================] - ETA: 0s - loss: 0.103 - 2s 38us/sample - loss: 0.1033 - val_loss: 0.1015\n"
     ]
    },
    {
     "data": {
      "text/plain": [
       "<tensorflow.python.keras.callbacks.History at 0x7f8eeaffd710>"
      ]
     },
     "execution_count": 14,
     "metadata": {},
     "output_type": "execute_result"
    }
   ],
   "source": [
    "model.fit(x_train, x_train, epochs=50, batch_size=256, shuffle=True, validation_data=(x_test, x_test))"
   ]
  },
  {
   "cell_type": "markdown",
   "metadata": {},
   "source": [
    "## Reconstruct images\n",
    "\n",
    "Let us see how our model is performing in the test dataset. Feed the test images to the model and get the reconstructed images:"
   ]
  },
  {
   "cell_type": "code",
   "execution_count": 15,
   "metadata": {},
   "outputs": [],
   "source": [
    "reconstructed_images = model.predict(x_test)"
   ]
  },
  {
   "cell_type": "markdown",
   "metadata": {},
   "source": [
    "## Plotting reconstructed images\n",
    "\n",
    "\n",
    "First let us plot the atcual images i.e input images:"
   ]
  },
  {
   "cell_type": "code",
   "execution_count": 16,
   "metadata": {},
   "outputs": [
    {
     "data": {
      "image/png": "[encoded data removed]",
      "text/plain": [
       "<Figure size 1440x288 with 7 Axes>"
      ]
     },
     "metadata": {},
     "output_type": "display_data"
    }
   ],
   "source": [
    "n = 7\n",
    "plt.figure(figsize=(20, 4))\n",
    "for i in range(n):\n",
    " \n",
    "    ax = plt.subplot(1, n, i+1)\n",
    "    plt.imshow(x_test[i].reshape(28, 28))\n",
    "    plt.gray()\n",
    "    ax.get_xaxis().set_visible(False)\n",
    "    ax.get_yaxis().set_visible(False)\n",
    "plt.show()   "
   ]
  },
  {
   "cell_type": "markdown",
   "metadata": {},
   "source": [
    "Plot the reconstructed image:"
   ]
  },
  {
   "cell_type": "code",
   "execution_count": 17,
   "metadata": {},
   "outputs": [
    {
     "data": {
      "image/png": "[encoded data removed]",
      "text/plain": [
       "<Figure size 1440x288 with 7 Axes>"
      ]
     },
     "metadata": {},
     "output_type": "display_data"
    }
   ],
   "source": [
    "n = 7\n",
    "plt.figure(figsize=(20, 4))\n",
    "for i in range(n):\n",
    "    ax = plt.subplot(2, n, i + n + 1)\n",
    "    plt.imshow(reconstructed_images[i].reshape(28, 28))\n",
    "    plt.gray()\n",
    "    ax.get_xaxis().set_visible(False)\n",
    "    ax.get_yaxis().set_visible(False)\n",
    "\n",
    "plt.show() "
   ]
  },
  {
   "cell_type": "markdown",
   "metadata": {},
   "source": [
    "As you can notice, autoencoders have learned to reconstruct the given input image. In the next section, we will learn about convolutional autoencoder which uses convolutional layers in the encoder and decoder network. "
   ]
  }
 ],
 "metadata": {
  "kernelspec": {
   "display_name": "Python 2",
   "language": "python",
   "name": "python2"
  },
  "language_info": {
   "codemirror_mode": {
    "name": "ipython",
    "version": 2
   },
   "file_extension": ".py",
   "mimetype": "text/x-python",
   "name": "python",
   "nbconvert_exporter": "python",
   "pygments_lexer": "ipython2",
   "version": "2.7.12"
  }
 },
 "nbformat": 4,
 "nbformat_minor": 2
}
