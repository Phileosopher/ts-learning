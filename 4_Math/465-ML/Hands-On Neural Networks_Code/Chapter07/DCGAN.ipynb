{
 "cells": [
  {
   "cell_type": "code",
   "execution_count": 1,
   "metadata": {},
   "outputs": [
    {
     "name": "stderr",
     "output_type": "stream",
     "text": [
      "Using TensorFlow backend.\n"
     ]
    }
   ],
   "source": [
    "from keras.models import Sequential, Model\n",
    "from keras.layers import *\n",
    "from keras.datasets import mnist\n",
    "from keras.optimizers import Adam\n",
    "from keras.layers.advanced_activations import LeakyReLU\n",
    "from tqdm import tqdm\n",
    "import warnings\n",
    "warnings.filterwarnings(\"ignore\")"
   ]
  },
  {
   "cell_type": "code",
   "execution_count": 2,
   "metadata": {},
   "outputs": [
    {
     "name": "stdout",
     "output_type": "stream",
     "text": [
      "(60000, 28, 28, 1)\n"
     ]
    }
   ],
   "source": [
    "(X_train,Y_train),(X_test,Y_test) = mnist.load_data()\n",
    "X_train = np.reshape(X_train,(60000,28,28,1)).astype('float32')\n",
    "X_test = np.reshape(X_test,(10000,28,28,1)).astype('float32')\n",
    "# Normalize the images between -1 to 1\n",
    "X_train = (X_train - 127.5)/127.5\n",
    "print(np.shape(X_train))"
   ]
  },
  {
   "cell_type": "code",
   "execution_count": 3,
   "metadata": {},
   "outputs": [
    {
     "name": "stdout",
     "output_type": "stream",
     "text": [
      "_________________________________________________________________\n",
      "Layer (type)                 Output Shape              Param #   \n",
      "=================================================================\n",
      "dense_1 (Dense)              (None, 6272)              633472    \n",
      "_________________________________________________________________\n",
      "batch_normalization_1 (Batch (None, 6272)              25088     \n",
      "_________________________________________________________________\n",
      "reshape_1 (Reshape)          (None, 7, 7, 128)         0         \n",
      "_________________________________________________________________\n",
      "up_sampling2d_1 (UpSampling2 (None, 14, 14, 128)       0         \n",
      "_________________________________________________________________\n",
      "conv2d_1 (Conv2D)            (None, 14, 14, 64)        204864    \n",
      "_________________________________________________________________\n",
      "batch_normalization_2 (Batch (None, 14, 14, 64)        256       \n",
      "_________________________________________________________________\n",
      "up_sampling2d_2 (UpSampling2 (None, 28, 28, 64)        0         \n",
      "_________________________________________________________________\n",
      "conv2d_2 (Conv2D)            (None, 28, 28, 1)         1601      \n",
      "=================================================================\n",
      "Total params: 865,281\n",
      "Trainable params: 852,609\n",
      "Non-trainable params: 12,672\n",
      "_________________________________________________________________\n",
      "None\n"
     ]
    }
   ],
   "source": [
    "# Define the generator model where the input is random noise\n",
    "def generator_model():\n",
    "    model = Sequential()\n",
    "    model.add(Dense(128*7*7,input_dim = 100, activation = LeakyReLU(0.1)))\n",
    "    model.add(BatchNormalization())\n",
    "    model.add(Reshape((7,7,128)))\n",
    "    model.add(UpSampling2D())\n",
    "    model.add(Conv2D(64,(5,5), padding = 'same', activation = LeakyReLU(0.1)))\n",
    "    model.add(BatchNormalization())\n",
    "    model.add(UpSampling2D())\n",
    "    model.add(Conv2D(1,(5,5), padding = 'same', activation = 'tanh'))\n",
    "    return model\n",
    "\n",
    "generator_model = generator_model()\n",
    "print(generator_model.summary())"
   ]
  },
  {
   "cell_type": "code",
   "execution_count": 4,
   "metadata": {},
   "outputs": [],
   "source": [
    "# Define the discriminator model where the input is the real images from the training dataset along with the fake images from the generator\n",
    "def discriminator_model():\n",
    "    model = Sequential()\n",
    "    model.add(Conv2D(64,(5,5),padding = 'same',input_shape = (28,28,1) , activation = LeakyReLU(0.1) , subsample = (2,2)))\n",
    "    model.add(Dropout(0.3))\n",
    "    model.add(Conv2D(128,(5,5),padding = 'same', activation = LeakyReLU(0.1) , subsample = (2,2)))\n",
    "    model.add(Dropout(0.3))\n",
    "    model.add(Flatten())\n",
    "    model.add(Dense(1,activation = 'sigmoid'))\n",
    "    return model"
   ]
  },
  {
   "cell_type": "code",
   "execution_count": 5,
   "metadata": {},
   "outputs": [
    {
     "name": "stdout",
     "output_type": "stream",
     "text": [
      "_________________________________________________________________\n",
      "Layer (type)                 Output Shape              Param #   \n",
      "=================================================================\n",
      "conv2d_3 (Conv2D)            (None, 14, 14, 64)        1664      \n",
      "_________________________________________________________________\n",
      "dropout_1 (Dropout)          (None, 14, 14, 64)        0         \n",
      "_________________________________________________________________\n",
      "conv2d_4 (Conv2D)            (None, 7, 7, 128)         204928    \n",
      "_________________________________________________________________\n",
      "dropout_2 (Dropout)          (None, 7, 7, 128)         0         \n",
      "_________________________________________________________________\n",
      "flatten_1 (Flatten)          (None, 6272)              0         \n",
      "_________________________________________________________________\n",
      "dense_2 (Dense)              (None, 1)                 6273      \n",
      "=================================================================\n",
      "Total params: 212,865\n",
      "Trainable params: 212,865\n",
      "Non-trainable params: 0\n",
      "_________________________________________________________________\n"
     ]
    }
   ],
   "source": [
    "discriminator_model = discriminator_model() \n",
    "discriminator_model.summary()"
   ]
  },
  {
   "cell_type": "code",
   "execution_count": 6,
   "metadata": {},
   "outputs": [],
   "source": [
    "# Compile both the generator and discriminator models with the Adam optimzer\n",
    "generator_model.compile(loss = 'binary_crossentropy' , optimizer = Adam())\n",
    "discriminator_model.compile(loss = 'binary_crossentropy' , optimizer = Adam())"
   ]
  },
  {
   "cell_type": "code",
   "execution_count": 7,
   "metadata": {},
   "outputs": [
    {
     "name": "stdout",
     "output_type": "stream",
     "text": [
      "_________________________________________________________________\n",
      "Layer (type)                 Output Shape              Param #   \n",
      "=================================================================\n",
      "input_1 (InputLayer)         (None, 100)               0         \n",
      "_________________________________________________________________\n",
      "sequential_1 (Sequential)    (None, 28, 28, 1)         865281    \n",
      "_________________________________________________________________\n",
      "sequential_2 (Sequential)    (None, 1)                 212865    \n",
      "=================================================================\n",
      "Total params: 1,078,146\n",
      "Trainable params: 852,609\n",
      "Non-trainable params: 225,537\n",
      "_________________________________________________________________\n"
     ]
    }
   ],
   "source": [
    "# Build and compile the adversarial model\n",
    "generator_input = Input(shape = (100,))\n",
    "\n",
    "generator_output = generator_model(generator_input)\n",
    "\n",
    "discriminator_model.trainable = False\n",
    "\n",
    "discriminator_output = discriminator_model(generator_output)\n",
    "\n",
    "adversarial_model = Model(input = generator_input , output = discriminator_output)\n",
    "\n",
    "adversarial_model.summary()\n",
    "adversarial_model.compile(loss = 'binary_crossentropy' , optimizer = Adam())"
   ]
  },
  {
   "cell_type": "code",
   "execution_count": 8,
   "metadata": {},
   "outputs": [
    {
     "name": "stderr",
     "output_type": "stream",
     "text": [
      "100%|██████████| 200/200 [09:57<00:00,  3.13s/it]\n",
      "100%|██████████| 200/200 [10:37<00:00,  3.11s/it]\n",
      "100%|██████████| 200/200 [10:13<00:00,  2.99s/it]\n",
      "100%|██████████| 200/200 [09:54<00:00,  2.91s/it]\n",
      "100%|██████████| 200/200 [09:37<00:00,  2.85s/it]\n",
      "100%|██████████| 200/200 [09:20<00:00,  2.67s/it]\n",
      "100%|██████████| 200/200 [09:00<00:00,  2.72s/it]\n",
      "100%|██████████| 200/200 [08:57<00:00,  2.72s/it]\n",
      "100%|██████████| 200/200 [08:46<00:00,  2.50s/it]\n",
      "100%|██████████| 200/200 [08:30<00:00,  2.57s/it]\n",
      "100%|██████████| 200/200 [08:22<00:00,  2.50s/it]\n",
      "100%|██████████| 200/200 [08:17<00:00,  2.47s/it]\n",
      "100%|██████████| 200/200 [08:13<00:00,  2.47s/it]\n",
      "100%|██████████| 200/200 [08:06<00:00,  2.32s/it]\n",
      "100%|██████████| 200/200 [08:11<00:00,  2.41s/it]\n",
      "100%|██████████| 200/200 [08:08<00:00,  2.50s/it]\n",
      "100%|██████████| 200/200 [07:57<00:00,  2.33s/it]\n",
      "100%|██████████| 200/200 [07:49<00:00,  2.41s/it]\n",
      "100%|██████████| 200/200 [07:46<00:00,  2.24s/it]\n",
      "100%|██████████| 200/200 [07:51<00:00,  2.43s/it]\n",
      "100%|██████████| 200/200 [07:56<00:00,  2.66s/it]\n",
      "100%|██████████| 200/200 [07:50<00:00,  2.41s/it]\n",
      "100%|██████████| 200/200 [07:53<00:00,  2.36s/it]\n",
      "100%|██████████| 200/200 [07:40<00:00,  2.25s/it]\n",
      "100%|██████████| 200/200 [07:44<00:00,  2.32s/it]\n",
      "100%|██████████| 200/200 [07:36<00:00,  2.22s/it]\n",
      "100%|██████████| 200/200 [07:32<00:00,  2.30s/it]\n",
      "100%|██████████| 200/200 [07:36<00:00,  2.30s/it]\n",
      "100%|██████████| 200/200 [07:34<00:00,  2.26s/it]\n",
      "100%|██████████| 200/200 [07:33<00:00,  2.23s/it]\n",
      "100%|██████████| 200/200 [07:30<00:00,  2.21s/it]\n",
      "100%|██████████| 200/200 [07:29<00:00,  2.23s/it]\n",
      "100%|██████████| 200/200 [07:28<00:00,  2.20s/it]\n",
      "100%|██████████| 200/200 [07:28<00:00,  2.26s/it]\n",
      "100%|██████████| 200/200 [07:23<00:00,  2.21s/it]\n",
      "100%|██████████| 200/200 [07:29<00:00,  2.29s/it]\n",
      "100%|██████████| 200/200 [07:32<00:00,  2.24s/it]\n",
      "100%|██████████| 200/200 [07:28<00:00,  2.31s/it]\n",
      "100%|██████████| 200/200 [07:27<00:00,  2.27s/it]\n",
      "100%|██████████| 200/200 [07:29<00:00,  2.31s/it]\n",
      "100%|██████████| 200/200 [07:31<00:00,  2.21s/it]\n",
      "100%|██████████| 200/200 [07:28<00:00,  2.21s/it]\n",
      "100%|██████████| 200/200 [07:26<00:00,  2.24s/it]\n",
      "100%|██████████| 200/200 [07:26<00:00,  2.21s/it]\n",
      "100%|██████████| 200/200 [07:28<00:00,  2.22s/it]\n",
      "100%|██████████| 200/200 [07:24<00:00,  2.24s/it]\n",
      "100%|██████████| 200/200 [07:22<00:00,  2.22s/it]\n",
      "100%|██████████| 200/200 [07:21<00:00,  2.26s/it]\n",
      "100%|██████████| 200/200 [07:21<00:00,  2.20s/it]\n",
      "100%|██████████| 200/200 [07:18<00:00,  2.15s/it]\n",
      "100%|██████████| 200/200 [07:16<00:00,  2.16s/it]\n",
      "100%|██████████| 200/200 [07:12<00:00,  2.18s/it]\n",
      "100%|██████████| 200/200 [07:14<00:00,  2.17s/it]\n",
      "100%|██████████| 200/200 [07:12<00:00,  2.23s/it]\n",
      "100%|██████████| 200/200 [07:11<00:00,  2.08s/it]\n",
      "100%|██████████| 200/200 [07:11<00:00,  2.14s/it]\n",
      "100%|██████████| 200/200 [07:05<00:00,  2.16s/it]\n",
      "100%|██████████| 200/200 [07:04<00:00,  2.14s/it]\n",
      "100%|██████████| 200/200 [07:02<00:00,  2.16s/it]\n",
      "100%|██████████| 200/200 [06:58<00:00,  2.01s/it]\n",
      "100%|██████████| 200/200 [07:02<00:00,  2.15s/it]\n",
      "100%|██████████| 200/200 [06:59<00:00,  2.23s/it]\n",
      "100%|██████████| 200/200 [06:54<00:00,  2.05s/it]\n",
      "100%|██████████| 200/200 [06:58<00:00,  2.18s/it]\n",
      "100%|██████████| 200/200 [06:53<00:00,  1.94s/it]\n",
      "100%|██████████| 200/200 [06:49<00:00,  1.98s/it]\n",
      "100%|██████████| 200/200 [06:49<00:00,  2.02s/it]\n",
      "100%|██████████| 200/200 [06:46<00:00,  2.10s/it]\n",
      "100%|██████████| 200/200 [06:45<00:00,  2.00s/it]\n",
      "100%|██████████| 200/200 [06:48<00:00,  1.97s/it]\n",
      "100%|██████████| 200/200 [06:42<00:00,  2.05s/it]\n",
      "100%|██████████| 200/200 [06:41<00:00,  1.99s/it]\n",
      "100%|██████████| 200/200 [06:41<00:00,  2.01s/it]\n",
      "100%|██████████| 200/200 [06:42<00:00,  1.98s/it]\n",
      "100%|██████████| 200/200 [06:40<00:00,  2.09s/it]\n",
      "100%|██████████| 200/200 [06:41<00:00,  2.04s/it]\n",
      "100%|██████████| 200/200 [06:38<00:00,  2.01s/it]\n",
      "100%|██████████| 200/200 [06:38<00:00,  2.01s/it]\n",
      "100%|██████████| 200/200 [06:39<00:00,  1.89s/it]\n",
      "100%|██████████| 200/200 [06:37<00:00,  1.99s/it]\n"
     ]
    }
   ],
   "source": [
    "def train(epochs):\n",
    "    batch_size = 128\n",
    "    batch = 200 \n",
    "    for i in range(epochs):\n",
    "        for j in tqdm(range(batch)):\n",
    "            # Define the noise to be input into the generator\n",
    "            noise_1 = np.random.rand(batch_size,100)\n",
    "            # Create the random images output from the generator\n",
    "            gen_images = generator_model.predict(noise_1 , batch_size = batch_size )\n",
    "            # Real images from MNIST dataset\n",
    "            image_batch = X_train[np.random.randint(0, X_train.shape[0], size=batch_size)]\n",
    "            # Create the input data for discriminator (real images and fake images from the generator)\n",
    "            disc_inp = np.concatenate([gen_images,image_batch])\n",
    "            # Assign labels where 1 is a real image and 0 is fake for the discriminator training\n",
    "            disc_Y = [0]*batch_size + [1]*batch_size\n",
    "            # Make discriminator model trainable\n",
    "            discriminator_model.trainable = True\n",
    "            # Train the discriminator model\n",
    "            discriminator_model.train_on_batch(disc_inp,disc_Y)\n",
    "            # Generate noise for the adversarial network\n",
    "            noise_2 = np.random.rand(batch_size,100)\n",
    "            # Freeze the weights of the discriminator and train the generator\n",
    "            discriminator_model.trainable = False\n",
    "            # Labels for adversarial model are always 1\n",
    "            y_adv = [1]*batch_size\n",
    "            # Train the adversarial model\n",
    "            adversarial_model.train_on_batch(noise_2,y_adv)\n",
    "            # Repeat process for 'epoch' no. of times\n",
    "\n",
    "train(80)"
   ]
  },
  {
   "cell_type": "code",
   "execution_count": 10,
   "metadata": {},
   "outputs": [
    {
     "data": {
      "image/png": "[encoded data removed]",
      "text/plain": [
       "<matplotlib.figure.Figure at 0xb32bb18d0>"
      ]
     },
     "metadata": {},
     "output_type": "display_data"
    }
   ],
   "source": [
    "# Display the output of the model\n",
    "import matplotlib.pyplot as plt\n",
    "\n",
    "def plot_output(text):\n",
    "    # Random noise as the input\n",
    "    try_input = np.random.rand(50, 100) \n",
    "    predictions = generator_model.predict(try_input)\n",
    "    plt.figure(figsize=(20,20))\n",
    "    for i in range(predictions.shape[0]):\n",
    "        plt.subplot(10, 10, i+1)\n",
    "        plt.imshow(predictions[i, :, :, 0], cmap='gray')\n",
    "        plt.axis('off')\n",
    "    plt.tight_layout()\n",
    "    plt.savefig(text)\n",
    "    \n",
    "plot_output('80')    "
   ]
  },
  {
   "cell_type": "code",
   "execution_count": null,
   "metadata": {},
   "outputs": [],
   "source": []
  },
  {
   "cell_type": "code",
   "execution_count": null,
   "metadata": {},
   "outputs": [],
   "source": []
  }
 ],
 "metadata": {
  "kernelspec": {
   "display_name": "Python 3",
   "language": "python",
   "name": "python3"
  },
  "language_info": {
   "codemirror_mode": {
    "name": "ipython",
    "version": 3
   },
   "file_extension": ".py",
   "mimetype": "text/x-python",
   "name": "python",
   "nbconvert_exporter": "python",
   "pygments_lexer": "ipython3",
   "version": "3.6.8"
  }
 },
 "nbformat": 4,
 "nbformat_minor": 2
}
