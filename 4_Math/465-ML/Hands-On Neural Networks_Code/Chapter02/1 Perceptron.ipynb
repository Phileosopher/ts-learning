{
 "cells": [
  {
   "cell_type": "code",
   "execution_count": 1,
   "metadata": {
    "ExecuteTime": {
     "end_time": "2019-01-19T11:38:47.898934Z",
     "start_time": "2019-01-19T11:38:47.374844Z"
    }
   },
   "outputs": [],
   "source": [
    "import numpy as np\n",
    "import pandas as pd\n",
    "import seaborn as sns; sns.set()\n",
    "from sklearn.metrics import confusion_matrix\n",
    "\n",
    "# initiating random number\n",
    "np.random.seed(11)\n",
    "\n",
    "#### Creating the dataset\n",
    "\n",
    "# mean and standard deviation for the x belonging to the first class\n",
    "mu_x1, sigma_x1 = 0, 0.1 \n",
    "\n",
    "# constat to make the second distribution different from the first\n",
    "x2_mu_diff = 0.35\n",
    "\n",
    "# creating the first distribution\n",
    "d1 = pd.DataFrame({'x1': np.random.normal(mu_x1, sigma_x1 , 1000),\n",
    "                   'x2': np.random.normal(mu_x1, sigma_x1 , 1000),\n",
    "                   'type': 0})\n",
    "\n",
    "# creating the second distribution\n",
    "d2 = pd.DataFrame({'x1': np.random.normal(mu_x1, sigma_x1 , 1000) + x2_mu_diff,\n",
    "                   'x2': np.random.normal(mu_x1, sigma_x1 , 1000) + x2_mu_diff,\n",
    "                   'type': 1})\n",
    "\n",
    "data = pd.concat([d1, d2], ignore_index=True)\n",
    "\n",
    "\n",
    "ax = sns.scatterplot(x=\"x1\", y=\"x2\", hue=\"type\",\n",
    "                      data=data)\n"
   ]
  },
  {
   "cell_type": "code",
   "execution_count": 2,
   "metadata": {
    "ExecuteTime": {
     "end_time": "2019-01-19T11:38:53.295248Z",
     "start_time": "2019-01-19T11:38:53.278308Z"
    }
   },
   "outputs": [],
   "source": [
    "class Perceptron(object):\n",
    "    \"\"\"\n",
    "    Simple implementation of the perceptron algorithm\n",
    "    \"\"\"\n",
    "\n",
    "    def __init__(self, w0=1, w1=0.1, w2=0.1):\n",
    "\n",
    "        # weights\n",
    "        self.w0 = w0  # bias\n",
    "        self.w1 = w1\n",
    "        self.w2 = w2\n",
    "\n",
    "    def step_function(self, z):\n",
    "        if z >= 0:\n",
    "            return 1\n",
    "        else:\n",
    "            return 0\n",
    "\n",
    "    def weighted_sum_inputs(self, x1, x2):\n",
    "        return sum([1 * self.w0, x1 * self.w1, x2 * self.w2])\n",
    "\n",
    "    def predict(self, x1, x2):\n",
    "        \"\"\"\n",
    "        Uses the step function to determine the output\n",
    "        \"\"\"\n",
    "        z = self.weighted_sum_inputs(x1, x2)\n",
    "\n",
    "        return self.step_function(z)\n",
    "\n",
    "    def predict_boundary(self, x):\n",
    "        \"\"\"\n",
    "        Used to predict the boundaries of our classifier\n",
    "        \"\"\"\n",
    "        return -(self.w1 * x + self.w0) / self.w2\n",
    "\n",
    "    def fit(self, X, y, epochs=1, step=0.1, verbose=True):\n",
    "        \"\"\"\n",
    "        Train the model given the dataset\n",
    "        \"\"\"\n",
    "        errors = []\n",
    "\n",
    "        for epoch in range(epochs):\n",
    "            error = 0\n",
    "            for i in range(0, len(X.index)):\n",
    "                x1, x2, target = X.values[i][0], X.values[i][1], y.values[i]\n",
    "                # The update is proportional to the step size and the error\n",
    "                update = step * (target - self.predict(x1, x2))\n",
    "                self.w1 += update * x1\n",
    "                self.w2 += update * x2\n",
    "                self.w0 += update\n",
    "                error += int(update != 0.0)\n",
    "            errors.append(error)\n",
    "            if verbose:\n",
    "                print('Epochs: {} - Error: {} - Errors from all epochs: {}'\\\n",
    "                      .format(epoch, error, errors))\n"
   ]
  },
  {
   "cell_type": "code",
   "execution_count": 3,
   "metadata": {
    "ExecuteTime": {
     "end_time": "2019-01-19T11:38:53.896208Z",
     "start_time": "2019-01-19T11:38:53.882750Z"
    }
   },
   "outputs": [],
   "source": [
    "# Splitting the dataset in training and test set\n",
    "msk = np.random.rand(len(data)) < 0.8\n",
    "\n",
    "# Roughly 80% of data will go in the training set\n",
    "train_x, train_y = data[['x1','x2']][msk], data.type[msk]\n",
    "# Everything else will go into the validation set\n",
    "test_x, test_y = data[['x1','x2']][~msk], data.type[~msk]\n"
   ]
  },
  {
   "cell_type": "code",
   "execution_count": 4,
   "metadata": {
    "ExecuteTime": {
     "end_time": "2019-01-13T23:58:00.899918Z",
     "start_time": "2019-01-13T23:58:00.795720Z"
    }
   },
   "outputs": [
    {
     "name": "stdout",
     "output_type": "stream",
     "text": [
      "Epochs: 0 - Error: 33 - Errors from all epochs: [33]\n",
      "        Predicted 0  Predicted 1\n",
      "True 0          201            5\n",
      "True 1            0          176\n"
     ]
    }
   ],
   "source": [
    "my_perceptron = Perceptron(0.1,0.1)\n",
    "\n",
    "my_perceptron.fit(train_x, train_y, epochs=1, step=0.005)\n",
    "\n",
    "pred_y = test_x.apply(lambda x: my_perceptron.predict(x.x1, x.x2), axis=1)\n",
    "\n",
    "cm = confusion_matrix(test_y, pred_y, labels=[0, 1])\n",
    "\n",
    "print(pd.DataFrame(cm,\n",
    "                   index=['True 0', 'True 1'], \n",
    "                   columns=['Predicted 0', 'Predicted 1']))"
   ]
  },
  {
   "cell_type": "code",
   "execution_count": 5,
   "metadata": {
    "ExecuteTime": {
     "end_time": "2019-01-13T23:58:21.189603Z",
     "start_time": "2019-01-13T23:58:21.180054Z"
    }
   },
   "outputs": [
    {
     "data": {
      "text/plain": [
       "(-0.025000000000000015, 0.09623421555805478, 0.09472342868828437)"
      ]
     },
     "execution_count": 5,
     "metadata": {},
     "output_type": "execute_result"
    }
   ],
   "source": [
    "my_perceptron.w0, my_perceptron.w1, my_perceptron.w2"
   ]
  },
  {
   "cell_type": "code",
   "execution_count": 6,
   "metadata": {},
   "outputs": [
    {
     "data": {
      "text/plain": [
       "[<matplotlib.lines.Line2D at 0x7fb1ac093438>]"
      ]
     },
     "execution_count": 6,
     "metadata": {},
     "output_type": "execute_result"
    },
    {
     "data": {
      "image/png": "[encoded data removed]",
      "text/plain": [
       "<Figure size 432x288 with 1 Axes>"
      ]
     },
     "metadata": {
      "needs_background": "light"
     },
     "output_type": "display_data"
    }
   ],
   "source": [
    "# Adds decision boundary line to the scatterplot\n",
    "\n",
    "ax = sns.scatterplot(x=\"x1\", y=\"x2\", hue=\"type\",\n",
    "                      data=data[~msk])\n",
    "ax.autoscale(False)\n",
    "x_vals = np.array(ax.get_xlim())\n",
    "y_vals = my_perceptron.predict_boundary(x_vals)\n",
    "ax.plot(x_vals, y_vals, '--', c=\"red\")"
   ]
  },
  {
   "cell_type": "code",
   "execution_count": 7,
   "metadata": {
    "ExecuteTime": {
     "end_time": "2019-01-20T04:12:44.747113Z",
     "start_time": "2019-01-20T04:12:41.193681Z"
    }
   },
   "outputs": [
    {
     "name": "stderr",
     "output_type": "stream",
     "text": [
      "Using TensorFlow backend.\n"
     ]
    },
    {
     "name": "stdout",
     "output_type": "stream",
     "text": [
      "WARNING:tensorflow:From /home/leo/anaconda3/lib/python3.7/site-packages/tensorflow/python/framework/op_def_library.py:263: colocate_with (from tensorflow.python.framework.ops) is deprecated and will be removed in a future version.\n",
      "Instructions for updating:\n",
      "Colocations handled automatically by placer.\n",
      "WARNING:tensorflow:From /home/leo/anaconda3/lib/python3.7/site-packages/tensorflow/python/ops/math_ops.py:3066: to_int32 (from tensorflow.python.ops.math_ops) is deprecated and will be removed in a future version.\n",
      "Instructions for updating:\n",
      "Use tf.cast instead.\n",
      "Epoch 1/1\n"
     ]
    },
    {
     "name": "stderr",
     "output_type": "stream",
     "text": [
      "/home/leo/anaconda3/lib/python3.7/site-packages/ipykernel_launcher.py:22: UserWarning: The `nb_epoch` argument in `fit` has been renamed `epochs`.\n"
     ]
    },
    {
     "name": "stdout",
     "output_type": "stream",
     "text": [
      "1618/1618 [==============================] - 2s 1ms/step - loss: 0.1573\n"
     ]
    },
    {
     "data": {
      "text/plain": [
       "<keras.callbacks.History at 0x7fb180d130f0>"
      ]
     },
     "execution_count": 7,
     "metadata": {},
     "output_type": "execute_result"
    }
   ],
   "source": [
    "import numpy as np\n",
    "from keras.models import Sequential\n",
    "from keras.optimizers import SGD\n",
    "from keras.layers import Dense\n",
    "import keras.backend as K\n",
    "import tensorflow as tf\n",
    "\n",
    "    \n",
    "network = Sequential()\n",
    "network.add(Dense(1, input_dim = 2, activation = 'sigmoid'))\n",
    "network.compile(loss = \"mse\", optimizer = SGD(lr = 0.01))\n",
    "network.fit(train_x, train_y , nb_epoch = 1, batch_size = 1, shuffle = False)\n",
    "\n"
   ]
  },
  {
   "cell_type": "code",
   "execution_count": 8,
   "metadata": {
    "ExecuteTime": {
     "end_time": "2019-01-14T00:09:54.486094Z",
     "start_time": "2019-01-14T00:09:54.465707Z"
    }
   },
   "outputs": [
    {
     "data": {
      "text/plain": [
       "0.9988415710503089"
      ]
     },
     "execution_count": 8,
     "metadata": {},
     "output_type": "execute_result"
    }
   ],
   "source": [
    "network.get_weights()\n",
    "\n",
    "pred_y = network.predict(test_x)\n",
    "\n",
    "\n",
    "from sklearn.metrics import roc_auc_score\n",
    "\n",
    "roc_auc_score(test_y, pred_y)"
   ]
  },
  {
   "cell_type": "code",
   "execution_count": 9,
   "metadata": {
    "ExecuteTime": {
     "end_time": "2019-01-20T04:15:52.001970Z",
     "start_time": "2019-01-20T04:14:36.004198Z"
    }
   },
   "outputs": [
    {
     "name": "stdout",
     "output_type": "stream",
     "text": [
      "Epoch 1/30\n",
      "1618/1618 [==============================] - 1s 562us/step - loss: 0.2227\n",
      "Epoch 2/30\n",
      "1618/1618 [==============================] - 1s 561us/step - loss: 0.1793\n",
      "Epoch 3/30\n",
      "1618/1618 [==============================] - 1s 570us/step - loss: 0.1480\n",
      "Epoch 4/30\n",
      "1618/1618 [==============================] - 1s 599us/step - loss: 0.1254\n",
      "Epoch 5/30\n",
      "1618/1618 [==============================] - 2s 949us/step - loss: 0.1087\n",
      "Epoch 6/30\n",
      "1618/1618 [==============================] - 1s 887us/step - loss: 0.0960\n",
      "Epoch 7/30\n",
      "1618/1618 [==============================] - 2s 1ms/step - loss: 0.0861\n",
      "Epoch 8/30\n",
      "1618/1618 [==============================] - 1s 577us/step - loss: 0.0781\n",
      "Epoch 9/30\n",
      "1618/1618 [==============================] - 1s 536us/step - loss: 0.0717\n",
      "Epoch 10/30\n",
      "1618/1618 [==============================] - 1s 639us/step - loss: 0.0664\n",
      "Epoch 11/30\n",
      "1618/1618 [==============================] - 1s 550us/step - loss: 0.0619\n",
      "Epoch 12/30\n",
      "1618/1618 [==============================] - 1s 503us/step - loss: 0.0581\n",
      "Epoch 13/30\n",
      "1618/1618 [==============================] - 2s 1ms/step - loss: 0.0548\n",
      "Epoch 14/30\n",
      "1618/1618 [==============================] - 1s 704us/step - loss: 0.0519\n",
      "Epoch 15/30\n",
      "1618/1618 [==============================] - 1s 706us/step - loss: 0.0494\n",
      "Epoch 16/30\n",
      "1618/1618 [==============================] - 1s 926us/step - loss: 0.0472\n",
      "Epoch 17/30\n",
      "1618/1618 [==============================] - 2s 1ms/step - loss: 0.0452\n",
      "Epoch 18/30\n",
      "1618/1618 [==============================] - 1s 868us/step - loss: 0.0434\n",
      "Epoch 19/30\n",
      "1618/1618 [==============================] - 1s 700us/step - loss: 0.0418\n",
      "Epoch 20/30\n",
      "1618/1618 [==============================] - 1s 702us/step - loss: 0.0403\n",
      "Epoch 21/30\n",
      "1618/1618 [==============================] - 1s 698us/step - loss: 0.0390\n",
      "Epoch 22/30\n",
      "1618/1618 [==============================] - 1s 692us/step - loss: 0.0377\n",
      "Epoch 23/30\n",
      "1618/1618 [==============================] - 1s 694us/step - loss: 0.0366\n",
      "Epoch 24/30\n",
      "1618/1618 [==============================] - 1s 699us/step - loss: 0.0356\n",
      "Epoch 25/30\n",
      "1618/1618 [==============================] - 1s 697us/step - loss: 0.0346\n",
      "Epoch 26/30\n",
      "1618/1618 [==============================] - 1s 694us/step - loss: 0.0337\n",
      "Epoch 27/30\n",
      "1618/1618 [==============================] - 1s 705us/step - loss: 0.0329\n",
      "Epoch 28/30\n",
      "1618/1618 [==============================] - 2s 968us/step - loss: 0.0321\n",
      "Epoch 29/30\n",
      "1618/1618 [==============================] - 1s 817us/step - loss: 0.0314\n",
      "Epoch 30/30\n",
      "1618/1618 [==============================] - 2s 940us/step - loss: 0.0307\n",
      "MSE on the test set: 0.03451991137274204\n"
     ]
    }
   ],
   "source": [
    "from keras.models import Sequential\n",
    "from keras.layers import Dense, Activation\n",
    "from keras.optimizers import SGD\n",
    "from sklearn.metrics import mean_squared_error\n",
    "\n",
    "my_perceptron = Sequential()\n",
    "\n",
    "input_layer = Dense(1, input_dim=2, activation=\"sigmoid\", kernel_initializer=\"zero\")\n",
    "my_perceptron.add(input_layer)\n",
    "\n",
    "my_perceptron.compile(loss=\"mse\", optimizer=SGD(lr=0.01))\n",
    "\n",
    "my_perceptron.fit(train_x.values, train_y, epochs=30, batch_size=1, shuffle=True)\n",
    "pred_y = my_perceptron.predict(test_x)\n",
    "\n",
    "print('MSE on the test set:', mean_squared_error(pred_y, test_y))"
   ]
  },
  {
   "cell_type": "code",
   "execution_count": null,
   "metadata": {},
   "outputs": [],
   "source": []
  }
 ],
 "metadata": {
  "hide_input": false,
  "kernelspec": {
   "display_name": "Python 3",
   "language": "python",
   "name": "python3"
  },
  "language_info": {
   "codemirror_mode": {
    "name": "ipython",
    "version": 3
   },
   "file_extension": ".py",
   "mimetype": "text/x-python",
   "name": "python",
   "nbconvert_exporter": "python",
   "pygments_lexer": "ipython3",
   "version": "3.7.3"
  },
  "toc": {
   "colors": {
    "hover_highlight": "#DAA520",
    "running_highlight": "#FF0000",
    "selected_highlight": "#FFD700"
   },
   "moveMenuLeft": true,
   "nav_menu": {
    "height": "12px",
    "width": "252px"
   },
   "navigate_menu": true,
   "number_sections": true,
   "sideBar": true,
   "threshold": 4,
   "toc_cell": false,
   "toc_section_display": "block",
   "toc_window_display": false
  }
 },
 "nbformat": 4,
 "nbformat_minor": 2
}
