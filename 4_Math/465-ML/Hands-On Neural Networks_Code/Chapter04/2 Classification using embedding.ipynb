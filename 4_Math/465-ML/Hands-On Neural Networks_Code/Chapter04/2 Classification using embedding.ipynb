{
 "cells": [
  {
   "cell_type": "code",
   "execution_count": 1,
   "metadata": {
    "ExecuteTime": {
     "end_time": "2019-05-26T10:56:05.628862Z",
     "start_time": "2019-05-26T10:55:57.356154Z"
    }
   },
   "outputs": [],
   "source": [
    "import numpy as np\n",
    "import os\n",
    "from sklearn.datasets import fetch_20newsgroups\n",
    "from sklearn.pipeline import Pipeline\n",
    "from sklearn.ensemble import RandomForestClassifier\n",
    "from sklearn.metrics import roc_auc_score\n",
    "from sklearn.metrics import confusion_matrix\n",
    "\n",
    "# Deciding which embedding to use\n",
    "possible_word_vectors = (50, 100, 200, 300)\n",
    "word_vectors = possible_word_vectors[0]\n",
    "\n",
    "file_name = f'glove.6B.{word_vectors}d.txt'\n",
    "\n",
    "filepath = '../data/'\n",
    "pretrained_embedding = os.path.join(filepath, file_name)\n",
    "\n",
    "    \n",
    "embeddings_index = {}\n",
    "with open(pretrained_embedding, \"rb\") as f:\n",
    "    for line in f:\n",
    "        values = line.split()\n",
    "        word = values[0].decode(\"utf-8\") \n",
    "        coefs = np.asarray(values[1:], dtype='float32')\n",
    "        embeddings_index[word] = coefs\n"
   ]
  },
  {
   "cell_type": "code",
   "execution_count": 2,
   "metadata": {
    "ExecuteTime": {
     "end_time": "2019-05-26T10:56:57.554282Z",
     "start_time": "2019-05-26T10:56:05.633649Z"
    }
   },
   "outputs": [
    {
     "name": "stderr",
     "output_type": "stream",
     "text": [
      "Downloading 20news dataset. This may take a few minutes.\n",
      "Downloading dataset from https://ndownloader.figshare.com/files/5975967 (14 MB)\n"
     ]
    }
   ],
   "source": [
    "# Getting the data\n",
    "cats = ['alt.atheism', 'sci.space']\n",
    "# cats = ['alt.atheism', 'talk.religion.misc',\n",
    "#         'comp.graphics', 'sci.space']\n",
    "\n",
    "newsgroups_train = fetch_20newsgroups(subset='train', categories=cats)\n",
    "newsgroups_test = fetch_20newsgroups(subset='test', categories=cats)\n",
    "\n",
    "X_train = newsgroups_train['data']\n",
    "y_train = newsgroups_train['target']\n",
    "\n",
    "X_test = newsgroups_test['data']\n",
    "y_test = newsgroups_test['target']"
   ]
  },
  {
   "cell_type": "code",
   "execution_count": 4,
   "metadata": {
    "ExecuteTime": {
     "end_time": "2019-05-26T10:57:42.069372Z",
     "start_time": "2019-05-26T10:57:42.060034Z"
    }
   },
   "outputs": [],
   "source": [
    "class EmbeddingVectorizer(object):\n",
    "    \"\"\"\n",
    "    Follows the scikit-learn API\n",
    "    Transform each document in the average\n",
    "    of the embeddings of the words in it\n",
    "    \"\"\"\n",
    "\n",
    "    def __init__(self, word2vec):\n",
    "        self.word2vec = word2vec\n",
    "        self.dim = 50\n",
    "        \n",
    "    def fit(self, X, y):\n",
    "        return self\n",
    "\n",
    "    def transform(self, X):\n",
    "        \"\"\"\n",
    "        Find the embedding vector for each word in the dictionary\n",
    "        and take the mean for each document\n",
    "        \"\"\"\n",
    "        # Renaming it just to make it more understandable \n",
    "        documents = X\n",
    "        embedded_docs = []\n",
    "        for document in documents:\n",
    "            # For each document\n",
    "            # Consider the mean of all the embeddings\n",
    "            embedded_document = []\n",
    "            for words in document:\n",
    "\n",
    "                for w in words:\n",
    "                    if w in self.word2vec:\n",
    "                        embedded_word = self.word2vec[w]\n",
    "                    else:\n",
    "                        embedded_word = np.zeros(self.dim)\n",
    "                    embedded_document.append(embedded_word)\n",
    "            embedded_docs.append(np.mean(embedded_document, axis=0))\n",
    "\n",
    "        return embedded_docs\n"
   ]
  },
  {
   "cell_type": "code",
   "execution_count": 5,
   "metadata": {
    "ExecuteTime": {
     "end_time": "2019-05-26T10:57:48.801425Z",
     "start_time": "2019-05-26T10:57:45.563291Z"
    }
   },
   "outputs": [
    {
     "data": {
      "text/plain": [
       "RandomForestClassifier(bootstrap=True, class_weight=None, criterion='gini',\n",
       "            max_depth=None, max_features='auto', max_leaf_nodes=None,\n",
       "            min_impurity_decrease=0.0, min_impurity_split=None,\n",
       "            min_samples_leaf=1, min_samples_split=2,\n",
       "            min_weight_fraction_leaf=0.0, n_estimators=50, n_jobs=-1,\n",
       "            oob_score=False, random_state=None, verbose=0,\n",
       "            warm_start=False)"
      ]
     },
     "execution_count": 5,
     "metadata": {},
     "output_type": "execute_result"
    }
   ],
   "source": [
    "# Creating the embedding\n",
    "e = EmbeddingVectorizer(embeddings_index)\n",
    "X_train_embedded = e.transform(X_train)\n",
    "\n",
    "# Train the classifier\n",
    "rf = RandomForestClassifier(n_estimators=50, n_jobs=-1)\n",
    "rf.fit(X_train_embedded, y_train)"
   ]
  },
  {
   "cell_type": "code",
   "execution_count": 6,
   "metadata": {
    "ExecuteTime": {
     "end_time": "2019-05-26T10:57:52.202584Z",
     "start_time": "2019-05-26T10:57:48.805805Z"
    }
   },
   "outputs": [],
   "source": [
    "X_test_embedded = e.transform(X_test)\n",
    "predictions = rf.predict(X_test_embedded)"
   ]
  },
  {
   "cell_type": "code",
   "execution_count": 7,
   "metadata": {
    "ExecuteTime": {
     "end_time": "2019-05-26T10:57:52.236303Z",
     "start_time": "2019-05-26T10:57:52.207445Z"
    }
   },
   "outputs": [
    {
     "name": "stdout",
     "output_type": "stream",
     "text": [
      "AUC score:  0.7390774760383386\n"
     ]
    },
    {
     "data": {
      "text/plain": [
       "array([[224,  89],\n",
       "       [ 95, 305]])"
      ]
     },
     "execution_count": 7,
     "metadata": {},
     "output_type": "execute_result"
    }
   ],
   "source": [
    "print('AUC score: ', roc_auc_score(predictions, y_test))\n",
    "confusion_matrix(predictions, y_test)"
   ]
  }
 ],
 "metadata": {
  "kernelspec": {
   "display_name": "Python 3",
   "language": "python",
   "name": "python3"
  },
  "language_info": {
   "codemirror_mode": {
    "name": "ipython",
    "version": 3
   },
   "file_extension": ".py",
   "mimetype": "text/x-python",
   "name": "python",
   "nbconvert_exporter": "python",
   "pygments_lexer": "ipython3",
   "version": "3.7.3"
  }
 },
 "nbformat": 4,
 "nbformat_minor": 2
}
