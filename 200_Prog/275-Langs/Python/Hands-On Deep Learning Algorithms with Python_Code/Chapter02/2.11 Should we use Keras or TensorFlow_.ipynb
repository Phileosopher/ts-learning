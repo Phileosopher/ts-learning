{
 "cells": [
  {
   "cell_type": "markdown",
   "metadata": {},
   "source": [
    "# Should we use keras or TensorFlow?\n",
    "\n",
    "\n",
    "As we learned that Tensorflow 2.0 uses Keras as a high-level API. Using a high-level API\n",
    "enables rapid prototyping. But we can't use high-level APIs when we want to build the\n",
    "model on a low level and if we want to build something that high-level API doesn't\n",
    "provide.\n",
    "\n",
    "\n",
    "\n",
    "\n",
    "Also, writing code from the scratch strengthens our knowledge on the algorithms and helps\n",
    "us to understand and learn the concepts better than directly diving into high-level\n",
    "APIs. \n",
    "\n",
    "\n",
    "\n",
    "__Thus, in this book, we will code most of the algorithms from scratch using\n",
    "Tensorflow without using high-level APIs like Keras. We will be using Tensorflow version\n",
    "1.13.1. __"
   ]
  },
  {
   "cell_type": "markdown",
   "metadata": {},
   "source": [
    "In the next chapter, we will go into the basics and learn in detail about the gradient descent and several variants of gradient descent algorithms."
   ]
  }
 ],
 "metadata": {
  "kernelspec": {
   "display_name": "Python 2",
   "language": "python",
   "name": "python2"
  },
  "language_info": {
   "codemirror_mode": {
    "name": "ipython",
    "version": 2
   },
   "file_extension": ".py",
   "mimetype": "text/x-python",
   "name": "python",
   "nbconvert_exporter": "python",
   "pygments_lexer": "ipython2",
   "version": "2.7.12"
  }
 },
 "nbformat": 4,
 "nbformat_minor": 2
}
