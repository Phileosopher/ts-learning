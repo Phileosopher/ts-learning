{
 "cells": [
  {
   "cell_type": "markdown",
   "metadata": {},
   "source": [
    "# Generating images using GAN in TensorFlow\n",
    "\n",
    "\n",
    "\n",
    "Let's strengthen our understanding of GANs by building them to generate images of handwritten digits in Tensorflow."
   ]
  },
  {
   "cell_type": "markdown",
   "metadata": {},
   "source": [
    "## Import libraries\n",
    "\n",
    "First, we will import all the necessary libraries:"
   ]
  },
  {
   "cell_type": "code",
   "execution_count": 1,
   "metadata": {},
   "outputs": [],
   "source": [
    "import warnings\n",
    "warnings.filterwarnings('ignore')\n",
    "\n",
    "import numpy as np\n",
    "import tensorflow as tf\n",
    "from tensorflow.examples.tutorials.mnist import input_data\n",
    "tf.logging.set_verbosity(tf.logging.ERROR)\n",
    "\n",
    "import matplotlib.pyplot as plt\n",
    "%matplotlib inline\n",
    "\n",
    "tf.reset_default_graph()"
   ]
  },
  {
   "cell_type": "markdown",
   "metadata": {},
   "source": [
    "### Read the Dataset\n",
    "\n",
    "Load the MNIST dataset:"
   ]
  },
  {
   "cell_type": "code",
   "execution_count": 2,
   "metadata": {},
   "outputs": [
    {
     "name": "stdout",
     "output_type": "stream",
     "text": [
      "Extracting data/mnist/train-images-idx3-ubyte.gz\n",
      "Extracting data/mnist/train-labels-idx1-ubyte.gz\n",
      "Extracting data/mnist/t10k-images-idx3-ubyte.gz\n",
      "Extracting data/mnist/t10k-labels-idx1-ubyte.gz\n"
     ]
    }
   ],
   "source": [
    "data = input_data.read_data_sets(\"data/mnist\",one_hot=True)"
   ]
  },
  {
   "cell_type": "markdown",
   "metadata": {},
   "source": [
    "Let's plot one image:"
   ]
  },
  {
   "cell_type": "code",
   "execution_count": 3,
   "metadata": {
    "scrolled": true
   },
   "outputs": [
    {
     "data": {
      "text/plain": [
       "<matplotlib.image.AxesImage at 0x7f1529d77990>"
      ]
     },
     "execution_count": 3,
     "metadata": {},
     "output_type": "execute_result"
    },
    {
     "data": {
      "image/png": "[encoded data removed]",
      "text/plain": [
       "<Figure size 432x288 with 1 Axes>"
      ]
     },
     "metadata": {},
     "output_type": "display_data"
    }
   ],
   "source": [
    "plt.imshow(data.train.images[13].reshape(28,28),cmap=\"gray\")"
   ]
  },
  {
   "cell_type": "markdown",
   "metadata": {},
   "source": [
    "## Defining Generator \n",
    "\n",
    "Generator $G$ takes the noise $z$ as an input and returns an image. We define the generator as a feedforward network with three layers. Instead of coding the generator network from scratch, we can use tf.layers.dense() which can be used to create a dense layer. It takes three parameters: inputs, number of units and the activation function. "
   ]
  },
  {
   "cell_type": "code",
   "execution_count": 4,
   "metadata": {},
   "outputs": [],
   "source": [
    "def generator(z,reuse=None):\n",
    "    \n",
    "    with tf.variable_scope('generator',reuse=reuse):\n",
    "        \n",
    "        hidden1 = tf.layers.dense(inputs=z,units=128,activation=tf.nn.leaky_relu)\n",
    "        hidden2 = tf.layers.dense(inputs=hidden1,units=128,activation=tf.nn.leaky_relu)\n",
    "        output = tf.layers.dense(inputs=hidden2,units=784,activation=tf.nn.tanh)\n",
    "        \n",
    "        return output"
   ]
  },
  {
   "cell_type": "markdown",
   "metadata": {},
   "source": [
    "## Defining Discriminator\n",
    "\n",
    "We know that discriminator $D$ returns the probability. i.e it will tell us the probability of the given image being real. We define the discriminator also as a feed forward network with 3 layers:"
   ]
  },
  {
   "cell_type": "code",
   "execution_count": 5,
   "metadata": {},
   "outputs": [],
   "source": [
    "def discriminator(X,reuse=None):\n",
    "    \n",
    "    with tf.variable_scope('discriminator',reuse=reuse):\n",
    "        \n",
    "        hidden1 = tf.layers.dense(inputs=X,units=128,activation=tf.nn.leaky_relu)\n",
    "        hidden2 = tf.layers.dense(inputs=hidden1,units=128,activation=tf.nn.leaky_relu)\n",
    "        logits = tf.layers.dense(inputs=hidden2,units=1)\n",
    "        output = tf.sigmoid(logits)\n",
    "        \n",
    "        return logits"
   ]
  },
  {
   "cell_type": "markdown",
   "metadata": {},
   "source": [
    "## Define the input placeholders\n",
    "\n",
    "\n",
    "Now, we define the placeholder for the input $x$ and the noise $z$. "
   ]
  },
  {
   "cell_type": "code",
   "execution_count": 6,
   "metadata": {},
   "outputs": [],
   "source": [
    "x = tf.placeholder(tf.float32,shape=[None,784])\n",
    "z = tf.placeholder(tf.float32,shape=[None,100])"
   ]
  },
  {
   "cell_type": "markdown",
   "metadata": {},
   "source": [
    "## Start the GAN!\n",
    "\n",
    "First, we feed the noise $z$ to the generator and it will output the fake image. i.e $ fake \\; x = G(z) $:"
   ]
  },
  {
   "cell_type": "code",
   "execution_count": 7,
   "metadata": {},
   "outputs": [],
   "source": [
    "fake_x = generator(z)"
   ]
  },
  {
   "cell_type": "markdown",
   "metadata": {},
   "source": [
    "Now, we feed the real image to the discriminator $D(x)$ and get the probabillty of the image being real:"
   ]
  },
  {
   "cell_type": "code",
   "execution_count": 8,
   "metadata": {},
   "outputs": [],
   "source": [
    "D_logits_real = discriminator(x) "
   ]
  },
  {
   "cell_type": "markdown",
   "metadata": {},
   "source": [
    "Similarly, we feed the fake image to the discriminator $D(z)$ and get the probabillty of the image being real:"
   ]
  },
  {
   "cell_type": "code",
   "execution_count": 9,
   "metadata": {},
   "outputs": [],
   "source": [
    "D_logits_fake = discriminator(fake_x,reuse=True) "
   ]
  },
  {
   "cell_type": "markdown",
   "metadata": {},
   "source": [
    "## Computing Loss Function\n",
    "\n",
    "Now, we will see, how to compute the loss function.\n",
    "\n",
    "\n",
    "\n",
    "### Discriminator Loss\n",
    "\n",
    "Discriminator loss is given as,\n",
    "\n",
    "${L ^{D} =  - \\mathbb{E}_{x \\sim p_{r}(x)}[\\log D(x)] - \\mathbb{E}_{z \\sim p_{z}(z)}[\\log (1-D(G(z))]} $\n",
    "\n",
    "\n",
    "<br>\n",
    "\n",
    "__First term__\n",
    "\n",
    "The first term i.e - $\\mathbb{E}_{x \\sim p_{r}(x)}[\\log D(x)]$ implies the expectations of the log likelihood of images sampled from the real data distribution being real.\n",
    "\n",
    "\n",
    "It is basically the binary cross entropy loss. We can implement binary cross entropy loss with tensorflow function tf.nn.sigmoid_cross_entropy_with_logits().  It takes two parameters as inputs: logits and labels. \n",
    "\n",
    "\n",
    "* Logits, as the name suggests, it is the logits of the network so it is D_logits_real. \n",
    "\n",
    "* Labels, as the name suggests, it is the true label. We learned that discriminator should return 1 for real image and 0 for fake image. Since we are calculating the loss for input images sampled from the real data distribution, the true label is 1. \n",
    "\n",
    "\n",
    "We use tf.ones_likes() for setting the labels to 1 with the same shape as D_logits_real. That is, labels = tf.ones_like(D_logits_real)\n",
    "\n",
    "\n",
    "Then we compute the mean loss using tf.reduce_mean(). If you notice, there is a minus sign in our loss function which we added for converting our loss to a minimization objective. But, in the below code, there is no minus sign, Because tensorflow optimizers will only minimize and not maximize. So we don't have to add minus sign in our implementation because anyways it will be minimized by the tensorflow optimizer. "
   ]
  },
  {
   "cell_type": "code",
   "execution_count": 10,
   "metadata": {},
   "outputs": [],
   "source": [
    "D_loss_real = tf.reduce_mean(tf.nn.sigmoid_cross_entropy_with_logits(logits=D_logits_real,\n",
    "                                                                     labels=tf.ones_like(D_logits_real)))"
   ]
  },
  {
   "cell_type": "markdown",
   "metadata": {},
   "source": [
    "__Second Term__\n",
    "\n",
    "\n",
    "The second term, - $\\mathbb{E}_{z \\sim p_{z}(z)}[\\log (1-D(G(z))]$  implies the expectations of the log likelihood of images generated by the generator being fake. \n",
    "\n",
    "\n",
    "Similar to the first term we can use tf.nn.sigmoid_cross_entropy_with_logits() for caclauting the binary cross entorpy loss. \n",
    "\n",
    "\n",
    "Here, \n",
    "\n",
    "* Logits is the D_logits_fake\n",
    "\n",
    "* Since we are calculating the loss for the fake images generated by the generator, the true label is 0.\n",
    "\n",
    "\n",
    "We use tf.zeros_like() for setting the labels to 0 with the same shape as D_logits_fake. That is, labels = tf.zeros_like(D_logits_fake)"
   ]
  },
  {
   "cell_type": "code",
   "execution_count": 11,
   "metadata": {},
   "outputs": [],
   "source": [
    "D_loss_fake = tf.reduce_mean(tf.nn.sigmoid_cross_entropy_with_logits(logits=D_logits_fake,\n",
    "                                                                     labels=tf.zeros_like(D_logits_fake)))"
   ]
  },
  {
   "cell_type": "markdown",
   "metadata": {},
   "source": [
    "__Final term__\n",
    "\n",
    "So, combining the above two terms, loss function of the discriminator is given as:"
   ]
  },
  {
   "cell_type": "code",
   "execution_count": 12,
   "metadata": {},
   "outputs": [],
   "source": [
    "D_loss = D_loss_real + D_loss_fake"
   ]
  },
  {
   "cell_type": "markdown",
   "metadata": {},
   "source": [
    "### Generator Loss\n",
    "\n",
    "Generator loss is given as, \n",
    "\n",
    "${L^{G}= - \\mathbb{E}_{z \\sim p_{z}(z)}[\\log (D(G(z)))] } $\n",
    "\n",
    "\n",
    "It implies the probability of the fake image being classified as a real image. As we calculated binary cross entropy in the discriminator, we use tf.nn.sigmoid_cross_entropy_with_logits() for calculating the loss.\n",
    "\n",
    "\n",
    "\n",
    "Here,\n",
    "\n",
    "* Logits is the D_logits_fake\n",
    "\n",
    "* Labels: Since our loss implies the probability of the fake image being classified as real, the true label is 1. Because, as we learned, the goal of the generator is to generate the fake image and fool the discriminator to classify the fake image as a real image. \n",
    "\n",
    "We use tf.ones_like() for setting the labels to 1 with the same shape as D_logits_fake. That is, labels = tf.ones_like(D_logits_fake)\n"
   ]
  },
  {
   "cell_type": "code",
   "execution_count": 13,
   "metadata": {},
   "outputs": [],
   "source": [
    "G_loss = tf.reduce_mean(tf.nn.sigmoid_cross_entropy_with_logits(logits=D_logits_fake, \n",
    "                                                                labels=tf.ones_like(D_logits_fake)))"
   ]
  },
  {
   "cell_type": "markdown",
   "metadata": {},
   "source": [
    "## Optimizing the Loss\n",
    "\n",
    "\n",
    "Now we need to optimize our generator and discriminator. So, we collect the parameters of the discriminator and generator as $\\theta_D$ and $\\theta_G$ respectively. "
   ]
  },
  {
   "cell_type": "code",
   "execution_count": 14,
   "metadata": {},
   "outputs": [],
   "source": [
    "training_vars = tf.trainable_variables()\n",
    "\n",
    "theta_D = [var for var in training_vars if 'dis' in var.name]\n",
    "theta_G = [var for var in training_vars if 'gen' in var.name]"
   ]
  },
  {
   "cell_type": "markdown",
   "metadata": {},
   "source": [
    "Optimize the loss using adam optimizer:"
   ]
  },
  {
   "cell_type": "code",
   "execution_count": 15,
   "metadata": {},
   "outputs": [],
   "source": [
    "D_optimizer = tf.train.AdamOptimizer(0.001).minimize(D_loss,var_list = theta_D)\n",
    "G_optimizer = tf.train.AdamOptimizer(0.001).minimize(G_loss, var_list = theta_G)"
   ]
  },
  {
   "cell_type": "markdown",
   "metadata": {},
   "source": [
    "## Start the Training the GAN\n",
    "\n",
    "Define the batch size, number of epochs and initialize all variables:"
   ]
  },
  {
   "cell_type": "code",
   "execution_count": 16,
   "metadata": {},
   "outputs": [],
   "source": [
    "batch_size = 100\n",
    "num_epochs = 1000\n",
    "\n",
    "init = tf.global_variables_initializer()"
   ]
  },
  {
   "cell_type": "markdown",
   "metadata": {},
   "source": [
    "### Generate Handwritten Digits"
   ]
  },
  {
   "cell_type": "markdown",
   "metadata": {},
   "source": [
    "Start the tensorflow session and generate handwritten digits:"
   ]
  },
  {
   "cell_type": "code",
   "execution_count": null,
   "metadata": {},
   "outputs": [
    {
     "name": "stdout",
     "output_type": "stream",
     "text": [
      "Epoch: 0, iteration: 549, Discriminator Loss:4.96056985855, Generator Loss: 0.880222082138\n"
     ]
    },
    {
     "data": {
      "image/png": "[encoded data removed]",
      "text/plain": [
       "<Figure size 432x288 with 1 Axes>"
      ]
     },
     "metadata": {},
     "output_type": "display_data"
    },
    {
     "name": "stdout",
     "output_type": "stream",
     "text": [
      "Epoch: 100, iteration: 549, Discriminator Loss:1.29050672054, Generator Loss: 0.897918999195\n"
     ]
    },
    {
     "data": {
      "image/png": "[encoded data removed]",
      "text/plain": [
       "<Figure size 432x288 with 1 Axes>"
      ]
     },
     "metadata": {},
     "output_type": "display_data"
    }
   ],
   "source": [
    "with tf.Session() as session:\n",
    "    \n",
    "    \n",
    "    #initialize all variables\n",
    "    session.run(init)\n",
    "    \n",
    "    #for each epoch\n",
    "    for epoch in range(num_epochs):\n",
    "        \n",
    "        #select number of batches\n",
    "        num_batches = data.train.num_examples // batch_size\n",
    "        \n",
    "        #for each batch\n",
    "        for i in range(num_batches):\n",
    "            \n",
    "            #get the batch of data according to the batch size\n",
    "            batch = data.train.next_batch(batch_size)\n",
    "            \n",
    "            #reshape the data  \n",
    "            batch_images = batch[0].reshape((batch_size,784))\n",
    "            batch_images = batch_images * 2 - 1\n",
    "            \n",
    "            #sample batch noise\n",
    "            batch_noise = np.random.uniform(-1,1,size=(batch_size,100))\n",
    "            \n",
    "            #define the feed dictionaries with input x as batch_images and noise z as batch noise\n",
    "            feed_dict = {x: batch_images, z : batch_noise}\n",
    "\n",
    "            \n",
    "            #train discriminator and generator\n",
    "            _ = session.run(D_optimizer,feed_dict = feed_dict)\n",
    "            _ = session.run(G_optimizer,feed_dict = feed_dict)\n",
    "\n",
    "            \n",
    "            #compute loss of discriminator and generator\n",
    "            discriminator_loss = D_loss.eval(feed_dict)\n",
    "            generator_loss = G_loss.eval(feed_dict)\n",
    "                      \n",
    "            \n",
    "        #feed the noise to a generator on every 100th epoch and generate an image\n",
    "        if epoch%100==0:\n",
    "            print(\"Epoch: {}, iteration: {}, Discriminator Loss:{}, Generator Loss: {}\".format(epoch,i,discriminator_loss,generator_loss))\n",
    "            \n",
    "            #generate a fake image\n",
    "            _fake_x = fake_x.eval(feed_dict)\n",
    "\n",
    "            #plot the fake image generated by the generator\n",
    "            plt.imshow(_fake_x[0].reshape(28,28))\n",
    "            plt.show()              "
   ]
  },
  {
   "cell_type": "markdown",
   "metadata": {},
   "source": [
    "Now that we learned how to generate images using GANs, in the next section we will learn about DCGAN which uses convolutional network instead of feedforward network in the generator and discriminator. "
   ]
  }
 ],
 "metadata": {
  "kernelspec": {
   "display_name": "Python 2",
   "language": "python",
   "name": "python2"
  },
  "language_info": {
   "codemirror_mode": {
    "name": "ipython",
    "version": 2
   },
   "file_extension": ".py",
   "mimetype": "text/x-python",
   "name": "python",
   "nbconvert_exporter": "python",
   "pygments_lexer": "ipython2",
   "version": "2.7.12"
  }
 },
 "nbformat": 4,
 "nbformat_minor": 2
}
