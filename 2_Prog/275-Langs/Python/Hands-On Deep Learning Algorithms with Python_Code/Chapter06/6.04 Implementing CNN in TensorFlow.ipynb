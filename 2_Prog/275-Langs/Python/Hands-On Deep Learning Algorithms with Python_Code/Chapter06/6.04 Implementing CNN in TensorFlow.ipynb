{
 "cells": [
  {
   "cell_type": "markdown",
   "metadata": {},
   "source": [
    "# Implementing CNN in TensorFlow"
   ]
  },
  {
   "cell_type": "markdown",
   "metadata": {},
   "source": [
    "Now, we will learn how to build CNN using Tensorflow. We will use MNIST handwritten digits dataset and understand how CNN recognize handwritten digits and we will also visualize how the convolutional layers extract important features from the image. "
   ]
  },
  {
   "cell_type": "markdown",
   "metadata": {},
   "source": [
    "## Import the libraries"
   ]
  },
  {
   "cell_type": "code",
   "execution_count": 1,
   "metadata": {},
   "outputs": [],
   "source": [
    "import warnings\n",
    "warnings.filterwarnings('ignore')  \n",
    "\n",
    "import numpy as np\n",
    "import tensorflow as tf\n",
    "from tensorflow.examples.tutorials.mnist import input_data\n",
    "tf.logging.set_verbosity(tf.logging.ERROR)\n",
    "\n",
    "import matplotlib.pyplot as plt\n",
    "%matplotlib inline"
   ]
  },
  {
   "cell_type": "markdown",
   "metadata": {},
   "source": [
    "## Load the MNIST dataset"
   ]
  },
  {
   "cell_type": "code",
   "execution_count": 2,
   "metadata": {},
   "outputs": [
    {
     "name": "stdout",
     "output_type": "stream",
     "text": [
      "Extracting data/mnist/train-images-idx3-ubyte.gz\n",
      "Extracting data/mnist/train-labels-idx1-ubyte.gz\n",
      "Extracting data/mnist/t10k-images-idx3-ubyte.gz\n",
      "Extracting data/mnist/t10k-labels-idx1-ubyte.gz\n"
     ]
    }
   ],
   "source": [
    "mnist = input_data.read_data_sets('data/mnist', one_hot=True) "
   ]
  },
  {
   "cell_type": "markdown",
   "metadata": {},
   "source": [
    "## Defining helper functions\n",
    "\n",
    "Now,  we define the functions for initializing weights and bias and for performing convolution and pooling operation."
   ]
  },
  {
   "cell_type": "markdown",
   "metadata": {},
   "source": [
    "Initialize weights by drawing values from a truncated normal distribution with a standard deviation of 0.1. The weights are actually the filter. "
   ]
  },
  {
   "cell_type": "code",
   "execution_count": 3,
   "metadata": {},
   "outputs": [],
   "source": [
    "def initialize_weights(shape):\n",
    "    return tf.Variable(tf.truncated_normal(shape, stddev=0.1))"
   ]
  },
  {
   "cell_type": "markdown",
   "metadata": {},
   "source": [
    "Initialize the bias with constant value, 0.1:"
   ]
  },
  {
   "cell_type": "code",
   "execution_count": 4,
   "metadata": {},
   "outputs": [],
   "source": [
    "def initialize_bias(shape):\n",
    "    return tf.Variable(tf.constant(0.1, shape=shape))"
   ]
  },
  {
   "cell_type": "markdown",
   "metadata": {},
   "source": [
    "We define a function called convolution using tf.nn.conv2d() which actually performs the convolutional operation i.e element-wise multiplication of the input matrix (x) by the filter (w) with a stride of 1 and same padding. \n",
    "\n",
    "We set strides = [1,1,1,1]. The first and last values of strides are set to 1 which implies we don't want to move between training samples and different channels. The second and third values of strides are also set to 1 which implies we move the filter by 1 pixel in both height and width direction."
   ]
  },
  {
   "cell_type": "code",
   "execution_count": 5,
   "metadata": {},
   "outputs": [],
   "source": [
    "def convolution(x, W):\n",
    "    return tf.nn.conv2d(x, W, strides=[1,1,1,1], padding='SAME')"
   ]
  },
  {
   "cell_type": "markdown",
   "metadata": {},
   "source": [
    "We define a function called max_pooling using tf.nn.max_pool() to perform the pooling operation. We perform max pooling with strides of 2 and same padding, ksize implies our pooling window shape."
   ]
  },
  {
   "cell_type": "code",
   "execution_count": 6,
   "metadata": {},
   "outputs": [],
   "source": [
    "def max_pooling(x):\n",
    "    return tf.nn.max_pool(x, ksize=[1,2,2,1], strides=[1,2,2,1], padding='SAME')"
   ]
  },
  {
   "cell_type": "markdown",
   "metadata": {},
   "source": [
    "### Define the placeholders for input and output"
   ]
  },
  {
   "cell_type": "markdown",
   "metadata": {},
   "source": [
    "Placeholder for input image:"
   ]
  },
  {
   "cell_type": "code",
   "execution_count": 7,
   "metadata": {},
   "outputs": [],
   "source": [
    "X_ = tf.placeholder(tf.float32, [None, 784])"
   ]
  },
  {
   "cell_type": "markdown",
   "metadata": {},
   "source": [
    "Placeholder for reshaped input image:"
   ]
  },
  {
   "cell_type": "code",
   "execution_count": 8,
   "metadata": {},
   "outputs": [],
   "source": [
    "X = tf.reshape(X_, [-1, 28, 28, 1])"
   ]
  },
  {
   "cell_type": "markdown",
   "metadata": {},
   "source": [
    "Placeholder for output:"
   ]
  },
  {
   "cell_type": "code",
   "execution_count": 9,
   "metadata": {},
   "outputs": [],
   "source": [
    "y = tf.placeholder(tf.float32, [None, 10])"
   ]
  },
  {
   "cell_type": "markdown",
   "metadata": {},
   "source": [
    "## Define the Convolutional Network\n",
    "\n",
    "\n",
    "Our network architecture consists of 2 convolutional layers. Each convolutional layer is followed by 1 pooling layer and we use a fully connected layer which is followed by an output layer.\n",
    "\n",
    "That is, __convolution1->pooling1->convolution2->pooling2->fully connected layer-> output layer__\n",
    "\n",
    "\n",
    "__First, we define the first convolutional layer and pooling layer:__\n",
    "\n",
    "The weights are actually the filter in the convolutional layers. So, the weight matrix will be initialized as [ filter_shape[0], fliter_shape[1], number_of_input_channel, filter_size ]\n",
    "\n",
    "\n",
    "We use a 5 x 5 filter. Since we use grayscale images, number of input channels will be 1 and we set the filter size as 32. \n",
    " \n",
    "\n",
    "So, the weight matrix of the first convolution layer will be [5,5,1,32]."
   ]
  },
  {
   "cell_type": "code",
   "execution_count": 10,
   "metadata": {},
   "outputs": [],
   "source": [
    "W1 = initialize_weights([5,5,1,32])"
   ]
  },
  {
   "cell_type": "markdown",
   "metadata": {},
   "source": [
    "Shape of the bias is just the filter size which is 32:"
   ]
  },
  {
   "cell_type": "code",
   "execution_count": 11,
   "metadata": {},
   "outputs": [],
   "source": [
    "b1 = initialize_bias([32])"
   ]
  },
  {
   "cell_type": "markdown",
   "metadata": {},
   "source": [
    "Perform the first convolution operation with ReLU activations followed by max pooling:"
   ]
  },
  {
   "cell_type": "code",
   "execution_count": 12,
   "metadata": {},
   "outputs": [],
   "source": [
    "conv1 = tf.nn.relu(convolution(X, W1) + b1)\n",
    "pool1 = max_pooling(conv1)"
   ]
  },
  {
   "cell_type": "markdown",
   "metadata": {},
   "source": [
    "\n",
    "__Next, we define the Second convolutional and pooling layer:__\n",
    "\n",
    "As the second convolutional layer takes the input from the first convolutional layer which has 32 channel output, the number of input channel to the second convolutional layer becomes 32 and we use 5 x 5 filter with a filter size of 64. Thus, the weight matrix for the second convolutional layer becomes [5,5,32,64]."
   ]
  },
  {
   "cell_type": "code",
   "execution_count": 13,
   "metadata": {},
   "outputs": [],
   "source": [
    "W2 = initialize_weights([5,5,32,64])"
   ]
  },
  {
   "cell_type": "markdown",
   "metadata": {},
   "source": [
    "Shape of the bias is just the filter size which is 64:"
   ]
  },
  {
   "cell_type": "code",
   "execution_count": 14,
   "metadata": {},
   "outputs": [],
   "source": [
    "b2 = initialize_bias([64])"
   ]
  },
  {
   "cell_type": "markdown",
   "metadata": {},
   "source": [
    "Perform the second convolution operation with ReLU activations followed by max pooling:"
   ]
  },
  {
   "cell_type": "code",
   "execution_count": 15,
   "metadata": {},
   "outputs": [],
   "source": [
    "conv2 = tf.nn.relu(convolution(pool1, W2) + b2)\n",
    "pool2 = max_pooling(conv2)"
   ]
  },
  {
   "cell_type": "markdown",
   "metadata": {},
   "source": [
    "After two convolution and pooling layers, we need to flatten the output before feeding it to the fully connected layer. So, we flatten the result of the second pooling layer and feed it to the fully connected layer.\n",
    "\n",
    "\n",
    "\n",
    "__Flatten the result of the second pooling layer:__"
   ]
  },
  {
   "cell_type": "code",
   "execution_count": 16,
   "metadata": {},
   "outputs": [],
   "source": [
    "flattened = tf.reshape(pool2, [-1, 7*7*64])"
   ]
  },
  {
   "cell_type": "markdown",
   "metadata": {},
   "source": [
    "__Define the Fully connected layer:__\n",
    "\n",
    "Now we define the weights and bias for the fully connected layer. We know that we set the shape of the weight matrix as [number of neurons in the current layer, number of neurons layer in the next layer].\n",
    "\n",
    "Since the shape of the input image becomes 7x7x64 after flattening and we use 1024 neurons in the hidden layer. The shape of the weights become [7x7x64, 1024]."
   ]
  },
  {
   "cell_type": "code",
   "execution_count": 17,
   "metadata": {},
   "outputs": [],
   "source": [
    "W_fc = initialize_weights([7*7*64, 1024])\n",
    "b_fc = initialize_bias([1024])"
   ]
  },
  {
   "cell_type": "markdown",
   "metadata": {},
   "source": [
    "Fully connected layer with ReLU activations:"
   ]
  },
  {
   "cell_type": "code",
   "execution_count": 18,
   "metadata": {},
   "outputs": [],
   "source": [
    "fc_output = tf.nn.relu(tf.matmul(flattened, W_fc) + b_fc)"
   ]
  },
  {
   "cell_type": "markdown",
   "metadata": {},
   "source": [
    "__Define the output Layer__:\n",
    "\n",
    "We have 1024 neurons in the current layer and since we need to predict 10 classes we have 10 neurons in the next layer, thus shape of the weight matrix becomes [1024 x 10]"
   ]
  },
  {
   "cell_type": "code",
   "execution_count": 19,
   "metadata": {},
   "outputs": [],
   "source": [
    "W_out = initialize_weights([1024, 10])\n",
    "b_out = initialize_bias([10])"
   ]
  },
  {
   "cell_type": "markdown",
   "metadata": {},
   "source": [
    "Compute output with softmax activations:"
   ]
  },
  {
   "cell_type": "code",
   "execution_count": 20,
   "metadata": {},
   "outputs": [],
   "source": [
    "y_hat = tf.nn.softmax(tf.matmul(fc_output, W_out) + b_out)"
   ]
  },
  {
   "cell_type": "markdown",
   "metadata": {},
   "source": [
    "## Compute Loss\n",
    "\n",
    "Compute the loss using cross entropy. We know that cross entropy loss is given as:\n",
    "\n",
    "$$ \\operatorname{cross entropy} =  - \\sum_i y log (\\hat{y}_i) $$\n",
    "\n",
    "\n",
    "where $y$ is the actual label and $\\hat{y}$ is the predicted label. \n",
    "\n",
    "Thus, cross entropy loss is implemented as:\n",
    "\n"
   ]
  },
  {
   "cell_type": "code",
   "execution_count": 21,
   "metadata": {},
   "outputs": [],
   "source": [
    "cross_entropy = -tf.reduce_sum(y*tf.log(y_hat))"
   ]
  },
  {
   "cell_type": "markdown",
   "metadata": {},
   "source": [
    "Minimize the loss using Adam optimizer with 1e-4 as learning rate:"
   ]
  },
  {
   "cell_type": "code",
   "execution_count": 22,
   "metadata": {},
   "outputs": [],
   "source": [
    "optimizer = tf.train.AdamOptimizer(1e-4).minimize(cross_entropy)"
   ]
  },
  {
   "cell_type": "markdown",
   "metadata": {},
   "source": [
    "Compute accuracy:"
   ]
  },
  {
   "cell_type": "code",
   "execution_count": 23,
   "metadata": {},
   "outputs": [],
   "source": [
    "predicted_digit = tf.argmax(y_hat, 1)\n",
    "actual_digit = tf.argmax(y, 1)\n",
    "\n",
    "correct_pred = tf.equal(predicted_digit,actual_digit)\n",
    "accuracy = tf.reduce_mean(tf.cast(correct_pred, tf.float32))"
   ]
  },
  {
   "cell_type": "markdown",
   "metadata": {},
   "source": [
    "## Start training the CNN "
   ]
  },
  {
   "cell_type": "markdown",
   "metadata": {},
   "source": [
    "Start the tensorflow session and initialize all variables,"
   ]
  },
  {
   "cell_type": "code",
   "execution_count": 24,
   "metadata": {},
   "outputs": [],
   "source": [
    "sess = tf.Session()\n",
    "sess.run(tf.global_variables_initializer())"
   ]
  },
  {
   "cell_type": "markdown",
   "metadata": {},
   "source": [
    "Train the model for 1000 epoch. Print the results for every 100 epochs,"
   ]
  },
  {
   "cell_type": "code",
   "execution_count": 25,
   "metadata": {},
   "outputs": [
    {
     "name": "stdout",
     "output_type": "stream",
     "text": [
      "Epoch: 0, Loss:637.368591309 Accuracy: 0.15000000596\n",
      "Epoch: 100, Loss:46.8891830444 Accuracy: 0.910000026226\n",
      "Epoch: 200, Loss:46.2926445007 Accuracy: 0.879999995232\n",
      "Epoch: 300, Loss:10.5865783691 Accuracy: 0.959999978542\n",
      "Epoch: 400, Loss:15.8229551315 Accuracy: 0.949999988079\n",
      "Epoch: 500, Loss:15.4611291885 Accuracy: 0.939999997616\n",
      "Epoch: 600, Loss:13.0949325562 Accuracy: 0.949999988079\n",
      "Epoch: 700, Loss:5.35812568665 Accuracy: 0.990000009537\n",
      "Epoch: 800, Loss:9.73382663727 Accuracy: 0.990000009537\n",
      "Epoch: 900, Loss:6.86854743958 Accuracy: 0.959999978542\n"
     ]
    }
   ],
   "source": [
    "for epoch in range(1000):\n",
    "    \n",
    "    #select some batch of data points according to the batch size (100)\n",
    "    X_batch, y_batch = mnist.train.next_batch(batch_size=100)\n",
    "    \n",
    "    #train the network\n",
    "    loss, acc,  _ = sess.run([cross_entropy, accuracy, optimizer], feed_dict={X_: X_batch, y: y_batch})\n",
    "    \n",
    "    #print the loss on every 100th epoch\n",
    "    if epoch%100 == 0:\n",
    "        print('Epoch: {}, Loss:{} Accuracy: {}'.format(epoch,loss,acc))"
   ]
  },
  {
   "cell_type": "markdown",
   "metadata": {},
   "source": [
    "As you can see above, the loss is getting decreased and accuracy is getting increased over the epochs. "
   ]
  },
  {
   "cell_type": "markdown",
   "metadata": {},
   "source": [
    "## Visualizing extracted features\n",
    "\n",
    "\n",
    "Now that we have trained our CNN model, we see what features our CNN has extracted to recognize the image. As we learned that each convolutional layer extracts important features from the image. We will see what features our first convolutional layer has extracted to recognize the handwritten digits. \n",
    "\n",
    "First, let us select one image from the training set say digit 2,"
   ]
  },
  {
   "cell_type": "code",
   "execution_count": 26,
   "metadata": {},
   "outputs": [
    {
     "data": {
      "text/plain": [
       "<matplotlib.image.AxesImage at 0x7f5a487b17d0>"
      ]
     },
     "execution_count": 26,
     "metadata": {},
     "output_type": "execute_result"
    },
    {
     "data": {
      "image/png": "[encoded data removed]",
      "text/plain": [
       "<Figure size 432x288 with 1 Axes>"
      ]
     },
     "metadata": {},
     "output_type": "display_data"
    }
   ],
   "source": [
    "plt.imshow(mnist.train.images[5].reshape([28, 28]))"
   ]
  },
  {
   "cell_type": "markdown",
   "metadata": {},
   "source": [
    "Feed this image to the first convolutional layer, that is, conv1 and get the feature maps:"
   ]
  },
  {
   "cell_type": "code",
   "execution_count": 27,
   "metadata": {},
   "outputs": [],
   "source": [
    "image = mnist.train.images[7].reshape([-1, 784])\n",
    "feature_map = sess.run([conv1], feed_dict={X_: image})[0]"
   ]
  },
  {
   "cell_type": "markdown",
   "metadata": {},
   "source": [
    "Plot the feature map. As you can see in the below plot, the first convolutional layer has learned to extract edges from the given image"
   ]
  },
  {
   "cell_type": "code",
   "execution_count": 28,
   "metadata": {},
   "outputs": [
    {
     "data": {
      "image/png": "[encoded data removed]",
      "text/plain": [
       "<Figure size 432x288 with 32 Axes>"
      ]
     },
     "metadata": {},
     "output_type": "display_data"
    }
   ],
   "source": [
    "for i in range(32):\n",
    "    feature = feature_map[:,:,:,i].reshape([28, 28])\n",
    "    plt.subplot(4,8, i + 1)\n",
    "    plt.imshow(feature)\n",
    "    plt.axis('off')\n",
    "plt.show()"
   ]
  },
  {
   "cell_type": "markdown",
   "metadata": {},
   "source": [
    "Thus, this is how the convolutional neural network uses multiple convolutional layers to extract important features from the image and feed these extracted features to a fully connected layer to classify the image. \n",
    "\n",
    "\n",
    "Now that we have learned how CNN works in the next section we will learn several interesting architectures of CNN."
   ]
  }
 ],
 "metadata": {
  "kernelspec": {
   "display_name": "Python 2",
   "language": "python",
   "name": "python2"
  },
  "language_info": {
   "codemirror_mode": {
    "name": "ipython",
    "version": 2
   },
   "file_extension": ".py",
   "mimetype": "text/x-python",
   "name": "python",
   "nbconvert_exporter": "python",
   "pygments_lexer": "ipython2",
   "version": "2.7.12"
  }
 },
 "nbformat": 4,
 "nbformat_minor": 2
}
