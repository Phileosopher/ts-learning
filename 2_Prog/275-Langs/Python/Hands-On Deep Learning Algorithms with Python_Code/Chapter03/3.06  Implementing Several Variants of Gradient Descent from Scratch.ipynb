{
 "cells": [
  {
   "cell_type": "markdown",
   "metadata": {},
   "source": [
    "#  Implementing Several Variants of Gradient Descent from Scratch"
   ]
  },
  {
   "cell_type": "markdown",
   "metadata": {},
   "source": [
    "Now that we have understood several variants of gradient descent algorithm. In this section, we will understand how can we use them in finding the optimal parameters of simple linear regression. \n",
    "\n",
    "\n",
    "The equation of a simple linear regression can be expressed as:\n",
    "\n",
    "$$ \\hat{y} = mx + b -- (1) $$\n",
    "\n",
    "Thus, we have two parameters $m$ and $b$. We will see how can we use gradient descent and find the optimal values for these two parameters $m$ and $b$. "
   ]
  },
  {
   "cell_type": "markdown",
   "metadata": {},
   "source": [
    "# Import the Libraries\n",
    "\n",
    "Import the required libraries:"
   ]
  },
  {
   "cell_type": "code",
   "execution_count": 1,
   "metadata": {
    "collapsed": true
   },
   "outputs": [],
   "source": [
    "import warnings\n",
    "warnings.filterwarnings('ignore')\n",
    "\n",
    "\n",
    "import random\n",
    "import math\n",
    "import numpy as np\n",
    "from matplotlib import pyplot as plt\n",
    "%matplotlib inline"
   ]
  },
  {
   "cell_type": "markdown",
   "metadata": {},
   "source": [
    "# Prepare the dataset"
   ]
  },
  {
   "cell_type": "markdown",
   "metadata": {},
   "source": [
    "We generate some random data points with 500 rows and 2 columns (x and y) and use for training:"
   ]
  },
  {
   "cell_type": "code",
   "execution_count": 2,
   "metadata": {
    "collapsed": true
   },
   "outputs": [],
   "source": [
    "data = np.random.randn(500, 2)"
   ]
  },
  {
   "cell_type": "markdown",
   "metadata": {},
   "source": [
    "As you can see our data has two columns:"
   ]
  },
  {
   "cell_type": "code",
   "execution_count": 3,
   "metadata": {
    "scrolled": true
   },
   "outputs": [
    {
     "data": {
      "text/plain": [
       "array([-1.32615471,  0.67611009])"
      ]
     },
     "execution_count": 3,
     "metadata": {},
     "output_type": "execute_result"
    }
   ],
   "source": [
    "data[0]"
   ]
  },
  {
   "cell_type": "markdown",
   "metadata": {},
   "source": [
    "First column indicates the $x$ value:"
   ]
  },
  {
   "cell_type": "code",
   "execution_count": 4,
   "metadata": {},
   "outputs": [
    {
     "data": {
      "text/plain": [
       "-1.3261547057405747"
      ]
     },
     "execution_count": 4,
     "metadata": {},
     "output_type": "execute_result"
    }
   ],
   "source": [
    "data[0,0]"
   ]
  },
  {
   "cell_type": "markdown",
   "metadata": {},
   "source": [
    "Second column indicates the $y$ value:"
   ]
  },
  {
   "cell_type": "code",
   "execution_count": 5,
   "metadata": {},
   "outputs": [
    {
     "data": {
      "text/plain": [
       "0.6761100886332423"
      ]
     },
     "execution_count": 5,
     "metadata": {},
     "output_type": "execute_result"
    }
   ],
   "source": [
    "data[0,1]"
   ]
  },
  {
   "cell_type": "markdown",
   "metadata": {},
   "source": [
    "We know that equation of a simple linear regression is expressed as:\n",
    "\n",
    "$$ \\hat{y} = mx + b  $$\n",
    "\n",
    "Thus, we have two parameters $m$ and $b$.  We store both of these parameter $m$ and $b$ in an array called theta. First, we initialize theta with zeros as shown below:"
   ]
  },
  {
   "cell_type": "code",
   "execution_count": 6,
   "metadata": {
    "collapsed": true
   },
   "outputs": [],
   "source": [
    "theta = np.zeros(2)"
   ]
  },
  {
   "cell_type": "code",
   "execution_count": 7,
   "metadata": {},
   "outputs": [
    {
     "data": {
      "text/plain": [
       "array([0., 0.])"
      ]
     },
     "execution_count": 7,
     "metadata": {},
     "output_type": "execute_result"
    }
   ],
   "source": [
    "theta"
   ]
  },
  {
   "cell_type": "markdown",
   "metadata": {},
   "source": [
    "theta[0] represents the value of $m$ and theta[1] represents the value of $b$"
   ]
  },
  {
   "cell_type": "markdown",
   "metadata": {},
   "source": [
    "# Loss Function \n",
    "\n",
    "Mean Squared Error (MSE) of Regression is given as:\n",
    "\n",
    "$$J=\\frac{1}{N} \\sum_{i=1}^{N}(y-\\hat{y})^{2} -- (2) $$\n",
    "\n",
    "\n",
    "Where $N$ is the number of training samples, $y$ is the actual value and $\\hat{y}$ is the predicted value.\n",
    "\n",
    "The above loss function can be implemented as:\n",
    "\n",
    "We feed the data and the model parameter theta to the loss function which returns the MSE. Remember, data[,0] has $x$ value and data[,1] has $y$ value. Similarly, theta [0] has a value of $m$ and theta[1] has a value of $b$. "
   ]
  },
  {
   "cell_type": "code",
   "execution_count": 8,
   "metadata": {
    "collapsed": true
   },
   "outputs": [],
   "source": [
    "def loss_function(data,theta):\n",
    "    \n",
    "    #get m and b\n",
    "    m = theta[0]\n",
    "    b = theta[1]\n",
    "    \n",
    "    loss = 0\n",
    "    \n",
    "    #on each data point \n",
    "    for i in range(0, len(data)):\n",
    "        \n",
    "        #get x and y\n",
    "        x = data[i, 0]\n",
    "        y = data[i, 1]\n",
    "        \n",
    "        #predict the value of y \n",
    "        y_hat = (m*x + b)\n",
    "        \n",
    "        #compute loss as given in quation (2)\n",
    "        loss = loss + ((y - (y_hat)) ** 2)\n",
    "        \n",
    "    #mean sqaured loss\n",
    "    mean_squared_loss = loss / float(len(data))\n",
    "        \n",
    "    return mean_squared_loss"
   ]
  },
  {
   "cell_type": "markdown",
   "metadata": {},
   "source": [
    "When we feed our randomly initialized data and model parameter theta, the loss_function returns the mean squared loss as shown below:"
   ]
  },
  {
   "cell_type": "code",
   "execution_count": 9,
   "metadata": {
    "scrolled": true
   },
   "outputs": [
    {
     "data": {
      "text/plain": [
       "0.8814103222330404"
      ]
     },
     "execution_count": 9,
     "metadata": {},
     "output_type": "execute_result"
    }
   ],
   "source": [
    "loss_function(data, theta)"
   ]
  },
  {
   "cell_type": "markdown",
   "metadata": {},
   "source": [
    "Now, we need to minimize this loss. In order to minimize the loss, we need to calculate the gradient of the loss function $J$ with respect to the model parameters $m$ and $b$ and update the parameter according to the parameter update rule. So, first, we will calculate the gradient of the loss function. "
   ]
  },
  {
   "cell_type": "markdown",
   "metadata": {},
   "source": [
    "# Gradients of Loss Function "
   ]
  },
  {
   "cell_type": "markdown",
   "metadata": {},
   "source": [
    "\n",
    "Gradients of loss function $J$ with respect to parameter $m$ is given as:\n",
    "\n",
    "\n",
    "$$ \\frac{d J}{d m}=\\frac{2}{N} \\sum_{i=1}^{N}-x_{i}\\left(y_{i}-\\left(m x_{i}+b\\right)\\right) -- (3)$$\n",
    "\n",
    "\n",
    "Gradients of loss function $J$ with respect to parameter $b$ is given as:\n",
    "$$ \\frac{d J}{d b}=\\frac{2}{N} \\sum_{i=1}^{N}-\\left(y_{i}-\\left(m x_{i}+b\\right)\\right) -- (4)$$\n",
    "\n",
    "We define a function called compute_gradients which takes the data and parameter theta as an input and returns the computed gradients:"
   ]
  },
  {
   "cell_type": "code",
   "execution_count": 10,
   "metadata": {
    "collapsed": true
   },
   "outputs": [],
   "source": [
    "def compute_gradients(data, theta):\n",
    "\n",
    "    gradients = np.zeros(2)\n",
    "    \n",
    "    #total number of data points\n",
    "    N = float(len(data))\n",
    "    \n",
    "    m = theta[0]\n",
    "    b = theta[1]\n",
    "    \n",
    "    #for each data point\n",
    "    for i in range(len(data)):\n",
    "        x = data[i, 0]\n",
    "        y = data[i, 1]\n",
    "           \n",
    "        #gradient of loss function with respect to m as given in (3)\n",
    "        gradients[0] += - (2 / N) * x * (y - (( m* x) + b))\n",
    "        \n",
    "        #gradient of loss funcction with respect to b as given in (4)\n",
    "        gradients[1] += - (2 / N) * (y - ((theta[0] * x) + b))\n",
    "    \n",
    "    #add epsilon to avoid division by zero error\n",
    "    epsilon = 1e-6 \n",
    "    gradients = np.divide(gradients, N + epsilon)\n",
    "\n",
    "    return gradients"
   ]
  },
  {
   "cell_type": "code",
   "execution_count": 11,
   "metadata": {},
   "outputs": [
    {
     "data": {
      "text/plain": [
       "array([-0.0003067 , -0.00038062])"
      ]
     },
     "execution_count": 11,
     "metadata": {},
     "output_type": "execute_result"
    }
   ],
   "source": [
    "compute_gradients(data,theta)"
   ]
  },
  {
   "cell_type": "markdown",
   "metadata": {},
   "source": [
    "Thus, when we feed the randomly initialized data and model parameter theta, the compute_gradients function returns the gradients of $m$ i.e $\\frac{d J}{d m}$ and gradients of $b$ i.e  $\\frac{d J}{d b}$. \n",
    "\n",
    "# Update Rule\n",
    "\n",
    "After computing gradients we need to update our model parameter according to our update rule as given below:\n",
    "\n",
    "Update m:\n",
    "$$m=m-\\alpha \\frac{d J}{d m} --(5) $$\n",
    "\n",
    "Update b:\n",
    "$$ b=b-\\alpha \\frac{d J}{d b} -- (6) $$\n",
    "\n",
    "\n",
    "Since we stored $m$ in theta[0] and $b$ in theta[1], we can write our update equation as: \n",
    "\n",
    "$$\\theta = \\theta - \\alpha \\frac{dJ}{d\\theta} -- (7)$$\n",
    "\n",
    "As we learned in the previous section, updating gradients for just one time will not lead us to the convergence i.e minimum of the cost function, so we need to compute gradients and the update the model parameter for several iterations:\n",
    "\n",
    "\n",
    "Set the number of iterations:"
   ]
  },
  {
   "cell_type": "code",
   "execution_count": 12,
   "metadata": {
    "collapsed": true
   },
   "outputs": [],
   "source": [
    "num_iterations = 50000"
   ]
  },
  {
   "cell_type": "markdown",
   "metadata": {},
   "source": [
    "Define the learning rate"
   ]
  },
  {
   "cell_type": "code",
   "execution_count": 13,
   "metadata": {
    "collapsed": true
   },
   "outputs": [],
   "source": [
    "lr = 1e-2"
   ]
  },
  {
   "cell_type": "markdown",
   "metadata": {},
   "source": [
    "Define a list called loss for storing the loss on every iterations:"
   ]
  },
  {
   "cell_type": "code",
   "execution_count": 14,
   "metadata": {
    "collapsed": true
   },
   "outputs": [],
   "source": [
    "loss = []"
   ]
  },
  {
   "cell_type": "markdown",
   "metadata": {},
   "source": [
    "On each iteration, calculate gradients and update the gradients according to our parameter update rule (7):"
   ]
  },
  {
   "cell_type": "code",
   "execution_count": 15,
   "metadata": {
    "collapsed": true
   },
   "outputs": [],
   "source": [
    "theta = np.zeros(2)\n",
    "\n",
    "for t in range(num_iterations):\n",
    "    \n",
    "    #compute gradients\n",
    "    gradients = compute_gradients(data, theta)\n",
    "    \n",
    "    #update parameter\n",
    "    theta = theta - (lr*gradients)\n",
    "    \n",
    "    #store the loss\n",
    "    loss.append(loss_function(data,theta))"
   ]
  },
  {
   "cell_type": "markdown",
   "metadata": {},
   "source": [
    "The below plot shows how the loss(cost) decreases over the training iterations:"
   ]
  },
  {
   "cell_type": "code",
   "execution_count": 16,
   "metadata": {
    "scrolled": true
   },
   "outputs": [
    {
     "data": {
      "text/plain": [
       "Text(0.5,1,'Gradient Descent')"
      ]
     },
     "execution_count": 16,
     "metadata": {},
     "output_type": "execute_result"
    },
    {
     "data": {
      "image/png": "[encoded data removed]",
      "text/plain": [
       "<Figure size 432x288 with 1 Axes>"
      ]
     },
     "metadata": {},
     "output_type": "display_data"
    }
   ],
   "source": [
    "plt.plot(loss)\n",
    "plt.grid()\n",
    "plt.xlabel('Training Iterations')\n",
    "plt.ylabel('Cost')\n",
    "plt.title('Gradient Descent')"
   ]
  },
  {
   "cell_type": "markdown",
   "metadata": {},
   "source": [
    "# MiniBatch Gradient Descent"
   ]
  },
  {
   "cell_type": "markdown",
   "metadata": {},
   "source": [
    "We just learned how gradient descent works. In gradient descent, to perform a single\n",
    "parameter update we iterate through all the data points in our training set. Updating the parameters of the model only after iterating through all the data points in the training set makes the gradient descent very slow and it will increase the training time\n",
    "especially when we have a large dataset. \n",
    "\n",
    "\n",
    "So, we use minibatch gradient descent, in minibatch gradient descent, we update the parameters after iterating some batch of data points. Let us say the batch size is 50\n",
    "which means that we update the parameter of the model after iterating through 50 data\n",
    "points instead of updating the parameter after iterating through each individual data point."
   ]
  },
  {
   "cell_type": "code",
   "execution_count": 17,
   "metadata": {
    "collapsed": true
   },
   "outputs": [],
   "source": [
    "def minibatch(data, theta, lr = 1e-2, minibatch_ratio = 0.01, num_iterations = 5000):\n",
    "    \n",
    "    loss = []\n",
    "    minibatch_size = int(math.ceil(len(data) * minibatch_ratio))\n",
    "    \n",
    "    for t in range(num_iterations):\n",
    "        sample_size = random.sample(range(len(data)), minibatch_size)\n",
    "        np.random.shuffle(data)\n",
    "        \n",
    "        #sample batch of data\n",
    "        sample_data = data[0:sample_size[0], :]\n",
    "        \n",
    "        #compute gradients\n",
    "        grad = compute_gradients(sample_data, theta)\n",
    "       \n",
    "        #update parameters\n",
    "        theta = theta - (lr * grad)\n",
    "        \n",
    "        loss.append(loss_function(data,theta))\n",
    "            \n",
    "    return loss"
   ]
  },
  {
   "cell_type": "markdown",
   "metadata": {},
   "source": [
    "Perform minibatch gradient descent and compute loss:"
   ]
  },
  {
   "cell_type": "code",
   "execution_count": 18,
   "metadata": {
    "collapsed": true
   },
   "outputs": [],
   "source": [
    "theta = np.zeros(2)\n",
    "loss = minibatch(data, theta)"
   ]
  },
  {
   "cell_type": "markdown",
   "metadata": {},
   "source": [
    "Plot the loss:"
   ]
  },
  {
   "cell_type": "code",
   "execution_count": 19,
   "metadata": {},
   "outputs": [
    {
     "data": {
      "text/plain": [
       "Text(0.5,1,'Mini-Batch Gradient Descent')"
      ]
     },
     "execution_count": 19,
     "metadata": {},
     "output_type": "execute_result"
    },
    {
     "data": {
      "image/png": "[encoded data removed]",
      "text/plain": [
       "<Figure size 432x288 with 1 Axes>"
      ]
     },
     "metadata": {},
     "output_type": "display_data"
    }
   ],
   "source": [
    "plt.plot(loss)\n",
    "plt.grid()\n",
    "plt.xlabel('Training Iterations')\n",
    "plt.ylabel('Cost')\n",
    "\n",
    "plt.title('Mini-Batch Gradient Descent')"
   ]
  },
  {
   "cell_type": "markdown",
   "metadata": {},
   "source": [
    "# Gradient descent with Momentum"
   ]
  },
  {
   "cell_type": "markdown",
   "metadata": {},
   "source": [
    "Refer the book for the detailed explanation:\n",
    "\n",
    "We learned how momentum helps us to reduce oscillations in the gradient steps and attain the convergence faster. The update equation of momentum is given as:\n",
    "\n",
    "$$v_t = \\gamma v_{t-1} + \\eta \\nabla_\\theta J( \\theta) -- (8) $$\n",
    "\n",
    "Update theta by: \n",
    "$${\\theta = \\theta - v_t } -- (9) $$"
   ]
  },
  {
   "cell_type": "code",
   "execution_count": 20,
   "metadata": {
    "collapsed": true
   },
   "outputs": [],
   "source": [
    "def Momentum(data, theta, lr = 1e-2, gamma = 0.9, num_iterations = 5000):\n",
    "    \n",
    "    loss = []\n",
    "    \n",
    "    #Initialize vt with zeros:\n",
    "    vt = np.zeros(theta.shape[0])\n",
    "    \n",
    "    \n",
    "    for t in range(num_iterations):\n",
    "        \n",
    "        #compute gradients with respect to theta \n",
    "        gradients = compute_gradients(data, theta)\n",
    "        \n",
    "        #Update vt by equation (8)\n",
    "        vt = gamma * vt + lr * gradients\n",
    "        \n",
    "        #update model parameter theta by equation (9)\n",
    "        theta = theta - vt\n",
    "    \n",
    "        #store loss of every iteration\n",
    "        loss.append(loss_function(data,theta))\n",
    "        \n",
    "    return loss"
   ]
  },
  {
   "cell_type": "markdown",
   "metadata": {},
   "source": [
    "Perform gradient descent with mometum and compute loss:"
   ]
  },
  {
   "cell_type": "code",
   "execution_count": 21,
   "metadata": {
    "collapsed": true
   },
   "outputs": [],
   "source": [
    "theta = np.zeros(2)\n",
    "loss = Momentum(data, theta)"
   ]
  },
  {
   "cell_type": "markdown",
   "metadata": {},
   "source": [
    "Plot the loss:"
   ]
  },
  {
   "cell_type": "code",
   "execution_count": 22,
   "metadata": {},
   "outputs": [
    {
     "data": {
      "text/plain": [
       "Text(0.5,1,'Mometum')"
      ]
     },
     "execution_count": 22,
     "metadata": {},
     "output_type": "execute_result"
    },
    {
     "data": {
      "image/png": "[encoded data removed]",
      "text/plain": [
       "<Figure size 432x288 with 1 Axes>"
      ]
     },
     "metadata": {},
     "output_type": "display_data"
    }
   ],
   "source": [
    "plt.plot(loss)\n",
    "plt.grid()\n",
    "plt.xlabel('Training Iterations')\n",
    "plt.ylabel('Cost')\n",
    "\n",
    "plt.title('Mometum')"
   ]
  },
  {
   "cell_type": "markdown",
   "metadata": {},
   "source": [
    "# Nesterov Accelerated Gradients"
   ]
  },
  {
   "cell_type": "markdown",
   "metadata": {},
   "source": [
    "Refer the NAG section in the book for the detailed explanation.\n",
    "\n",
    "The update equation of NAG is given as:\n",
    "\n",
    "$$v_t = \\gamma v_{t-1} + \\eta \\nabla_\\theta J( \\theta - \\gamma v_{t-1} ) -- (10) $$\n",
    "\n",
    "Update theta by:\n",
    "$${\\theta = \\theta - v_t } -- (11) $$"
   ]
  },
  {
   "cell_type": "code",
   "execution_count": 23,
   "metadata": {
    "collapsed": true
   },
   "outputs": [],
   "source": [
    "def NAG(data, theta, lr = 1e-2, gamma = 0.9, num_iterations = 5000):\n",
    "    \n",
    "    loss = []\n",
    "    \n",
    "    #Initialize vt with zeros:\n",
    "    vt = np.zeros(theta.shape[0])\n",
    "       \n",
    "    for t in range(num_iterations):\n",
    "        \n",
    "        #compute gradients with respet to (theta-gamma*vt-1)\n",
    "        gradients = compute_gradients(data, theta - gamma * vt)\n",
    "        \n",
    "        #update vt by equation (10)\n",
    "        vt = gamma * vt + lr * gradients\n",
    "        \n",
    "        #update model parameter theta by equation (11)\n",
    "        theta = theta - vt\n",
    "        \n",
    "        loss.append(loss_function(data,theta))\n",
    "        \n",
    "    return loss"
   ]
  },
  {
   "cell_type": "markdown",
   "metadata": {},
   "source": [
    "Compute and update gradients using NAG:"
   ]
  },
  {
   "cell_type": "code",
   "execution_count": 24,
   "metadata": {
    "collapsed": true
   },
   "outputs": [],
   "source": [
    "theta = np.zeros(2)\n",
    "loss = NAG(data, theta) "
   ]
  },
  {
   "cell_type": "markdown",
   "metadata": {},
   "source": [
    "Plot the loss:"
   ]
  },
  {
   "cell_type": "code",
   "execution_count": 25,
   "metadata": {},
   "outputs": [
    {
     "data": {
      "text/plain": [
       "Text(0,0.5,'Cost')"
      ]
     },
     "execution_count": 25,
     "metadata": {},
     "output_type": "execute_result"
    },
    {
     "data": {
      "image/png": "[encoded data removed]",
      "text/plain": [
       "<Figure size 432x288 with 1 Axes>"
      ]
     },
     "metadata": {},
     "output_type": "display_data"
    }
   ],
   "source": [
    "plt.plot(loss)\n",
    "plt.grid()\n",
    "\n",
    "plt.title('Nesterov Accelerated Gradients')\n",
    "plt.xlabel('Training Iterations')\n",
    "plt.ylabel('Cost')"
   ]
  },
  {
   "cell_type": "markdown",
   "metadata": {},
   "source": [
    "# Set Learning rate adaptively using AdaGrad \n",
    "\n",
    "In a nutshell, in AdaGrad, we set the learning rate to a small value when past gradients\n",
    "value is high and to a high value when the past gradient value is less. So our learning rate\n",
    "value changes according to the past gradients updates of the parameter.(Refer the section AdaGrad in the book for a detailed explanation)\n",
    "\n",
    "The update equation of Adagrad is given as:\n",
    "\n",
    "\n",
    "$${\\theta_{t}^i = \\theta_{t-1}^i - \\dfrac{\\eta}{\\sqrt{ \\sum_{\\tau=1}^t (g_{\\tau}^i)^2   + \\epsilon}} \\cdot g_{t}^i } -- (12) $$"
   ]
  },
  {
   "cell_type": "code",
   "execution_count": 26,
   "metadata": {
    "collapsed": true
   },
   "outputs": [],
   "source": [
    "def AdaGrad(data, theta, lr = 1e-2, epsilon = 1e-8, num_iterations = 100):\n",
    "\n",
    "    loss = []\n",
    "    \n",
    "    #initialize gradients_sum for storing sum of gradients\n",
    "    gradients_sum = np.zeros(theta.shape[0])\n",
    "\n",
    "    for t in range(num_iterations):\n",
    "        \n",
    "        #compute gradients with respect to theta\n",
    "        gradients = compute_gradients(data, theta)\n",
    "    \n",
    "        #compute square of sum of gradients\n",
    "        gradients_sum += gradients ** 2\n",
    "    \n",
    "        #update gradients\n",
    "        gradient_update = gradients / (np.sqrt(gradients_sum + epsilon))\n",
    "    \n",
    "        #update model parameter according to equation (12)\n",
    "        theta = theta - (lr * gradient_update)\n",
    "\n",
    "        loss.append(loss_function(data,theta))\n",
    "\n",
    "    return loss"
   ]
  },
  {
   "cell_type": "markdown",
   "metadata": {},
   "source": [
    "Update model parameter using AdaGrad and compute loss:"
   ]
  },
  {
   "cell_type": "code",
   "execution_count": 27,
   "metadata": {
    "collapsed": true
   },
   "outputs": [],
   "source": [
    "theta = np.zeros(2)\n",
    "loss = AdaGrad(data, theta) "
   ]
  },
  {
   "cell_type": "markdown",
   "metadata": {},
   "source": [
    "Plot the Loss"
   ]
  },
  {
   "cell_type": "code",
   "execution_count": 28,
   "metadata": {},
   "outputs": [
    {
     "data": {
      "text/plain": [
       "Text(0,0.5,'Cost')"
      ]
     },
     "execution_count": 28,
     "metadata": {},
     "output_type": "execute_result"
    },
    {
     "data": {
      "image/png": "[encoded data removed]",
      "text/plain": [
       "<Figure size 432x288 with 1 Axes>"
      ]
     },
     "metadata": {},
     "output_type": "display_data"
    }
   ],
   "source": [
    "plt.plot(loss)\n",
    "plt.grid()\n",
    "plt.title('AMSGrad')\n",
    "plt.xlabel('Training Iterations')\n",
    "plt.ylabel('Cost')"
   ]
  },
  {
   "cell_type": "markdown",
   "metadata": {},
   "source": [
    "# Do away with Learning rate using Adadelta \n",
    "\n",
    "\n",
    "With AdaDelta we completely get rid of learning rate. (Refer the section AdaDelta in the book for full explanation)\n",
    "\n",
    "The update equation of AdaDelta is expressed as:\n",
    "\n",
    "Running average of gradients:\n",
    "$$E\\left[g^{2}\\right]_{t}=\\gamma E\\left[g^{2}\\right]_{t-1}+(1-\\gamma) g_{t}^{2} -- (13) $$\n",
    "\n",
    "Compute delta:\n",
    "$$ \\nabla \\theta_{t}=-\\frac{R M S[\\Delta \\theta]_{t-1}}{R M S\\left[g_{t}\\right]} \\cdot g_{t}^{i} -- (14) $$\n",
    "\n",
    "Running averge of parameter update:\n",
    "$$ E\\left[\\Delta \\theta^{2}\\right]_{t}=\\gamma E\\left[\\Delta \\theta^{2}\\right]_{t-1}+(1-\\gamma) \\Delta \\theta_{t}^{2} -- (15) $$\n",
    "\n",
    "Update theta:\n",
    "$$ \\theta_{t}^{i}=\\theta_{t-1}^{i}+\\nabla \\theta_{t} -- (16) $$"
   ]
  },
  {
   "cell_type": "code",
   "execution_count": 29,
   "metadata": {
    "collapsed": true
   },
   "outputs": [],
   "source": [
    "def AdaDelta(data, theta, gamma = 0.9, epsilon = 1e-5, num_iterations = 500):\n",
    "    \n",
    "    loss = []\n",
    "    \n",
    "    #initialize running average of gradients\n",
    "    E_grad2 = np.zeros(theta.shape[0])\n",
    "    \n",
    "    #initialize running average of parameter update\n",
    "    E_delta_theta2 = np.zeros(theta.shape[0])\n",
    "    \n",
    "    \n",
    "    for t in range(num_iterations):\n",
    "        \n",
    "        #compute gradients of loss with respect to theta\n",
    "        gradients = compute_gradients(data, theta)\n",
    "        \n",
    "        #compute running average of gradients as given in equation (13)\n",
    "        E_grad2 = (gamma * E_grad2) + ((1. - gamma) * (gradients ** 2))\n",
    "        \n",
    "        #compute delta_theta as given in equation (14)\n",
    "        delta_theta = - (np.sqrt(E_delta_theta2 + epsilon)) / (np.sqrt(E_grad2 + epsilon)) * gradients\n",
    "        \n",
    "        #compute running average of parameter updates as given in equation (15)\n",
    "        E_delta_theta2 = (gamma * E_delta_theta2) + ((1. - gamma) * (delta_theta ** 2))\n",
    "        \n",
    "        #update the model parameter, theta as given in equation (16)\n",
    "        theta = theta + delta_theta\n",
    "        \n",
    "        #store  the loss\n",
    "        loss.append(loss_function(data,theta))\n",
    "\n",
    "    return loss"
   ]
  },
  {
   "cell_type": "markdown",
   "metadata": {},
   "source": [
    "Update model parameter using AdaDelta and compute loss:"
   ]
  },
  {
   "cell_type": "code",
   "execution_count": 30,
   "metadata": {
    "collapsed": true
   },
   "outputs": [],
   "source": [
    "theta = np.zeros(2)\n",
    "loss = AdaDelta(data, theta) "
   ]
  },
  {
   "cell_type": "markdown",
   "metadata": {},
   "source": [
    "Plot the loss:"
   ]
  },
  {
   "cell_type": "code",
   "execution_count": 31,
   "metadata": {
    "scrolled": false
   },
   "outputs": [
    {
     "data": {
      "text/plain": [
       "Text(0,0.5,'Cost')"
      ]
     },
     "execution_count": 31,
     "metadata": {},
     "output_type": "execute_result"
    },
    {
     "data": {
      "image/png": "[encoded data removed]",
      "text/plain": [
       "<Figure size 432x288 with 1 Axes>"
      ]
     },
     "metadata": {},
     "output_type": "display_data"
    }
   ],
   "source": [
    "plt.plot(loss)\n",
    "plt.grid()\n",
    "plt.title('AdaDelta')\n",
    "plt.xlabel('Training Iterations')\n",
    "plt.ylabel('Cost')"
   ]
  },
  {
   "cell_type": "markdown",
   "metadata": {},
   "source": [
    "# Overcoming limitations of AdaGrad using RMSProp\n",
    "\n",
    "We learned that in AdaGrad learning rate would become very small when the sum of gradients is high. So, we RMSProp to overcome the limitations of RMSProp. (Refer section RMSProp in the book for full explanation).\n",
    "\n",
    "The update equation of RMSProp is given as:\n",
    "\n",
    "Running average of gradients:\n",
    "$$E\\left[g^{2}\\right]_{t}=\\gamma E\\left[g^{2}\\right]_{t-1}+(1-\\gamma) g_{t}^{2} -- (17) $$\n",
    "\n",
    "Update theta:\n",
    "$$\\theta_{t}^{i}=\\theta_{t-1}^{i}-\\frac{\\eta}{\\sqrt{E\\left[g^{2}\\right]_{t}+\\epsilon}} \\cdot g_{t}^{i} -- (18)$$"
   ]
  },
  {
   "cell_type": "code",
   "execution_count": 32,
   "metadata": {
    "collapsed": true
   },
   "outputs": [],
   "source": [
    "def RMSProp(data, theta, lr = 1e-2, gamma = 0.9, epsilon = 1e-6, num_iterations = 100): \n",
    "    \n",
    "    loss= []\n",
    "    \n",
    "    #initialize running average of gradients\n",
    "    E_grad2 = np.zeros(theta.shape[0])\n",
    "    \n",
    "    for t in range(num_iterations):\n",
    "        \n",
    "        #compute gradients with respect to theta\n",
    "        gradients = compute_gradients(data, theta)\n",
    "        \n",
    "        #compute running average of gradients as given in equation (17)\n",
    "        E_grad2 = (gamma * E_grad2) + ((1. - gamma) * (gradients ** 2))\n",
    "        \n",
    "        #update model parameter as given in equation (18)\n",
    "        theta = theta - (lr / (np.sqrt(E_grad2 + epsilon)) * gradients)\n",
    "        \n",
    "        #store the loss\n",
    "        loss.append(loss_function(data,theta))\n",
    "\n",
    "    return loss"
   ]
  },
  {
   "cell_type": "markdown",
   "metadata": {},
   "source": [
    "Update model parameter using RMSProp and compute loss:"
   ]
  },
  {
   "cell_type": "code",
   "execution_count": 33,
   "metadata": {
    "collapsed": true
   },
   "outputs": [],
   "source": [
    "theta = np.zeros(2)\n",
    "loss = RMSProp(data, theta) "
   ]
  },
  {
   "cell_type": "markdown",
   "metadata": {},
   "source": [
    "Plot the loss:"
   ]
  },
  {
   "cell_type": "code",
   "execution_count": 34,
   "metadata": {},
   "outputs": [
    {
     "data": {
      "text/plain": [
       "Text(0,0.5,'Cost')"
      ]
     },
     "execution_count": 34,
     "metadata": {},
     "output_type": "execute_result"
    },
    {
     "data": {
      "image/png": "[encoded data removed]",
      "text/plain": [
       "<Figure size 432x288 with 1 Axes>"
      ]
     },
     "metadata": {},
     "output_type": "display_data"
    }
   ],
   "source": [
    "plt.plot(loss)\n",
    "plt.grid()\n",
    "plt.title('RMSProp')\n",
    "plt.xlabel('Training Iterations')\n",
    "plt.ylabel('Cost')"
   ]
  },
  {
   "cell_type": "markdown",
   "metadata": {},
   "source": [
    "# Adam - Adaptive Moment Estimation\n",
    "\n",
    "\n",
    "Check the section Adam in the book for the detailed explanation. The update equation of Adam is given as:\n",
    "\n",
    "First moment estimate:\n",
    "$$m_{t}=\\beta_{1} m_{t-1}+\\left(1-\\beta_{1}\\right) g_{t} -- (19) $$\n",
    "\n",
    "Second moment estimate:\n",
    "$$v_{t}=\\beta_{2} v_{t-1}+\\left(1-\\beta_{2}\\right) g_{t}^{2} --(20)$$\n",
    "\n",
    "Bias-corrected mt:\n",
    "$$\\hat{m}_{t}=\\frac{m_{t}}{1-\\beta_{1}^{t}} --(21) $$\n",
    "\n",
    "Bias-corrected vt:\n",
    "$$\\hat{v}_{t}=\\frac{v_{t}}{1-\\beta_{2}^{t}} --(22) $$\n",
    "\n",
    "Update theta:\n",
    "\n",
    "$$\\theta_{t}=\\theta_{t-1}-\\frac{\\eta}{\\sqrt{\\hat{v}_{t}}+\\epsilon} \\hat{m}_{t} -- (23) $$"
   ]
  },
  {
   "cell_type": "code",
   "execution_count": 35,
   "metadata": {
    "collapsed": true
   },
   "outputs": [],
   "source": [
    "def Adam(data, theta, lr = 1e-2, beta1 = 0.9, beta2 = 0.9, epsilon = 1e-6, num_iterations = 1000):\n",
    "   \n",
    "    loss = []\n",
    "    \n",
    "    #initialize first moment mt\n",
    "    mt = np.zeros(theta.shape[0])\n",
    "    \n",
    "    #initialize second moment vt\n",
    "    vt = np.zeros(theta.shape[0])\n",
    "    \n",
    "    for t in range(num_iterations):\n",
    "        \n",
    "        #compute gradients with respect to theta\n",
    "        gradients = compute_gradients(data, theta)\n",
    "        \n",
    "        #update first moment mt as given in equation (19)\n",
    "        mt = beta1 * mt + (1. - beta1) * gradients\n",
    "        \n",
    "        #update second moment vt as given in equation (20)\n",
    "        vt = beta2 * vt + (1. - beta2) * gradients ** 2\n",
    "        \n",
    "        #compute bias-corected estimate of mt (21)\n",
    "        mt_hat = mt / (1. - beta1 ** (t+1))\n",
    "        \n",
    "        #compute bias-corrected estimate of vt (22)\n",
    "        vt_hat = vt / (1. - beta2 ** (t+1))\n",
    "        \n",
    "        #update the model parameter as given in (23)\n",
    "        theta = theta - (lr / (np.sqrt(vt_hat) + epsilon)) * mt_hat\n",
    "      \n",
    "        loss.append(loss_function(data,theta))\n",
    "\n",
    "    return loss"
   ]
  },
  {
   "cell_type": "markdown",
   "metadata": {},
   "source": [
    "Update model parameter using Adam and compute loss:"
   ]
  },
  {
   "cell_type": "code",
   "execution_count": 36,
   "metadata": {
    "collapsed": true
   },
   "outputs": [],
   "source": [
    "theta = np.zeros(2)\n",
    "loss = RMSProp(data, theta) "
   ]
  },
  {
   "cell_type": "markdown",
   "metadata": {},
   "source": [
    "Plot the loss:"
   ]
  },
  {
   "cell_type": "code",
   "execution_count": 37,
   "metadata": {
    "scrolled": true
   },
   "outputs": [
    {
     "data": {
      "text/plain": [
       "Text(0,0.5,'Cost')"
      ]
     },
     "execution_count": 37,
     "metadata": {},
     "output_type": "execute_result"
    },
    {
     "data": {
      "image/png": "[encoded data removed]",
      "text/plain": [
       "<Figure size 432x288 with 1 Axes>"
      ]
     },
     "metadata": {},
     "output_type": "display_data"
    }
   ],
   "source": [
    "plt.plot(loss)\n",
    "plt.grid()\n",
    "plt.title('Adam')\n",
    "plt.xlabel('Training Iterations')\n",
    "plt.ylabel('Cost')"
   ]
  },
  {
   "cell_type": "markdown",
   "metadata": {},
   "source": [
    "# Adamax - Adam based on infinity norm\n",
    "\n",
    "\n",
    "Check the section Adamax in the book for the detailed explanation. The update equation of Adamax is given as:\n",
    "\n",
    "First moment estimate:\n",
    "$$m_{t}=\\beta_{1} m_{t-1}+\\left(1-\\beta_{1}\\right) g_{t} -- (24) $$\n",
    "\n",
    "Second moment estimate:\n",
    "$$v_{t}=\\max \\left(\\beta_{2} \\cdot v_{t-1},\\left|g_{t}\\right|\\right) -- (25) $$\n",
    "\n",
    "Bias-corrected mt:\n",
    "$$\\hat{m}_{t}=\\frac{m_{t}}{1-\\beta_{1}^{t}} -- (26) $$\n",
    "\n",
    "Update theta:\n",
    "\n",
    "$$\\theta_{t}=\\theta_{t-1}-\\frac{\\eta}{v_{t}} \\hat{m}_{t} -- (27) $$\n"
   ]
  },
  {
   "cell_type": "code",
   "execution_count": 38,
   "metadata": {
    "collapsed": true
   },
   "outputs": [],
   "source": [
    "def Adamax(data, theta, lr = 1e-2, beta1 = 0.9, beta2 = 0.999, epsilon = 1e-6, num_iterations = 500):\n",
    "    \n",
    "    loss = []\n",
    "    \n",
    "    #initialize first moment mt\n",
    "    mt = np.zeros(theta.shape[0])\n",
    "    \n",
    "    #initialize second moment vt\n",
    "    vt = np.zeros(theta.shape[0])\n",
    "    \n",
    "    for t in range(num_iterations):\n",
    "        \n",
    "        #compute gradients with respect to theta\n",
    "        gradients = compute_gradients(data, theta)\n",
    "        \n",
    "        #compute first moment mt as given in equation (24)\n",
    "        mt = beta1 * mt + (1. - beta1) * gradients\n",
    "        \n",
    "        #compute second moment vt as given in equation (25)\n",
    "        vt = np.maximum(beta2 * vt, np.abs(gradients))\n",
    "        \n",
    "        #compute bias-corrected estimate of mt as given in equation (26)\n",
    "        mt_hat = mt / (1. - beta1 ** (t+1))\n",
    "        \n",
    "        #update theta as give in equation (27)\n",
    "        theta = theta - ((lr / (vt + epsilon)) * mt_hat)\n",
    "        \n",
    "        #store the loss\n",
    "        loss.append(loss_function(data,theta))\n",
    "\n",
    "    return loss"
   ]
  },
  {
   "cell_type": "markdown",
   "metadata": {},
   "source": [
    "Update model parameter using Adamax and compute loss:"
   ]
  },
  {
   "cell_type": "code",
   "execution_count": 39,
   "metadata": {
    "collapsed": true,
    "scrolled": true
   },
   "outputs": [],
   "source": [
    "theta = np.zeros(2)\n",
    "loss = Adamax(data, theta) "
   ]
  },
  {
   "cell_type": "markdown",
   "metadata": {},
   "source": [
    "Plot the loss:"
   ]
  },
  {
   "cell_type": "code",
   "execution_count": 40,
   "metadata": {},
   "outputs": [
    {
     "data": {
      "text/plain": [
       "Text(0,0.5,'Cost')"
      ]
     },
     "execution_count": 40,
     "metadata": {},
     "output_type": "execute_result"
    },
    {
     "data": {
      "image/png": "[encoded data removed]",
      "text/plain": [
       "<Figure size 432x288 with 1 Axes>"
      ]
     },
     "metadata": {},
     "output_type": "display_data"
    }
   ],
   "source": [
    "plt.plot(loss)\n",
    "plt.grid()\n",
    "plt.title('Adamax')\n",
    "plt.xlabel('Training Iterations')\n",
    "plt.ylabel('Cost')"
   ]
  },
  {
   "cell_type": "markdown",
   "metadata": {},
   "source": [
    "# Adaptive Moment Estimation with AMSGrad\n",
    "\n",
    "\n",
    "Refer the section AMSGrad in the book for the detailed explanation. The update equation of AMSGrad is given as:\n",
    "\n",
    "First moment estimate:\n",
    "$$m_{t}=\\beta_{1} m_{t-1}+\\left(1-\\beta_{1}\\right) g_{t} -- (28) $$\n",
    "\n",
    "Second moment estimate:\n",
    "$$v_{t}=\\beta_{2} v_{t-1}+\\left(1-\\beta_{2}\\right) g_{t}^{2} --(29) $$\n",
    "\n",
    "Updated second moment estimate:\n",
    "$$\\hat{v}_{t}=\\max \\left(\\hat{v}_{t-1}, v_{t}\\right) -- (30) $$\n",
    "\n",
    "Bias-corrected mt:\n",
    "$$\\hat{m}_{t}=\\frac{m t}{1-\\beta_{1}^{t}} -- (31) $$\n",
    "\n",
    "Update theta:\n",
    "$$\\theta_{t}=\\theta_{t-1}-\\frac{\\eta}{\\sqrt{\\hat{v}_{t}}+\\epsilon} \\hat{m}_{t} -- (32) $$"
   ]
  },
  {
   "cell_type": "code",
   "execution_count": 41,
   "metadata": {
    "collapsed": true
   },
   "outputs": [],
   "source": [
    "def AMSGrad(data, theta, lr = 1e-2, beta1 = 0.9, beta2 = 0.9, epsilon = 1e-6, num_iterations = 50):\n",
    "    \n",
    "    loss = []\n",
    "    \n",
    "    #initialize first moment mt\n",
    "    mt = np.zeros(theta.shape[0])\n",
    "    \n",
    "    #initialize second moment vt\n",
    "    vt = np.zeros(theta.shape[0])\n",
    "    \n",
    "    #initialize vt_hat\n",
    "    vt_hat = np.zeros(theta.shape[0])\n",
    "    \n",
    "    for t in range(num_iterations):\n",
    "        \n",
    "        #compute gradients with respect to theta\n",
    "        gradients = compute_gradients(data, theta)\n",
    "        \n",
    "        #compute first moment as given in equation (28)\n",
    "        mt = beta1 * mt + (1. - beta1) * gradients\n",
    "        \n",
    "        #compute second moment as given in equation (29)\n",
    "        vt = beta2 * vt + (1. - beta2) * gradients ** 2\n",
    "        \n",
    "        #compute vt_hat as given in equation (30)\n",
    "        vt_hat = np.maximum(vt_hat,vt)\n",
    "        \n",
    "        #compute bias-corrected estimate of mt as shown in equation (31)\n",
    "        mt_hat = mt / (1. - beta1 ** (t+1))\n",
    "        \n",
    "        #update model parameter theta as given in (32)\n",
    "        theta = theta - (lr / (np.sqrt(vt_hat) + epsilon)) * mt_hat\n",
    "\n",
    "        #store loss\n",
    "        loss.append(loss_function(data,theta))\n",
    "\n",
    "    return loss"
   ]
  },
  {
   "cell_type": "markdown",
   "metadata": {},
   "source": [
    "Update model parameter using AMSGrad and compute loss:"
   ]
  },
  {
   "cell_type": "code",
   "execution_count": 42,
   "metadata": {
    "collapsed": true
   },
   "outputs": [],
   "source": [
    "theta = np.zeros(2)\n",
    "loss = AMSGrad(data, theta) "
   ]
  },
  {
   "cell_type": "markdown",
   "metadata": {},
   "source": [
    "Plot the loss:"
   ]
  },
  {
   "cell_type": "code",
   "execution_count": 43,
   "metadata": {},
   "outputs": [
    {
     "data": {
      "text/plain": [
       "Text(0,0.5,'Cost')"
      ]
     },
     "execution_count": 43,
     "metadata": {},
     "output_type": "execute_result"
    },
    {
     "data": {
      "image/png": "[encoded data removed]",
      "text/plain": [
       "<Figure size 432x288 with 1 Axes>"
      ]
     },
     "metadata": {},
     "output_type": "display_data"
    }
   ],
   "source": [
    "plt.plot(loss)\n",
    "plt.grid()\n",
    "plt.title('AMSGrad')\n",
    "plt.xlabel('Training Iterations')\n",
    "plt.ylabel('Cost')"
   ]
  },
  {
   "cell_type": "markdown",
   "metadata": {},
   "source": [
    "# Nadam - Adding NAG to ADAM\n",
    "\n",
    "\n",
    "Refer the section Nadam in the book for the detailed explanation. The update equation of Nadam is given as:\n",
    "\n",
    "\n",
    "First moment estimate:\n",
    "$$m_{t}=\\beta_{1} m_{t-1}+\\left(1-\\beta_{1}\\right) g_{t} -- (33) $$\n",
    "\n",
    "Second moment estimate:\n",
    "$$v_{t}=\\beta_{2} v_{t-1}+\\left(1-\\beta_{2}\\right) g_{t}^{2} -- (34) $$\n",
    "\n",
    "Bias-corrected mt:\n",
    "$$\\hat{m}_{t}=\\frac{m_{t}}{1-\\prod_{i=1}^{t+1} \\beta_{1}^{i}} -- (35) $$\n",
    "\n",
    "Bias-corrected gt:\n",
    "$$\\hat{g}_{t}=\\frac{g_{t}}{1-\\prod_{i=1}^{t} \\beta_{1}^{i}} -- (36) $$\n",
    "\n",
    "Bias-corrected vt:\n",
    "$$ \\hat{v}_{t}=\\frac{v_{t}}{1-\\beta_{2}^{t}} -- (37) $$\n",
    "\n",
    "Compute m tilde:\n",
    "$$ \\tilde{m}_{t}=\\beta_{1}^{t+1} \\hat{m}_{t}+\\left(1-\\beta_{1}^{t}\\right) \\hat{g}_{t} -- (38) $$\n",
    "\n",
    "Update theta:\n",
    "$$ \\theta_{t}=\\theta_{t-1}-\\frac{\\eta}{\\sqrt{v_{t}}+\\epsilon} \\tilde{m}_{t} -- (39) $$"
   ]
  },
  {
   "cell_type": "code",
   "execution_count": 44,
   "metadata": {
    "collapsed": true
   },
   "outputs": [],
   "source": [
    "def Nadam(data, theta, lr = 1e-2, beta1 = 0.9, beta2 = 0.999, epsilon = 1e-6, num_iterations = 50):\n",
    "   \n",
    "    loss = []\n",
    "    \n",
    "    #initialize first moment mt\n",
    "    mt = np.zeros(theta.shape[0])\n",
    "    \n",
    "    #initialize second moment vt\n",
    "    vt = np.zeros(theta.shape[0])\n",
    "    beta_prod = 1\n",
    "    \n",
    "    for t in range(num_iterations):\n",
    "        \n",
    "        #compute gradients with respect to theta\n",
    "        gradients = compute_gradients(data, theta)\n",
    "        \n",
    "        #compute first moment as given in equation (33)\n",
    "        mt = beta1 * mt + (1. - beta1) * gradients\n",
    "        \n",
    "        #compute second moment as given in equation (34)\n",
    "        vt = beta2 * vt + (1. - beta2) * gradients ** 2\n",
    "        beta_prod = beta_prod * (beta1)\n",
    "        \n",
    "        #compute bias-corrected estimates of mt as shown in (35)\n",
    "        mt_hat = mt / (1. - beta_prod)\n",
    "        \n",
    "        #compute bias-corrected estimate of gt as shown in (36)\n",
    "        g_hat = gradients / (1. - beta_prod)\n",
    "        \n",
    "        #compute bias-corrected estimate of vt as shown in (37)\n",
    "        vt_hat = vt / (1. - beta2 ** (t))\n",
    "        \n",
    "        #compute mt tilde as shown in (38)\n",
    "        mt_tilde = (1-beta1**t+1) * mt_hat + ((beta1**t)* g_hat)\n",
    "        \n",
    "        #update theta as given in (39)\n",
    "        theta = theta - (lr / (np.sqrt(vt_hat) + epsilon)) * mt_hat\n",
    "        \n",
    "        #store the loss\n",
    "        loss.append(loss_function(data,theta))\n",
    "\n",
    "    return loss"
   ]
  },
  {
   "cell_type": "markdown",
   "metadata": {},
   "source": [
    "Update model parameter using AMSGrad and compute loss:"
   ]
  },
  {
   "cell_type": "code",
   "execution_count": 45,
   "metadata": {
    "collapsed": true
   },
   "outputs": [],
   "source": [
    "theta = np.zeros(2)\n",
    "loss = Nadam(data, theta) "
   ]
  },
  {
   "cell_type": "markdown",
   "metadata": {},
   "source": [
    "Plot the loss:"
   ]
  },
  {
   "cell_type": "code",
   "execution_count": 46,
   "metadata": {
    "scrolled": true
   },
   "outputs": [
    {
     "data": {
      "text/plain": [
       "Text(0,0.5,'Cost')"
      ]
     },
     "execution_count": 46,
     "metadata": {},
     "output_type": "execute_result"
    },
    {
     "data": {
      "image/png": "[encoded data removed]",
      "text/plain": [
       "<Figure size 432x288 with 1 Axes>"
      ]
     },
     "metadata": {},
     "output_type": "display_data"
    }
   ],
   "source": [
    "plt.plot(loss)\n",
    "plt.grid()\n",
    "plt.title('Nadam')\n",
    "plt.xlabel('Training Iterations')\n",
    "plt.ylabel('Cost')"
   ]
  },
  {
   "cell_type": "markdown",
   "metadata": {},
   "source": [
    "Now that we have learned several variants of gradient descent in the next chapter we will learn about one of the most popularly used deep learning algorithms called Recurrent Neural Network(RNN) which is widely used for the language tasks.  "
   ]
  }
 ],
 "metadata": {
  "kernelspec": {
   "display_name": "Python [default]",
   "language": "python",
   "name": "python2"
  },
  "language_info": {
   "codemirror_mode": {
    "name": "ipython",
    "version": 2
   },
   "file_extension": ".py",
   "mimetype": "text/x-python",
   "name": "python",
   "nbconvert_exporter": "python",
   "pygments_lexer": "ipython2",
   "version": "2.7.11"
  }
 },
 "nbformat": 4,
 "nbformat_minor": 2
}
