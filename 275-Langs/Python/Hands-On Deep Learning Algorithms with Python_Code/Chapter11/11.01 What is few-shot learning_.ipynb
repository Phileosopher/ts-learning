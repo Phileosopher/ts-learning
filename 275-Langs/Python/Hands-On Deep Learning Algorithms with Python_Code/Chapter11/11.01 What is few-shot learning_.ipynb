{
 "cells": [
  {
   "cell_type": "markdown",
   "metadata": {},
   "source": [
    "# What is few-shot learning?\n",
    "\n",
    "Learning from a few data points is called __few-shot learning or k-shot learning__ where k\n",
    "specifies the number of data points in each of the classes in the dataset.\n",
    "\n",
    "\n",
    "Consider, we are performing an image classification task. Say we have two classes—apple\n",
    "and orange, and we try to classify the given image as apple or orange. When we have\n",
    "exactly one apple and one orange image in our training set then it is called one-shot\n",
    "learning, that is, we are learning from just one data point per class. If we have, say 11\n",
    "images of an apple and 11 images of an orange, then that is called 11-shot learning. So k in\n",
    "k-shot learning implies a number of data points we have per class.\n",
    "\n",
    "\n",
    "There is also __zero-shot learning__ where we don't have any data points per class. Wait.\n",
    "What? How can we learn when there are no data points at all? In this case, we will not have\n",
    "data points, but we will have meta information about each of the classes and we will learn\n",
    "from the meta information.\n",
    "\n",
    "\n",
    "Since we have two classes in our dataset, that is, apple and orange, we can call it two-way\n",
    "k-shot learning. So, in __n-way k-shot learning__, n-way implies the number of classes we have\n",
    "in our dataset and k-shot implies a number of data points we have in each class.\n",
    "\n",
    "\n",
    "We need our models to learn from few data points, in order to attain this, we train them in\n",
    "the same way, that is, we train the model on a very small data points. Say, we have a\n",
    "dataset, , we sample a few data points from each of the classes present in our data set and\n",
    "we call it as __support set__. Similarly, we sample some different data points from each of the\n",
    "classes and call it as a __query set__. We train the model with a support set and test it with a query set. We train the model in an\n",
    "episodic fashion—that is, in each episode, we sample a few data points from our dataset,\n",
    ", prepare our support set and query set, and train on the support set and test on the query\n",
    "set."
   ]
  },
  {
   "cell_type": "markdown",
   "metadata": {},
   "source": [
    "In the next section, we will learn about one of the most popularly used few-shot learning algorithms called Siamese networks. "
   ]
  }
 ],
 "metadata": {
  "kernelspec": {
   "display_name": "Python 2",
   "language": "python",
   "name": "python2"
  },
  "language_info": {
   "codemirror_mode": {
    "name": "ipython",
    "version": 2
   },
   "file_extension": ".py",
   "mimetype": "text/x-python",
   "name": "python",
   "nbconvert_exporter": "python",
   "pygments_lexer": "ipython2",
   "version": "2.7.12"
  }
 },
 "nbformat": 4,
 "nbformat_minor": 2
}
