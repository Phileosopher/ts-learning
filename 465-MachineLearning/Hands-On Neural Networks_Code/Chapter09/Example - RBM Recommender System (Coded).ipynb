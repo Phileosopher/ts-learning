{
 "cells": [
  {
   "cell_type": "code",
   "execution_count": 1,
   "metadata": {},
   "outputs": [
    {
     "name": "stdout",
     "output_type": "stream",
     "text": [
      "--2019-04-16 17:02:01--  http://files.grouplens.org/datasets/movielens/ml-1m.zip\n",
      "Resolving files.grouplens.org... 128.101.34.235\n",
      "Connecting to files.grouplens.org|128.101.34.235|:80... connected.\n",
      "HTTP request sent, awaiting response... 200 OK\n",
      "Length: 5917549 (5.6M) [application/zip]\n",
      "Saving to: 'moviedataset.zip'\n",
      "\n",
      "moviedataset.zip    100%[=====================>]   5.64M  2.73MB/s   in 2.1s   \n",
      "\n",
      "2019-04-16 17:02:04 (2.73 MB/s) - 'moviedataset.zip' saved [5917549/5917549]\n",
      "\n",
      "Archive:  moviedataset.zip\n",
      "  inflating: ./data/ml-1m/movies.dat  \n",
      "  inflating: ./data/ml-1m/ratings.dat  \n",
      "  inflating: ./data/ml-1m/README     \n",
      "  inflating: ./data/ml-1m/users.dat  \n",
      "Archive:  moviedataset.zip\n",
      "  inflating: ./data/ml-1m/movies.dat  \n",
      "  inflating: ./data/ml-1m/ratings.dat  \n",
      "  inflating: ./data/ml-1m/README     \n",
      "  inflating: ./data/ml-1m/users.dat  \n"
     ]
    }
   ],
   "source": [
    "!wget -O moviedataset.zip http://files.grouplens.org/datasets/movielens/ml-1m.zip\n",
    "!unzip -o moviedataset.zip -d ./data\n",
    "!unzip -o moviedataset.zip -d ./data"
   ]
  },
  {
   "cell_type": "code",
   "execution_count": 2,
   "metadata": {},
   "outputs": [],
   "source": [
    "import pandas as pd \n",
    "import numpy as np\n",
    "import tensorflow as tf\n",
    "import matplotlib.pyplot as plt\n",
    "%matplotlib inline\n",
    "import warnings\n",
    "warnings.filterwarnings(\"ignore\")"
   ]
  },
  {
   "cell_type": "code",
   "execution_count": 3,
   "metadata": {},
   "outputs": [],
   "source": [
    "movies_df = pd.read_csv('data/ml-1m/movies.dat', sep = '::', header = None)\n",
    "movies_df.columns = ['movie_id', 'title', 'genres']\n",
    "movies_df['List Index'] = movies_df.index\n",
    "\n",
    "ratings_df = pd.read_csv('data/ml-1m/ratings.dat', sep = '::', header = None)\n",
    "ratings_df.columns = ['user_id', 'movie_id', 'rating', 'timestamp']"
   ]
  },
  {
   "cell_type": "code",
   "execution_count": 4,
   "metadata": {},
   "outputs": [
    {
     "data": {
      "text/html": [
       "<div>\n",
       "<style scoped>\n",
       "    .dataframe tbody tr th:only-of-type {\n",
       "        vertical-align: middle;\n",
       "    }\n",
       "\n",
       "    .dataframe tbody tr th {\n",
       "        vertical-align: top;\n",
       "    }\n",
       "\n",
       "    .dataframe thead th {\n",
       "        text-align: right;\n",
       "    }\n",
       "</style>\n",
       "<table border=\"1\" class=\"dataframe\">\n",
       "  <thead>\n",
       "    <tr style=\"text-align: right;\">\n",
       "      <th></th>\n",
       "      <th>movie_id</th>\n",
       "      <th>List Index</th>\n",
       "      <th>user_id</th>\n",
       "      <th>rating</th>\n",
       "    </tr>\n",
       "  </thead>\n",
       "  <tbody>\n",
       "    <tr>\n",
       "      <th>0</th>\n",
       "      <td>1</td>\n",
       "      <td>0</td>\n",
       "      <td>1</td>\n",
       "      <td>5</td>\n",
       "    </tr>\n",
       "    <tr>\n",
       "      <th>1</th>\n",
       "      <td>1</td>\n",
       "      <td>0</td>\n",
       "      <td>6</td>\n",
       "      <td>4</td>\n",
       "    </tr>\n",
       "  </tbody>\n",
       "</table>\n",
       "</div>"
      ],
      "text/plain": [
       "   movie_id  List Index  user_id  rating\n",
       "0         1           0        1       5\n",
       "1         1           0        6       4"
      ]
     },
     "execution_count": 4,
     "metadata": {},
     "output_type": "execute_result"
    }
   ],
   "source": [
    "merged_df= movies_df.merge(ratings_df, on='movie_id')\n",
    "merged_df = merged_df.drop(['timestamp', 'title', 'genres'], axis=1)\n",
    "merged_df.head(2)"
   ]
  },
  {
   "cell_type": "code",
   "execution_count": 5,
   "metadata": {},
   "outputs": [
    {
     "data": {
      "text/html": [
       "<div>\n",
       "<style scoped>\n",
       "    .dataframe tbody tr th:only-of-type {\n",
       "        vertical-align: middle;\n",
       "    }\n",
       "\n",
       "    .dataframe tbody tr th {\n",
       "        vertical-align: top;\n",
       "    }\n",
       "\n",
       "    .dataframe thead th {\n",
       "        text-align: right;\n",
       "    }\n",
       "</style>\n",
       "<table border=\"1\" class=\"dataframe\">\n",
       "  <thead>\n",
       "    <tr style=\"text-align: right;\">\n",
       "      <th></th>\n",
       "      <th>movie_id</th>\n",
       "      <th>List Index</th>\n",
       "      <th>rating</th>\n",
       "    </tr>\n",
       "    <tr>\n",
       "      <th>user_id</th>\n",
       "      <th></th>\n",
       "      <th></th>\n",
       "      <th></th>\n",
       "    </tr>\n",
       "  </thead>\n",
       "  <tbody>\n",
       "    <tr>\n",
       "      <th>1</th>\n",
       "      <td>1</td>\n",
       "      <td>0</td>\n",
       "      <td>5</td>\n",
       "    </tr>\n",
       "    <tr>\n",
       "      <th>2</th>\n",
       "      <td>21</td>\n",
       "      <td>20</td>\n",
       "      <td>1</td>\n",
       "    </tr>\n",
       "    <tr>\n",
       "      <th>3</th>\n",
       "      <td>104</td>\n",
       "      <td>102</td>\n",
       "      <td>4</td>\n",
       "    </tr>\n",
       "    <tr>\n",
       "      <th>4</th>\n",
       "      <td>260</td>\n",
       "      <td>257</td>\n",
       "      <td>5</td>\n",
       "    </tr>\n",
       "    <tr>\n",
       "      <th>5</th>\n",
       "      <td>6</td>\n",
       "      <td>5</td>\n",
       "      <td>2</td>\n",
       "    </tr>\n",
       "  </tbody>\n",
       "</table>\n",
       "</div>"
      ],
      "text/plain": [
       "         movie_id  List Index  rating\n",
       "user_id                              \n",
       "1               1           0       5\n",
       "2              21          20       1\n",
       "3             104         102       4\n",
       "4             260         257       5\n",
       "5               6           5       2"
      ]
     },
     "execution_count": 5,
     "metadata": {},
     "output_type": "execute_result"
    }
   ],
   "source": [
    "usergroup = merged_df.groupby('user_id')\n",
    "usergroup.first().head()"
   ]
  },
  {
   "cell_type": "code",
   "execution_count": 6,
   "metadata": {},
   "outputs": [],
   "source": [
    "training_users = 1000\n",
    "training_data = []\n",
    "\n",
    "for userID, curUser in usergroup:\n",
    "    temp = [0]*len(movies_df)\n",
    "    for num, movie in curUser.iterrows():\n",
    "        temp[movie['List Index']] = movie['rating']/5.0\n",
    "    \n",
    "    training_data.append(temp)\n",
    "    if training_users == 0:\n",
    "        break\n",
    "    training_users -= 1"
   ]
  },
  {
   "cell_type": "code",
   "execution_count": 7,
   "metadata": {},
   "outputs": [],
   "source": [
    "h = 20\n",
    "v = len(movies_df)\n",
    "\n",
    "# This is the number of unique movies\n",
    "vb = tf.placeholder(tf.float32, [v])\n",
    "\n",
    "# This is the number of features we are going to learn in the hidden unit\n",
    "hb = tf.placeholder(tf.float32, [h])\n",
    "\n",
    "# This is the placeholder for the weights\n",
    "W = tf.placeholder(tf.float32, [v, h])"
   ]
  },
  {
   "cell_type": "code",
   "execution_count": 8,
   "metadata": {},
   "outputs": [],
   "source": [
    "v0 = tf.placeholder(tf.float32, [None, v])\n",
    "\n",
    "# Visible layer activation\n",
    "_h0 = tf.nn.sigmoid(tf.matmul(v0, W) + hb)  \n",
    "\n",
    "# Gibb's Sampling\n",
    "hidden0 = tf.nn.relu(tf.sign(_h0 - tf.random_uniform(tf.shape(_h0)))) \n",
    "\n",
    "# Hidden layer activation; reconstruction\n",
    "_v1 = tf.nn.sigmoid(tf.matmul(hidden0, tf.transpose(W)) + vb)  \n",
    "visible1 = tf.nn.relu(tf.sign(_v1 - tf.random_uniform(tf.shape(_v1))))\n",
    "h1 = tf.nn.sigmoid(tf.matmul(visible1, W) + hb)\n",
    "\n",
    "alpha = 0.6\n",
    "w_pos_grad = tf.matmul(tf.transpose(v0), hidden0)\n",
    "w_neg_grad = tf.matmul(tf.transpose(visible1), h1)\n",
    "\n",
    "# Calculate the contrastive divergence\n",
    "CD = (w_pos_grad - w_neg_grad) / tf.to_float(tf.shape(v0)[0])\n",
    "\n",
    "# Methods to update weights and biases\n",
    "update_w = W + alpha * CD\n",
    "update_vb = vb + alpha * tf.reduce_mean(v0 - visible1, 0)\n",
    "update_hb = hb + alpha * tf.reduce_mean(hidden0 - h1, 0)\n",
    "\n",
    "# Current weight\n",
    "cur_w = np.random.normal(loc=0, scale=0.01, size=[v, h])\n",
    "\n",
    "# Visible unit biases at current state\n",
    "cur_vb = np.zeros([v], np.float32)\n",
    "\n",
    "# Hidden unit biases at current state\n",
    "cur_hb = np.zeros([h], np.float32)\n",
    "\n",
    "# Previous weight of network\n",
    "previous_w = np.zeros([v, h], np.float32)\n",
    "\n",
    "# Visible unit biases (previous)\n",
    "previous_vb = np.zeros([v], np.float32)\n",
    "\n",
    "# Hidden unit biases (previous)\n",
    "previous_hb = np.zeros([h], np.float32)\n",
    "\n",
    "err = v0 - visible1\n",
    "err_sum = tf.reduce_mean(err*err)"
   ]
  },
  {
   "cell_type": "code",
   "execution_count": 9,
   "metadata": {},
   "outputs": [],
   "source": [
    "config = tf.ConfigProto()\n",
    "config.gpu_options.allow_growth = True\n",
    "sess = tf.Session(config=config)\n",
    "sess.run(tf.global_variables_initializer())"
   ]
  },
  {
   "cell_type": "code",
   "execution_count": 12,
   "metadata": {},
   "outputs": [],
   "source": [
    "epochs = 15\n",
    "batch_size = 100\n",
    "errors = []\n",
    "for i in range(epochs):\n",
    "    for start, end in zip( range(0, len(training_data), batch_size), range(batch_size, len(training_data), batch_size)):\n",
    "        batch = training_data[start:end]\n",
    "        cur_w = sess.run(update_w, feed_dict={v0: batch, W: previous_w, vb: previous_vb, hb: previous_hb})\n",
    "        cur_vb = sess.run(update_vb, feed_dict={v0: batch, W: previous_w, vb: previous_vb, hb: previous_hb})\n",
    "        cur_nb = sess.run(update_hb, feed_dict={v0: batch, W: previous_w, vb: previous_vb, hb: previous_hb})\n",
    "        previous_w = cur_w\n",
    "        previous_vb = cur_vb\n",
    "        previous_hb = cur_nb\n",
    "    errors.append(sess.run(err_sum, feed_dict={v0: training_data, W: cur_w, vb: cur_vb, hb: cur_nb}))"
   ]
  },
  {
   "cell_type": "code",
   "execution_count": 13,
   "metadata": {},
   "outputs": [
    {
     "data": {
      "image/png": "[encoded data removed]",
      "text/plain": [
       "<matplotlib.figure.Figure at 0xb2ffe51d0>"
      ]
     },
     "metadata": {},
     "output_type": "display_data"
    }
   ],
   "source": [
    "plt.plot(errors)\n",
    "plt.ylabel('Error')\n",
    "plt.xlabel('Epoch')\n",
    "plt.show()"
   ]
  },
  {
   "cell_type": "code",
   "execution_count": null,
   "metadata": {},
   "outputs": [],
   "source": []
  },
  {
   "cell_type": "code",
   "execution_count": null,
   "metadata": {},
   "outputs": [],
   "source": []
  }
 ],
 "metadata": {
  "kernelspec": {
   "display_name": "Python 3",
   "language": "python",
   "name": "python3"
  },
  "language_info": {
   "codemirror_mode": {
    "name": "ipython",
    "version": 3
   },
   "file_extension": ".py",
   "mimetype": "text/x-python",
   "name": "python",
   "nbconvert_exporter": "python",
   "pygments_lexer": "ipython3",
   "version": "3.6.8"
  }
 },
 "nbformat": 4,
 "nbformat_minor": 2
}
