{
 "cells": [
  {
   "cell_type": "code",
   "execution_count": 10,
   "metadata": {},
   "outputs": [],
   "source": [
    "import pandas as pd \n",
    "import numpy as np\n",
    "import tensorflow as tf\n",
    "import matplotlib.pyplot as plt\n",
    "%matplotlib inline\n",
    "import warnings\n",
    "warnings.filterwarnings(\"ignore\")\n",
    "from sklearn.model_selection import train_test_split\n",
    "\n",
    "from sklearn.pipeline import Pipeline\n",
    "from sklearn import linear_model\n",
    "from dbn.models import UnsupervisedDBN\n",
    "from dbn.tensorflow import SupervisedDBNClassification"
   ]
  },
  {
   "cell_type": "code",
   "execution_count": 11,
   "metadata": {},
   "outputs": [],
   "source": [
    "data = pd.read_csv('train.csv')\n",
    "X = np.array(data.drop(['label'], axis=1))\n",
    "Y = np.array(data['label'])\n",
    "X_train, X_test, Y_train, Y_test = train_test_split(X, Y, test_size=0.2, random_state=0)"
   ]
  },
  {
   "cell_type": "code",
   "execution_count": 15,
   "metadata": {},
   "outputs": [
    {
     "name": "stdout",
     "output_type": "stream",
     "text": [
      "[START] Pre-training step:\n",
      ">> Epoch 1 finished \tRBM Reconstruction error 11310675684818710528.000000\n",
      ">> Epoch 2 finished \tRBM Reconstruction error 11190312510007928832.000000\n",
      ">> Epoch 3 finished \tRBM Reconstruction error 11248791634741471232.000000\n",
      ">> Epoch 4 finished \tRBM Reconstruction error 11442830487460536320.000000\n",
      ">> Epoch 5 finished \tRBM Reconstruction error 11135515692536483840.000000\n",
      ">> Epoch 6 finished \tRBM Reconstruction error 11582417824121417728.000000\n",
      ">> Epoch 7 finished \tRBM Reconstruction error 11435360159676672000.000000\n",
      ">> Epoch 8 finished \tRBM Reconstruction error 11296939136010416128.000000\n",
      ">> Epoch 9 finished \tRBM Reconstruction error 11259242783817105408.000000\n",
      ">> Epoch 10 finished \tRBM Reconstruction error 11397729382850002944.000000\n",
      ">> Epoch 1 finished \tRBM Reconstruction error 416575356928.000000\n",
      ">> Epoch 2 finished \tRBM Reconstruction error 416776159232.000000\n",
      ">> Epoch 3 finished \tRBM Reconstruction error 416562642944.000000\n",
      ">> Epoch 4 finished \tRBM Reconstruction error 416557858816.000000\n",
      ">> Epoch 5 finished \tRBM Reconstruction error 416687685632.000000\n",
      ">> Epoch 6 finished \tRBM Reconstruction error 416610779136.000000\n",
      ">> Epoch 7 finished \tRBM Reconstruction error 416724582400.000000\n",
      ">> Epoch 8 finished \tRBM Reconstruction error 416725434368.000000\n",
      ">> Epoch 9 finished \tRBM Reconstruction error 416563855360.000000\n",
      ">> Epoch 10 finished \tRBM Reconstruction error 416559235072.000000\n",
      "[END] Pre-training step\n",
      "[START] Fine tuning step:\n",
      ">> Epoch 0 finished \tANN training loss 2.301511\n",
      ">> Epoch 1 finished \tANN training loss 2.301456\n",
      "[END] Fine tuning step\n"
     ]
    }
   ],
   "source": [
    "logistic = linear_model.LogisticRegression()\n",
    "dbn = SupervisedDBNClassification(hidden_layers_structure=[256, 256],\n",
    "                                         learning_rate_rbm=0.1,\n",
    "                                         learning_rate=0.5,\n",
    "                                         n_epochs_rbm=10,\n",
    "                                         n_iter_backprop=2,\n",
    "                                         batch_size=300,\n",
    "                                         optimization_algorithm='sgd',\n",
    "                                         activation_function='relu',\n",
    "                                         dropout_p=0.1)\n",
    "classifier = Pipeline(steps=[('dbn', dbn), ('logistic', logistic)])\n",
    "history = classifier.fit(X_train, Y_train)"
   ]
  },
  {
   "cell_type": "code",
   "execution_count": 17,
   "metadata": {},
   "outputs": [
    {
     "data": {
      "text/plain": [
       "array([1, 1, 1, ..., 1, 1, 1])"
      ]
     },
     "execution_count": 17,
     "metadata": {},
     "output_type": "execute_result"
    }
   ],
   "source": [
    "y_pred = classifier.predict(X_test)\n",
    "y_pred"
   ]
  },
  {
   "cell_type": "code",
   "execution_count": null,
   "metadata": {},
   "outputs": [],
   "source": []
  }
 ],
 "metadata": {
  "kernelspec": {
   "display_name": "Python 3",
   "language": "python",
   "name": "python3"
  },
  "language_info": {
   "codemirror_mode": {
    "name": "ipython",
    "version": 3
   },
   "file_extension": ".py",
   "mimetype": "text/x-python",
   "name": "python",
   "nbconvert_exporter": "python",
   "pygments_lexer": "ipython3",
   "version": "3.6.8"
  }
 },
 "nbformat": 4,
 "nbformat_minor": 2
}
