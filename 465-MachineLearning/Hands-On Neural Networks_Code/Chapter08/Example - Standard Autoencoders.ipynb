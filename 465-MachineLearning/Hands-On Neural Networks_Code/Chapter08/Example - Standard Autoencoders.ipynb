{
 "cells": [
  {
   "cell_type": "code",
   "execution_count": 3,
   "metadata": {},
   "outputs": [],
   "source": [
    "import keras\n",
    "from keras.layers import Input, Dense\n",
    "from keras.models import Model\n",
    "from keras.datasets import mnist\n",
    "\n",
    "import numpy as np\n",
    "import pandas as pd\n",
    "import matplotlib.pyplot as plt\n",
    "%matplotlib inline\n",
    "\n",
    "import warnings\n",
    "warnings.filterwarnings(\"ignore\")"
   ]
  },
  {
   "cell_type": "code",
   "execution_count": 4,
   "metadata": {},
   "outputs": [
    {
     "name": "stdout",
     "output_type": "stream",
     "text": [
      "(60000, 784)\n",
      "(10000, 784)\n"
     ]
    }
   ],
   "source": [
    "(x_train, _), (x_test, _) = mnist.load_data()\n",
    "\n",
    "# Scale the training and testing data so that they are in a range between 0 and 1\n",
    "x_train = x_train.astype('float32')/255\n",
    "x_test = x_test.astype('float32')/255\n",
    "x_train = x_train.reshape(len(x_train), np.prod(x_train.shape[1:]))\n",
    "x_test = x_test.reshape(len(x_test), np.prod(x_test.shape[1:]))\n",
    "print(x_train.shape)\n",
    "print(x_test.shape)"
   ]
  },
  {
   "cell_type": "markdown",
   "metadata": {},
   "source": [
    "### Undercomplete Autoencoder"
   ]
  },
  {
   "cell_type": "code",
   "execution_count": 5,
   "metadata": {},
   "outputs": [
    {
     "name": "stdout",
     "output_type": "stream",
     "text": [
      "_________________________________________________________________\n",
      "Layer (type)                 Output Shape              Param #   \n",
      "=================================================================\n",
      "input_1 (InputLayer)         (None, 784)               0         \n",
      "_________________________________________________________________\n",
      "dense_1 (Dense)              (None, 64)                50240     \n",
      "_________________________________________________________________\n",
      "dense_2 (Dense)              (None, 784)               50960     \n",
      "=================================================================\n",
      "Total params: 101,200\n",
      "Trainable params: 101,200\n",
      "Non-trainable params: 0\n",
      "_________________________________________________________________\n"
     ]
    }
   ],
   "source": [
    "# There are three layers in the autoencoder; input, encoded layer, output\n",
    "input_size = 784 # Pixel values 28*28\n",
    "hidden_size = 64 # As this is smaller than the input it is an undercomplete autoencoder\n",
    "output_size = 784\n",
    "\n",
    "input_image = Input(shape=(input_size,))\n",
    "# Encoder\n",
    "e = Dense(hidden_size, activation='relu')(input_image)\n",
    "# Decoder\n",
    "d = Dense(output_size, activation='sigmoid')(e)\n",
    "encoder = Model(input_image, d)\n",
    "encoder.compile(optimizer='adam', loss='mse')\n",
    "encoder.summary()"
   ]
  },
  {
   "cell_type": "code",
   "execution_count": 6,
   "metadata": {},
   "outputs": [
    {
     "name": "stdout",
     "output_type": "stream",
     "text": [
      "Train on 60000 samples, validate on 10000 samples\n",
      "Epoch 1/10\n",
      "60000/60000 [==============================] - 2s 28us/step - loss: 0.0398 - val_loss: 0.0191\n",
      "Epoch 2/10\n",
      "60000/60000 [==============================] - 2s 33us/step - loss: 0.0145 - val_loss: 0.0105\n",
      "Epoch 3/10\n",
      "60000/60000 [==============================] - 3s 48us/step - loss: 0.0089 - val_loss: 0.0071\n",
      "Epoch 4/10\n",
      "60000/60000 [==============================] - 4s 65us/step - loss: 0.0065 - val_loss: 0.0056\n",
      "Epoch 5/10\n",
      "60000/60000 [==============================] - 4s 69us/step - loss: 0.0054 - val_loss: 0.0049\n",
      "Epoch 6/10\n",
      "60000/60000 [==============================] - 4s 73us/step - loss: 0.0048 - val_loss: 0.0045\n",
      "Epoch 7/10\n",
      "60000/60000 [==============================] - 4s 69us/step - loss: 0.0046 - val_loss: 0.0043\n",
      "Epoch 8/10\n",
      "60000/60000 [==============================] - 4s 66us/step - loss: 0.0044 - val_loss: 0.0042\n",
      "Epoch 9/10\n",
      "60000/60000 [==============================] - 4s 66us/step - loss: 0.0043 - val_loss: 0.0041\n",
      "Epoch 10/10\n",
      "60000/60000 [==============================] - 4s 66us/step - loss: 0.0042 - val_loss: 0.0041\n"
     ]
    }
   ],
   "source": [
    "autoencoder_train = encoder.fit(x_train, x_train, batch_size=100,epochs=10,verbose=1, validation_data=(x_test, x_test))"
   ]
  },
  {
   "cell_type": "markdown",
   "metadata": {},
   "source": [
    "### Visualising Reconstructed Images"
   ]
  },
  {
   "cell_type": "code",
   "execution_count": 7,
   "metadata": {},
   "outputs": [
    {
     "data": {
      "image/png": "[encoded data removed]",
      "text/plain": [
       "<matplotlib.figure.Figure at 0xb2db14b00>"
      ]
     },
     "metadata": {},
     "output_type": "display_data"
    }
   ],
   "source": [
    "d_images = encoder.predict(x_test)\n",
    "x = 10\n",
    "plt.figure(figsize=(20, 2))\n",
    "for i in range(1, x):\n",
    "    # Display original images\n",
    "    ax = plt.subplot(2, x, i)\n",
    "    plt.imshow(x_test[i].reshape(28, 28))\n",
    "    ax.get_xaxis().set_visible(False)\n",
    "    ax.get_yaxis().set_visible(False)\n",
    "\n",
    "    # Display reconstructed images\n",
    "    ax = plt.subplot(2, x, i + x)\n",
    "    plt.imshow(d_images[i].reshape(28, 28))\n",
    "    ax.get_xaxis().set_visible(False)\n",
    "    ax.get_yaxis().set_visible(False)\n",
    "plt.show()"
   ]
  },
  {
   "cell_type": "markdown",
   "metadata": {},
   "source": [
    "### Multilayer Autoencoder"
   ]
  },
  {
   "cell_type": "code",
   "execution_count": 8,
   "metadata": {},
   "outputs": [
    {
     "name": "stdout",
     "output_type": "stream",
     "text": [
      "_________________________________________________________________\n",
      "Layer (type)                 Output Shape              Param #   \n",
      "=================================================================\n",
      "input_2 (InputLayer)         (None, 784)               0         \n",
      "_________________________________________________________________\n",
      "dense_3 (Dense)              (None, 128)               100480    \n",
      "_________________________________________________________________\n",
      "dense_4 (Dense)              (None, 64)                8256      \n",
      "_________________________________________________________________\n",
      "dense_5 (Dense)              (None, 128)               8320      \n",
      "_________________________________________________________________\n",
      "dense_6 (Dense)              (None, 784)               101136    \n",
      "=================================================================\n",
      "Total params: 218,192\n",
      "Trainable params: 218,192\n",
      "Non-trainable params: 0\n",
      "_________________________________________________________________\n"
     ]
    }
   ],
   "source": [
    "input_size = 784\n",
    "hidden_size = 128 # 64*3 \n",
    "code_size = 64\n",
    "\n",
    "input_image = Input(shape=(input_size,))\n",
    "# Encoder\n",
    "hidden_1 = Dense(hidden_size, activation='relu')(input_image)\n",
    "e = Dense(code_size, activation='relu')(hidden_1)\n",
    "\n",
    "# Decoder\n",
    "hidden_2 = Dense(hidden_size, activation='relu')(e)\n",
    "d = Dense(input_size, activation='sigmoid')(hidden_2)\n",
    "\n",
    "autoencoder = Model(input=input_image, output=d)\n",
    "autoencoder.compile(optimizer='adam', loss='mse')\n",
    "autoencoder.summary()"
   ]
  },
  {
   "cell_type": "markdown",
   "metadata": {},
   "source": [
    "### Convolutional Autoencoder"
   ]
  },
  {
   "cell_type": "code",
   "execution_count": 9,
   "metadata": {},
   "outputs": [
    {
     "name": "stdout",
     "output_type": "stream",
     "text": [
      "(60000, 28, 28)\n",
      "(10000, 28, 28)\n"
     ]
    }
   ],
   "source": [
    "(x_train, _), (x_test, _) = mnist.load_data()\n",
    "\n",
    "# Scale the training and testing data so that they are in a range between 0 and 1\n",
    "x_train = x_train.astype('float32')/255\n",
    "x_test = x_test.astype('float32')/255\n",
    "\n",
    "print(x_train.shape)\n",
    "print(x_test.shape)"
   ]
  },
  {
   "cell_type": "code",
   "execution_count": 10,
   "metadata": {},
   "outputs": [
    {
     "name": "stdout",
     "output_type": "stream",
     "text": [
      "(60000, 28, 28, 1)\n",
      "(10000, 28, 28, 1)\n"
     ]
    }
   ],
   "source": [
    "# Convert each 28x28 image into a matrix of size 28 x 28 x 1\n",
    "x_train = x_train.reshape(-1, 28,28, 1)\n",
    "x_test = x_test.reshape(-1, 28,28, 1)\n",
    "print(x_train.shape)\n",
    "print(x_test.shape)"
   ]
  },
  {
   "cell_type": "code",
   "execution_count": 12,
   "metadata": {},
   "outputs": [
    {
     "name": "stdout",
     "output_type": "stream",
     "text": [
      "_________________________________________________________________\n",
      "Layer (type)                 Output Shape              Param #   \n",
      "=================================================================\n",
      "conv2d_4 (Conv2D)            (None, 28, 28, 32)        320       \n",
      "_________________________________________________________________\n",
      "max_pooling2d_3 (MaxPooling2 (None, 14, 14, 32)        0         \n",
      "_________________________________________________________________\n",
      "conv2d_5 (Conv2D)            (None, 14, 14, 64)        18496     \n",
      "_________________________________________________________________\n",
      "max_pooling2d_4 (MaxPooling2 (None, 7, 7, 64)          0         \n",
      "_________________________________________________________________\n",
      "conv2d_6 (Conv2D)            (None, 4, 4, 128)         73856     \n",
      "_________________________________________________________________\n",
      "conv2d_7 (Conv2D)            (None, 4, 4, 128)         147584    \n",
      "_________________________________________________________________\n",
      "up_sampling2d_1 (UpSampling2 (None, 8, 8, 128)         0         \n",
      "_________________________________________________________________\n",
      "conv2d_8 (Conv2D)            (None, 8, 8, 8)           4104      \n",
      "_________________________________________________________________\n",
      "up_sampling2d_2 (UpSampling2 (None, 16, 16, 8)         0         \n",
      "_________________________________________________________________\n",
      "conv2d_9 (Conv2D)            (None, 14, 14, 64)        4672      \n",
      "_________________________________________________________________\n",
      "up_sampling2d_3 (UpSampling2 (None, 28, 28, 64)        0         \n",
      "_________________________________________________________________\n",
      "conv2d_10 (Conv2D)           (None, 28, 28, 1)         577       \n",
      "=================================================================\n",
      "Total params: 249,609\n",
      "Trainable params: 249,609\n",
      "Non-trainable params: 0\n",
      "_________________________________________________________________\n",
      "Train on 60000 samples, validate on 10000 samples\n",
      "Epoch 1/3\n",
      "60000/60000 [==============================] - 494s 8ms/step - loss: 0.1428 - val_loss: 0.0910\n",
      "Epoch 2/3\n",
      "60000/60000 [==============================] - 364s 6ms/step - loss: 0.0855 - val_loss: 0.0796\n",
      "Epoch 3/3\n",
      "60000/60000 [==============================] - 360s 6ms/step - loss: 0.0789 - val_loss: 0.0759\n"
     ]
    }
   ],
   "source": [
    "from keras.models import Sequential\n",
    "from keras.layers import Flatten, Reshape, Conv2D, MaxPooling2D, UpSampling2D\n",
    "\n",
    "ae = Sequential()\n",
    "\n",
    "# Layers of the encoder\n",
    "ae.add(Conv2D(32, (3, 3), activation='relu', padding='same', input_shape=x_train.shape[1:]))\n",
    "ae.add(MaxPooling2D((2, 2), padding='same'))\n",
    "ae.add(Conv2D(64, (3, 3), activation='relu', padding='same'))\n",
    "ae.add(MaxPooling2D((2, 2), padding='same'))\n",
    "ae.add(Conv2D(128, (3, 3), strides=(2,2), activation='relu', padding='same'))\n",
    "\n",
    "# Layers of the decoder\n",
    "ae.add(Conv2D(128, (3, 3), activation='relu', padding='same'))\n",
    "ae.add(UpSampling2D((2, 2)))\n",
    "ae.add(Conv2D(8, (2, 2), activation='relu', padding='same'))\n",
    "ae.add(UpSampling2D((2, 2)))\n",
    "ae.add(Conv2D(64, (3, 3), activation='relu'))\n",
    "ae.add(UpSampling2D((2, 2)))\n",
    "ae.add(Conv2D(1, (3, 3), activation='sigmoid', padding='same'))\n",
    "\n",
    "ae.summary()\n",
    "\n",
    "ae.compile(optimizer='adam', loss='binary_crossentropy')\n",
    "\n",
    "autoencoder_train = ae.fit(x_train, x_train, batch_size=128,epochs=3,verbose=1, validation_data=(x_test, x_test))"
   ]
  },
  {
   "cell_type": "markdown",
   "metadata": {},
   "source": [
    "### Sparse Autoencoders"
   ]
  },
  {
   "cell_type": "code",
   "execution_count": 12,
   "metadata": {},
   "outputs": [],
   "source": [
    "from keras import regularizers\n",
    "\n",
    "input_size = 784\n",
    "h_size = 64\n",
    "o_size = 784\n",
    "\n",
    "x = Input(shape=(input_size,))\n",
    "\n",
    "# Encoder\n",
    "h = Dense(h_size, activation='relu', activity_regularizer=regularizers.l1(10e-5))(x)\n",
    "\n",
    "# Decoder\n",
    "r = Dense(o_size, activation='sigmoid')(h)\n",
    "\n",
    "autoencoder = Model(input=x, output=r)"
   ]
  },
  {
   "cell_type": "markdown",
   "metadata": {},
   "source": [
    "### Denoising Autoencoder"
   ]
  },
  {
   "cell_type": "code",
   "execution_count": 13,
   "metadata": {},
   "outputs": [],
   "source": [
    "# Add noise to the train and test dataset\n",
    "add_noise = np.random.normal(loc=0.5, scale=0.5, size=x_train.shape)\n",
    "x_train_with_noise = x_train + add_noise\n",
    "add_noise = np.random.normal(loc=0.5, scale=0.5, size=x_test.shape)\n",
    "x_test_with_noise = x_test + add_noise\n",
    "\n",
    "x_train_noisy = np.clip(x_train_with_noise, 0., 1.)\n",
    "x_test_noisy = np.clip(x_test_with_noise, 0., 1.)"
   ]
  },
  {
   "cell_type": "code",
   "execution_count": 14,
   "metadata": {},
   "outputs": [
    {
     "data": {
      "image/png": "[encoded data removed]",
      "text/plain": [
       "<matplotlib.figure.Figure at 0xb450b0cc0>"
      ]
     },
     "metadata": {},
     "output_type": "display_data"
    }
   ],
   "source": [
    "img = x_train[1]\n",
    "img = img.reshape((28,28))\n",
    "plt.imshow(img)\n",
    "plt.title('Image With No Noise')\n",
    "plt.show()"
   ]
  },
  {
   "cell_type": "code",
   "execution_count": 15,
   "metadata": {},
   "outputs": [
    {
     "data": {
      "image/png": "[encoded data removed]",
      "text/plain": [
       "<matplotlib.figure.Figure at 0xb444b6a90>"
      ]
     },
     "metadata": {},
     "output_type": "display_data"
    }
   ],
   "source": [
    "img = x_train_noisy[1]\n",
    "img = img.reshape((28,28))\n",
    "plt.imshow(img)\n",
    "plt.title('Image With Noise')\n",
    "plt.show()"
   ]
  },
  {
   "cell_type": "code",
   "execution_count": null,
   "metadata": {},
   "outputs": [],
   "source": []
  },
  {
   "cell_type": "code",
   "execution_count": null,
   "metadata": {},
   "outputs": [],
   "source": []
  }
 ],
 "metadata": {
  "kernelspec": {
   "display_name": "Python 3",
   "language": "python",
   "name": "python3"
  },
  "language_info": {
   "codemirror_mode": {
    "name": "ipython",
    "version": 3
   },
   "file_extension": ".py",
   "mimetype": "text/x-python",
   "name": "python",
   "nbconvert_exporter": "python",
   "pygments_lexer": "ipython3",
   "version": "3.6.8"
  }
 },
 "nbformat": 4,
 "nbformat_minor": 2
}
