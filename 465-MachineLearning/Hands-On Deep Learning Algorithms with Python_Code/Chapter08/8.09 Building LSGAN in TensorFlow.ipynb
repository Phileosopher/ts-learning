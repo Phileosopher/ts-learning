{
 "cells": [
  {
   "cell_type": "markdown",
   "metadata": {},
   "source": [
    "# Building LSGAN in TensorFlow"
   ]
  },
  {
   "cell_type": "markdown",
   "metadata": {},
   "source": [
    "Implementing LSGAN is same as vanilla GAN expect for the change in the loss function. We will see how to generate images of handwritten digits using LSGAN."
   ]
  },
  {
   "cell_type": "markdown",
   "metadata": {},
   "source": [
    "## Import libraries\n",
    "\n",
    "First, we will import all the necessary libraries:"
   ]
  },
  {
   "cell_type": "code",
   "execution_count": 1,
   "metadata": {},
   "outputs": [],
   "source": [
    "import warnings\n",
    "warnings.filterwarnings('ignore')\n",
    "\n",
    "import numpy as np\n",
    "import tensorflow as tf\n",
    "\n",
    "from tensorflow.examples.tutorials.mnist import input_data\n",
    "tf.logging.set_verbosity(tf.logging.ERROR)\n",
    "\n",
    "import matplotlib.pyplot as plt\n",
    "%matplotlib inline"
   ]
  },
  {
   "cell_type": "markdown",
   "metadata": {},
   "source": [
    "### Read the Dataset\n",
    "\n",
    "Load our MNIST dataset:"
   ]
  },
  {
   "cell_type": "code",
   "execution_count": 2,
   "metadata": {},
   "outputs": [
    {
     "name": "stdout",
     "output_type": "stream",
     "text": [
      "Extracting data/mnist/train-images-idx3-ubyte.gz\n",
      "Extracting data/mnist/train-labels-idx1-ubyte.gz\n",
      "Extracting data/mnist/t10k-images-idx3-ubyte.gz\n",
      "Extracting data/mnist/t10k-labels-idx1-ubyte.gz\n"
     ]
    }
   ],
   "source": [
    "data = input_data.read_data_sets(\"data/mnist\",one_hot=True)"
   ]
  },
  {
   "cell_type": "markdown",
   "metadata": {},
   "source": [
    "## Defining Generator \n",
    "\n",
    "Generator $G$ takes the noise $z$ as an input and returns an image. We define the generator as simple three layer feed forward network. "
   ]
  },
  {
   "cell_type": "code",
   "execution_count": 3,
   "metadata": {},
   "outputs": [],
   "source": [
    "def generator(z,reuse=None):\n",
    "    \n",
    "    with tf.variable_scope('generator',reuse=reuse):\n",
    "        \n",
    "        hidden1 = tf.layers.dense(inputs=z,units=128,activation=tf.nn.leaky_relu)\n",
    "        hidden2 = tf.layers.dense(inputs=hidden1,units=128,activation=tf.nn.leaky_relu)\n",
    "        output = tf.layers.dense(inputs=hidden2,units=784,activation=tf.nn.tanh)\n",
    "        \n",
    "        return output"
   ]
  },
  {
   "cell_type": "markdown",
   "metadata": {},
   "source": [
    "## Defining Discriminator\n",
    "\n",
    "We know that discriminator $D$ returns the probability. i.e it will tell us the probability of the given image being real. We define the discriminator also as a simple three layer feed forward network. "
   ]
  },
  {
   "cell_type": "code",
   "execution_count": 4,
   "metadata": {},
   "outputs": [],
   "source": [
    "def discriminator(X,reuse=None):\n",
    "    \n",
    "    with tf.variable_scope('discriminator',reuse=reuse):\n",
    "        \n",
    "        hidden1 = tf.layers.dense(inputs=X,units=128,activation=tf.nn.leaky_relu)\n",
    "        hidden2 = tf.layers.dense(inputs=hidden1,units=128,activation=tf.nn.leaky_relu)\n",
    "        logits = tf.layers.dense(inputs=hidden2,units=1)\n",
    "        output = tf.sigmoid(logits)\n",
    "        \n",
    "        return logits"
   ]
  },
  {
   "cell_type": "markdown",
   "metadata": {},
   "source": [
    "## Define the input placeholders\n",
    "\n",
    "\n",
    "Now, we define the placeholder for the input $x$ and the noise $z$:"
   ]
  },
  {
   "cell_type": "code",
   "execution_count": 5,
   "metadata": {},
   "outputs": [],
   "source": [
    "x = tf.placeholder(tf.float32,shape=[None,784])\n",
    "z = tf.placeholder(tf.float32,shape=[None,100])"
   ]
  },
  {
   "cell_type": "markdown",
   "metadata": {},
   "source": [
    "## Start the GAN!"
   ]
  },
  {
   "cell_type": "markdown",
   "metadata": {},
   "source": [
    "First we feed the noise z to the generator and it will output the fake image. i.e $ fake \\; x = G(z) $"
   ]
  },
  {
   "cell_type": "code",
   "execution_count": 6,
   "metadata": {},
   "outputs": [],
   "source": [
    "fake_x = generator(z)"
   ]
  },
  {
   "cell_type": "markdown",
   "metadata": {},
   "source": [
    "Now, we feed the real image to the discriminator $D(x)$ and get the probabillty of being real:"
   ]
  },
  {
   "cell_type": "code",
   "execution_count": 7,
   "metadata": {},
   "outputs": [],
   "source": [
    "D_logits_real = discriminator(x) "
   ]
  },
  {
   "cell_type": "markdown",
   "metadata": {},
   "source": [
    "Similarly, we feed the fake image to the discirminator $D(z)$ and get the probabillty of it being real:"
   ]
  },
  {
   "cell_type": "code",
   "execution_count": 8,
   "metadata": {},
   "outputs": [],
   "source": [
    "D_logits_fake = discriminator(fake_x,reuse=True) "
   ]
  },
  {
   "cell_type": "markdown",
   "metadata": {},
   "source": [
    "## Computing Loss Function\n",
    "\n",
    "Now, we will see, how to compute the loss function.\n",
    "\n",
    "\n",
    "\n",
    "### Discriminator Loss\n",
    "\n",
    "Discriminator loss is given as:\n",
    "\n",
    "$L^D =\\frac{1}{2} \\mathbb{E}_{\\boldsymbol{x} \\sim p_{\\mathrm{data}}(\\boldsymbol{x})}\\left[(D(\\boldsymbol{x})-1)^{2}\\right]+\\frac{1}{2} \\mathbb{E}_{\\boldsymbol{z} \\sim p_{\\boldsymbol{z}}(\\boldsymbol{z})}\\left[(D(G(\\boldsymbol{z})))^{2}\\right] $\n",
    "\n",
    "<br>\n",
    "\n",
    "First we will implement the first term i.e $\\frac{1}{2} \\mathbb{E}_{\\boldsymbol{x} \\sim p_{\\mathrm{data}}(\\boldsymbol{x})}\\left[(D(\\boldsymbol{x})-1)^{2}\\right]$"
   ]
  },
  {
   "cell_type": "code",
   "execution_count": 9,
   "metadata": {},
   "outputs": [],
   "source": [
    "D_loss_real = 0.5*tf.reduce_mean(tf.square(D_logits_real-1))"
   ]
  },
  {
   "cell_type": "markdown",
   "metadata": {},
   "source": [
    "Now, the second term, $\\frac{1}{2} \\mathbb{E}_{\\boldsymbol{z} \\sim p_{\\boldsymbol{z}}(\\boldsymbol{z})}\\left[(D(G(\\boldsymbol{z})))^{2}\\right] $"
   ]
  },
  {
   "cell_type": "code",
   "execution_count": 10,
   "metadata": {},
   "outputs": [],
   "source": [
    "D_loss_fake = 0.5*tf.reduce_mean(tf.square(D_logits_fake))"
   ]
  },
  {
   "cell_type": "markdown",
   "metadata": {},
   "source": [
    "The final discriminator loss can be written as:"
   ]
  },
  {
   "cell_type": "code",
   "execution_count": 11,
   "metadata": {},
   "outputs": [],
   "source": [
    "D_loss = D_loss_real + D_loss_fake"
   ]
  },
  {
   "cell_type": "markdown",
   "metadata": {},
   "source": [
    "### Generator Loss\n",
    "\n",
    "Generator loss is given as:\n",
    "\n",
    "$L^G =\\frac{1}{2} \\mathbb{E}_{\\boldsymbol{z} \\sim p_{\\boldsymbol{z}}(\\boldsymbol{z})}\\left[(D(G(\\boldsymbol{z}))-1)^{2}\\right] $"
   ]
  },
  {
   "cell_type": "code",
   "execution_count": 12,
   "metadata": {},
   "outputs": [],
   "source": [
    "G_loss = 0.5*tf.reduce_mean(tf.square(D_logits_fake-1))"
   ]
  },
  {
   "cell_type": "markdown",
   "metadata": {},
   "source": [
    "## Optimizing the Loss\n",
    "\n",
    "\n",
    "Now we need to optimize our generator and discriminator. So, we collect the parameters of the discriminator and generator as $\\theta_D$ and $\\theta_G$ respectively. "
   ]
  },
  {
   "cell_type": "code",
   "execution_count": 13,
   "metadata": {},
   "outputs": [],
   "source": [
    "training_vars = tf.trainable_variables()\n",
    "\n",
    "theta_D = [var for var in training_vars if 'discriminator' in var.name]\n",
    "theta_G = [var for var in training_vars if 'generator' in var.name]"
   ]
  },
  {
   "cell_type": "markdown",
   "metadata": {},
   "source": [
    "Optimize the loss using adam optimizer:"
   ]
  },
  {
   "cell_type": "code",
   "execution_count": 14,
   "metadata": {},
   "outputs": [],
   "source": [
    "D_optimizer = tf.train.AdamOptimizer(0.001).minimize(D_loss,var_list = theta_D)\n",
    "G_optimizer = tf.train.AdamOptimizer(0.001).minimize(G_loss, var_list = theta_G)"
   ]
  },
  {
   "cell_type": "markdown",
   "metadata": {},
   "source": [
    "## Begin Training \n",
    "\n",
    "Define the batch size, number of epochs and start the tensorflow session. "
   ]
  },
  {
   "cell_type": "code",
   "execution_count": 15,
   "metadata": {},
   "outputs": [],
   "source": [
    "batch_size = 100\n",
    "num_epochs = 10000\n",
    "\n",
    "session = tf.InteractiveSession()\n",
    "session.run(tf.global_variables_initializer())"
   ]
  },
  {
   "cell_type": "markdown",
   "metadata": {},
   "source": [
    "### Generate Handwritten Digits\n",
    "\n",
    "Start the tensorflow session and generate handwritten digits:"
   ]
  },
  {
   "cell_type": "code",
   "execution_count": null,
   "metadata": {},
   "outputs": [
    {
     "name": "stdout",
     "output_type": "stream",
     "text": [
      "Epoch: 0, Discriminator Loss:0.0160291660577, Generator Loss: 0.470727235079\n"
     ]
    },
    {
     "data": {
      "image/png": "[encoded data removed]",
      "text/plain": [
       "<Figure size 432x288 with 1 Axes>"
      ]
     },
     "metadata": {},
     "output_type": "display_data"
    },
    {
     "name": "stdout",
     "output_type": "stream",
     "text": [
      "Epoch: 100, Discriminator Loss:0.156552925706, Generator Loss: 0.245793491602\n"
     ]
    },
    {
     "data": {
      "image/png": "[encoded data removed]",
      "text/plain": [
       "<Figure size 432x288 with 1 Axes>"
      ]
     },
     "metadata": {},
     "output_type": "display_data"
    },
    {
     "name": "stdout",
     "output_type": "stream",
     "text": [
      "Epoch: 200, Discriminator Loss:0.162407681346, Generator Loss: 0.245565131307\n"
     ]
    },
    {
     "data": {
      "image/png": "[encoded data removed]",
      "text/plain": [
       "<Figure size 432x288 with 1 Axes>"
      ]
     },
     "metadata": {},
     "output_type": "display_data"
    },
    {
     "name": "stdout",
     "output_type": "stream",
     "text": [
      "Epoch: 300, Discriminator Loss:0.143970817327, Generator Loss: 0.260525405407\n"
     ]
    },
    {
     "data": {
      "image/png": "[encoded data removed]",
      "text/plain": [
       "<Figure size 432x288 with 1 Axes>"
      ]
     },
     "metadata": {},
     "output_type": "display_data"
    }
   ],
   "source": [
    "#for every epcochs\n",
    "for epoch in range(num_epochs):\n",
    "    \n",
    "    #select number of batches\n",
    "    num_batches = data.train.num_examples // batch_size\n",
    "    \n",
    "    #for every batch\n",
    "    for i in range(num_batches):\n",
    "        \n",
    "        #sample batch of data\n",
    "        batch = data.train.next_batch(batch_size)\n",
    "        \n",
    "        #reshape the input images\n",
    "        batch_images = batch[0].reshape((batch_size,784))\n",
    "        batch_images = batch_images * 2 - 1\n",
    "        \n",
    "        #sample batch of noise\n",
    "        batch_noise = np.random.uniform(-1,1,size=(batch_size,100))\n",
    "        \n",
    "        #define the feed dictionaries with input x as batch_images and noise z as batch noise\n",
    "        feed_dict = {x: batch_images, z : batch_noise}\n",
    "    \n",
    "        #train the discriminator and generator\n",
    "        _ = session.run(D_optimizer,feed_dict = feed_dict)\n",
    "        _ = session.run(G_optimizer,feed_dict = feed_dict)\n",
    "\n",
    "        \n",
    "    #compute loss of discriminator and generator\n",
    "    discriminator_loss = D_loss.eval(feed_dict)\n",
    "    generator_loss = G_loss.eval(feed_dict)\n",
    "    \n",
    "    #feed the noise to a generator on every 100th epoch and generate an image\n",
    "    if epoch%100==0:\n",
    "        print(\"Epoch: {}, Discriminator Loss:{}, Generator Loss: {}\".format(epoch,discriminator_loss,generator_loss))\n",
    "\n",
    "        noise = np.random.uniform(-1,1,size=(1,100))\n",
    "        _fake_x = fake_x.eval(feed_dict ={z:noise})\n",
    "        \n",
    "        plt.imshow(_fake_x.reshape(28,28))\n",
    "        plt.show()\n",
    "        "
   ]
  },
  {
   "cell_type": "markdown",
   "metadata": {},
   "source": [
    "We learned that the LSGAN is same as vanilla GAN except that it uses least squares error in its cost function. In the next section, we will learn about WGAN which uses Wasserstein distance in the GAN's loss function."
   ]
  }
 ],
 "metadata": {
  "kernelspec": {
   "display_name": "Python 2",
   "language": "python",
   "name": "python2"
  },
  "language_info": {
   "codemirror_mode": {
    "name": "ipython",
    "version": 2
   },
   "file_extension": ".py",
   "mimetype": "text/x-python",
   "name": "python",
   "nbconvert_exporter": "python",
   "pygments_lexer": "ipython2",
   "version": "2.7.12"
  }
 },
 "nbformat": 4,
 "nbformat_minor": 2
}
