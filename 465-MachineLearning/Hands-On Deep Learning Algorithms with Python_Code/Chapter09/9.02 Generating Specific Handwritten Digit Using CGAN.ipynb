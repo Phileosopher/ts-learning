{
 "cells": [
  {
   "cell_type": "markdown",
   "metadata": {},
   "source": [
    "# Generating Specific Handwritten Digit Using CGAN"
   ]
  },
  {
   "cell_type": "markdown",
   "metadata": {},
   "source": [
    "We just learned how CGAN works and the architecture of CGAN. To strengthen our understanding, now we will learn how to implement CGAN in TensorFlow for generating an image of specific handwritten digit. "
   ]
  },
  {
   "cell_type": "markdown",
   "metadata": {},
   "source": [
    "## Import libraries\n",
    "\n",
    "First, we will import all the necessary libraries:"
   ]
  },
  {
   "cell_type": "code",
   "execution_count": 1,
   "metadata": {},
   "outputs": [],
   "source": [
    "import warnings\n",
    "warnings.filterwarnings('ignore')\n",
    "\n",
    "import numpy as np\n",
    "import tensorflow as tf\n",
    "\n",
    "from tensorflow.examples.tutorials.mnist import input_data\n",
    "tf.logging.set_verbosity(tf.logging.ERROR)\n",
    "tf.reset_default_graph()\n",
    "\n",
    "import matplotlib.pyplot as plt\n",
    "%matplotlib inline\n",
    "\n",
    "from IPython import display"
   ]
  },
  {
   "cell_type": "markdown",
   "metadata": {},
   "source": [
    "### Read the Dataset\n",
    "\n",
    "Load the MNIST dataset:"
   ]
  },
  {
   "cell_type": "code",
   "execution_count": 2,
   "metadata": {
    "scrolled": true
   },
   "outputs": [
    {
     "name": "stdout",
     "output_type": "stream",
     "text": [
      "Extracting data/mnist/train-images-idx3-ubyte.gz\n",
      "Extracting data/mnist/train-labels-idx1-ubyte.gz\n",
      "Extracting data/mnist/t10k-images-idx3-ubyte.gz\n",
      "Extracting data/mnist/t10k-labels-idx1-ubyte.gz\n"
     ]
    }
   ],
   "source": [
    "data = input_data.read_data_sets(\"data/mnist\",one_hot=True)"
   ]
  },
  {
   "cell_type": "markdown",
   "metadata": {},
   "source": [
    "## Defining Generator \n",
    "\n",
    "Generator $G$ takes the noise $z$ and also the conditional variable $c$ as an input and returns an image. We define the generator as a simple 2 layer feed forward network. "
   ]
  },
  {
   "cell_type": "code",
   "execution_count": 3,
   "metadata": {},
   "outputs": [],
   "source": [
    "def generator(z, c,reuse=False):\n",
    "    with tf.variable_scope('generator', reuse=reuse):\n",
    "        \n",
    "        #initialize weights\n",
    "        w_init = tf.contrib.layers.xavier_initializer()\n",
    "        \n",
    "        #concatenate noize z and conditional  variable c to form an input\n",
    "        inputs = tf.concat([z, c], 1)\n",
    "        \n",
    "        #define the first layer with relu activation\n",
    "        dense1 = tf.layers.dense(inputs, 128, kernel_initializer=w_init)\n",
    "        relu1 = tf.nn.relu(dense1)\n",
    "        \n",
    "        #define the second layer and compute the output using the tanh activation function\n",
    "        logits = tf.layers.dense(relu1, 784, kernel_initializer=w_init)\n",
    "        output = tf.nn.tanh(logits)\n",
    "\n",
    "        return output"
   ]
  },
  {
   "cell_type": "markdown",
   "metadata": {},
   "source": [
    "## Defining Discriminator\n",
    "\n",
    "We know that discriminator $D$ returns the probability. i.e it will tell us the probability of the given image being real. Along with the input image $x$, it also takes the conditional varaible $c$ as an input. We define the discriminator also as a simple 2 layer feed forward network. "
   ]
  },
  {
   "cell_type": "code",
   "execution_count": 1,
   "metadata": {},
   "outputs": [],
   "source": [
    "def discriminator(x, c, reuse=False):\n",
    "    with tf.variable_scope('discriminator', reuse=reuse):\n",
    "        \n",
    "        #initialize weights\n",
    "        w_init = tf.contrib.layers.xavier_initializer()\n",
    "        \n",
    "        #concatenate noize z and conditional variable c to form an input\n",
    "        inputs = tf.concat([x, c], 1)\n",
    "    \n",
    "        #define the first layer with the relu activation\n",
    "        dense1 = tf.layers.dense(inputs, 128, kernel_initializer=w_init)\n",
    "        relu1 = tf.nn.relu(dense1)\n",
    "        \n",
    "        #define the second layer and compute the output using sigmoid activation function\n",
    "        logits = tf.layers.dense(relu1, 1, kernel_initializer=w_init)\n",
    "        output = tf.nn.sigmoid(logits)\n",
    "\n",
    "        return logits"
   ]
  },
  {
   "cell_type": "markdown",
   "metadata": {},
   "source": [
    "## Define the input placeholders\n",
    "\n",
    "\n",
    "Now, we define the placeholder for the input $x$, conditional variable $c$ and the noise $z$:"
   ]
  },
  {
   "cell_type": "code",
   "execution_count": 5,
   "metadata": {},
   "outputs": [],
   "source": [
    "x = tf.placeholder(tf.float32, shape=(None, 784))\n",
    "c = tf.placeholder(tf.float32, shape=(None, 10))\n",
    "z = tf.placeholder(tf.float32, shape=(None, 100))"
   ]
  },
  {
   "cell_type": "markdown",
   "metadata": {},
   "source": [
    "## Start the GAN!"
   ]
  },
  {
   "cell_type": "markdown",
   "metadata": {},
   "source": [
    "First we feed the noise z to the generator and it will output the fake image. i.e $ fake \\; x = G(z|c) $"
   ]
  },
  {
   "cell_type": "code",
   "execution_count": 6,
   "metadata": {},
   "outputs": [],
   "source": [
    "fake_x = generator(z, c)"
   ]
  },
  {
   "cell_type": "markdown",
   "metadata": {},
   "source": [
    "Now, we feed the real image $x$ along with conditional variable $c$ to the discriminator $D(x|c)$ and get the probabillty of being real:"
   ]
  },
  {
   "cell_type": "code",
   "execution_count": 7,
   "metadata": {},
   "outputs": [],
   "source": [
    "D_logits_real = discriminator(x,c) "
   ]
  },
  {
   "cell_type": "markdown",
   "metadata": {},
   "source": [
    "Similarly, we feed the fake image fake_x and conditional variable $c$ to the discirminator $D(z|c)$ and get the probabillty of it being real:"
   ]
  },
  {
   "cell_type": "code",
   "execution_count": 8,
   "metadata": {},
   "outputs": [],
   "source": [
    "D_logits_fake = discriminator(fake_x, c, reuse=True)"
   ]
  },
  {
   "cell_type": "markdown",
   "metadata": {},
   "source": [
    "## Computing Loss Function\n",
    "\n",
    "Now, we will see, how to compute the loss function. It is essentially same as vanilla GAN except that we add a condtional variable. \n",
    "\n",
    "\n",
    "\n",
    "### Discriminator Loss\n",
    "\n",
    "Discriminator loss is given as,\n",
    "\n",
    "${L ^{D} =  - \\mathbb{E}_{x \\sim p_{r}(x)}[\\log D(x|c)] - \\mathbb{E}_{z \\sim p_{z}(z)}[\\log (1-D(G(z|c))]} $\n",
    "\n",
    "\n",
    "<br>\n",
    "\n",
    "\n",
    "First we will implement the first term i.e $\\mathbb{E}_{x \\sim p_{r}(x)}[\\log D(x|c)]$"
   ]
  },
  {
   "cell_type": "code",
   "execution_count": 9,
   "metadata": {},
   "outputs": [],
   "source": [
    "D_loss_real = tf.reduce_mean(tf.nn.sigmoid_cross_entropy_with_logits(logits=D_logits_real,\n",
    "                                                                     labels=tf.ones_like(D_logits_real)))"
   ]
  },
  {
   "cell_type": "markdown",
   "metadata": {},
   "source": [
    "Now the second term, $\\mathbb{E}_{z \\sim p_{z}(z)}[\\log (1-D(G(z|c))]$"
   ]
  },
  {
   "cell_type": "code",
   "execution_count": 10,
   "metadata": {},
   "outputs": [],
   "source": [
    "D_loss_fake = tf.reduce_mean(tf.nn.sigmoid_cross_entropy_with_logits(logits=D_logits_fake,\n",
    "                                                                     labels=tf.zeros_like(D_logits_fake)))"
   ]
  },
  {
   "cell_type": "markdown",
   "metadata": {},
   "source": [
    "The final loss can be written as:"
   ]
  },
  {
   "cell_type": "code",
   "execution_count": 11,
   "metadata": {},
   "outputs": [],
   "source": [
    "D_loss = D_loss_real + D_loss_fake"
   ]
  },
  {
   "cell_type": "markdown",
   "metadata": {},
   "source": [
    "### Generator Loss\n",
    "\n",
    "Generator loss is given as:\n",
    "\n",
    "${L^{G}= - \\mathbb{E}_{z \\sim p_{z}(z)}[\\log (D(G(z|c)))] } $"
   ]
  },
  {
   "cell_type": "code",
   "execution_count": 12,
   "metadata": {},
   "outputs": [],
   "source": [
    "G_loss = tf.reduce_mean(tf.nn.sigmoid_cross_entropy_with_logits(logits=D_logits_fake,\n",
    "                                                                labels=tf.ones_like(D_logits_fake)))"
   ]
  },
  {
   "cell_type": "markdown",
   "metadata": {},
   "source": [
    "## Optimizing the Loss\n",
    "\n",
    "\n",
    "Now we need to optimize our generator and discriminator. So, we collect the parameters of the discriminator and generator as $\\theta_D$ and $\\theta_G$ respectively. "
   ]
  },
  {
   "cell_type": "code",
   "execution_count": 13,
   "metadata": {},
   "outputs": [],
   "source": [
    "training_vars = tf.trainable_variables()\n",
    "theta_D = [var for var in training_vars if var.name.startswith('discriminator')]\n",
    "theta_G = [var for var in training_vars if var.name.startswith('generator')]"
   ]
  },
  {
   "cell_type": "markdown",
   "metadata": {},
   "source": [
    "Optimize the loss using adam optimizer:"
   ]
  },
  {
   "cell_type": "code",
   "execution_count": 14,
   "metadata": {},
   "outputs": [],
   "source": [
    "D_optimizer = tf.train.AdamOptimizer(0.001, beta1=0.5).minimize(D_loss, var_list=theta_D)\n",
    "G_optimizer = tf.train.AdamOptimizer(0.001, beta1=0.5).minimize(G_loss, var_list=theta_G)"
   ]
  },
  {
   "cell_type": "markdown",
   "metadata": {},
   "source": [
    "## Start the Training \n",
    "\n",
    "\n",
    "Start the TensorFlow session and initialize variables:\n"
   ]
  },
  {
   "cell_type": "code",
   "execution_count": 15,
   "metadata": {},
   "outputs": [],
   "source": [
    "session = tf.InteractiveSession()\n",
    "tf.global_variables_initializer().run()"
   ]
  },
  {
   "cell_type": "markdown",
   "metadata": {},
   "source": [
    "Define the batch size, number of epochs and number of classes:"
   ]
  },
  {
   "cell_type": "code",
   "execution_count": 6,
   "metadata": {},
   "outputs": [],
   "source": [
    "batch_size = 128\n",
    "num_epochs = 5000\n",
    "num_classes = 10"
   ]
  },
  {
   "cell_type": "markdown",
   "metadata": {},
   "source": [
    "Define the images and labels:"
   ]
  },
  {
   "cell_type": "code",
   "execution_count": 16,
   "metadata": {},
   "outputs": [],
   "source": [
    "images = data.train.images\n",
    "labels = data.train.labels"
   ]
  },
  {
   "cell_type": "markdown",
   "metadata": {},
   "source": [
    "## Generate the Handwritten Digit 7"
   ]
  },
  {
   "cell_type": "markdown",
   "metadata": {},
   "source": [
    "We set the digit to generate as 7:"
   ]
  },
  {
   "cell_type": "code",
   "execution_count": 7,
   "metadata": {},
   "outputs": [],
   "source": [
    "label_to_generate = 7\n",
    "onehot = np.eye(10)"
   ]
  },
  {
   "cell_type": "code",
   "execution_count": null,
   "metadata": {},
   "outputs": [
    {
     "data": {
      "image/png": "[encoded data removed]",
      "text/plain": [
       "<Figure size 432x288 with 1 Axes>"
      ]
     },
     "metadata": {},
     "output_type": "display_data"
    }
   ],
   "source": [
    "for epoch in range(num_epochs):\n",
    "\n",
    "    for i in range(len(images) // batch_size):\n",
    "        \n",
    "        #sample images\n",
    "        batch_image = images[i * batch_size:(i + 1) * batch_size]\n",
    "        \n",
    "        #sample the condition that is, digit we want to generate\n",
    "        batch_c = labels[i * batch_size:(i + 1) * batch_size]\n",
    "        \n",
    "        #sample noise\n",
    "        batch_noise = np.random.normal(0, 1, (batch_size, 100))\n",
    "        \n",
    "        #train the generator\n",
    "        generator_loss, _ = session.run([D_loss, D_optimizer], {x: batch_image, c: batch_c, z: batch_noise})\n",
    "           \n",
    "        #train the discriminator\n",
    "        discriminator_loss, _ = session.run([G_loss, G_optimizer],  {x: batch_image, c: batch_c, z: batch_noise})\n",
    "    \n",
    "    #sample noise\n",
    "    noise = np.random.rand(1,100)\n",
    "    \n",
    "    #select specific digit\n",
    "    gen_label = np.array([[label_to_generate]]).reshape(-1)\n",
    "    \n",
    "    #convert the selected digit\n",
    "    one_hot_targets = np.eye(num_classes)[gen_label]\n",
    "    \n",
    "    #Feed the noise and one hot encoded condition to the generator and generate the fake image\n",
    "    _fake_x = session.run(fake_x, {z: noise, c: one_hot_targets})\n",
    "    _fake_x = _fake_x.reshape(28,28)\n",
    "    \n",
    "   \n",
    "    \n",
    "    print(\"Epoch: {},Discriminator Loss:{}, Generator Loss: {}\".format(epoch,discriminator_loss,generator_loss))\n",
    "    \n",
    "    #plot the generated image\n",
    "    display.clear_output(wait=True)\n",
    "    plt.imshow(_fake_x) \n",
    "    plt.show()"
   ]
  },
  {
   "cell_type": "markdown",
   "metadata": {},
   "source": [
    "Thus, with CGAN we can generate a speific image that we want to generate. In the next section, we will learn about InfoGAN which is the unsupervised version of CGAN."
   ]
  }
 ],
 "metadata": {
  "kernelspec": {
   "display_name": "Python 2",
   "language": "python",
   "name": "python2"
  },
  "language_info": {
   "codemirror_mode": {
    "name": "ipython",
    "version": 2
   },
   "file_extension": ".py",
   "mimetype": "text/x-python",
   "name": "python",
   "nbconvert_exporter": "python",
   "pygments_lexer": "ipython2",
   "version": "2.7.12"
  }
 },
 "nbformat": 4,
 "nbformat_minor": 2
}
